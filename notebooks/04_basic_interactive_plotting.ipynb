{
 "cells": [
  {
   "cell_type": "markdown",
   "metadata": {},
   "source": [
    "# Interactive Plotting with `bokeh`\n",
    "\n",
    "This notebook shows how to build some simple interactive plots with bokeh. Change parameters and datasets to mix things up and create your own data visualisations! 📈📊📉\n",
    "\n",
    "There are also excellent interactive `bokeh` tutorials [here](https://mybinder.org/v2/gh/bokeh/bokeh-notebooks/master?filepath=tutorial%2F00%20-%20Introduction%20and%20Setup.ipynb)."
   ]
  },
  {
   "cell_type": "markdown",
   "metadata": {},
   "source": [
    "## Preamble"
   ]
  },
  {
   "cell_type": "code",
   "execution_count": null,
   "metadata": {},
   "outputs": [],
   "source": [
    "%load_ext autoreload\n",
    "%autoreload 2\n",
    "# install im_tutorial package\n",
    "!pip install --upgrade git+https://github.com/nestauk/im_tutorials.git"
   ]
  },
  {
   "cell_type": "code",
   "execution_count": null,
   "metadata": {},
   "outputs": [],
   "source": [
    "# useful Python tools\n",
    "import itertools\n",
    "import collections\n",
    "\n",
    "# matplotlib for static plots\n",
    "import matplotlib.pyplot as plt\n",
    "# networkx for networks\n",
    "import networkx as nx\n",
    "# numpy for mathematical functions\n",
    "import numpy as np\n",
    "# pandas for handling tabular data\n",
    "import pandas as pd\n",
    "# seaborn for pretty statistical plots\n",
    "import seaborn as sns\n",
    "\n",
    "pd.set_option('max_columns', 99)\n",
    "\n",
    "# basic bokeh imports for an interactive scatter plot or line chart\n",
    "from bokeh.io import show, output_notebook\n",
    "from bokeh.plotting import figure\n",
    "from bokeh.models import ColumnDataSource\n",
    "\n",
    "# NB: If using Google Colab, this function must be run at \n",
    "# the end of any cell that you want to display a bokeh plot.\n",
    "# If using Jupyter, then this line need only appear once at\n",
    "# the start of the notebook.\n",
    "output_notebook()\n",
    "\n",
    "from im_tutorials.data import gis"
   ]
  },
  {
   "cell_type": "markdown",
   "metadata": {},
   "source": [
    "## Scatter Plot"
   ]
  },
  {
   "cell_type": "code",
   "execution_count": null,
   "metadata": {},
   "outputs": [],
   "source": [
    "from bokeh.palettes import Category20_20"
   ]
  },
  {
   "cell_type": "raw",
   "metadata": {},
   "source": [
    "country_df = gis.country_basic_info()\n",
    "country_df.head(2)"
   ]
  },
  {
   "cell_type": "code",
   "execution_count": null,
   "metadata": {},
   "outputs": [],
   "source": [
    "country_cds = ColumnDataSource(\n",
    "    country_df[['lat', 'lng', 'population', 'area', 'alpha3Code', 'subregion']],\n",
    ")"
   ]
  },
  {
   "cell_type": "code",
   "execution_count": null,
   "metadata": {},
   "outputs": [],
   "source": [
    "from bokeh.transform import factor_cmap"
   ]
  },
  {
   "cell_type": "code",
   "execution_count": null,
   "metadata": {},
   "outputs": [],
   "source": [
    "p = figure(width=800, height=400)\n",
    "\n",
    "p.scatter(source=country_cds, x='lng', y='lat',\n",
    "         color=factor_cmap('subregion', palette=Category20_20, factors=country_df['subregion'].unique()))\n",
    "\n",
    "show(p)\n",
    "\n",
    "# output_notebook()"
   ]
  },
  {
   "cell_type": "code",
   "execution_count": null,
   "metadata": {},
   "outputs": [],
   "source": []
  }
 ],
 "metadata": {
  "language_info": {
   "name": "python",
   "pygments_lexer": "ipython3"
  }
 },
 "nbformat": 4,
 "nbformat_minor": 2
}
