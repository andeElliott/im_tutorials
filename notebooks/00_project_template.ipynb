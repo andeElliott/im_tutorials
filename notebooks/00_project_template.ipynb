{
 "cells": [
  {
   "cell_type": "markdown",
   "metadata": {},
   "source": [
    "# Notebook Template\n",
    "\n",
    "This notebook is a template notebook that simply has a preamble with a few useful imports. Add or delete lines as you need to set up the notebook for your own project!"
   ]
  },
  {
   "cell_type": "markdown",
   "metadata": {},
   "source": [
    "## Preamble"
   ]
  },
  {
   "cell_type": "code",
   "execution_count": null,
   "metadata": {},
   "outputs": [],
   "source": [
    "%load_ext autoreload\n",
    "%autoreload 2\n",
    "# install im_tutorial package\n",
    "!pip install git+https://github.com/nestauk/im_tutorials.git"
   ]
  },
  {
   "cell_type": "code",
   "execution_count": null,
   "metadata": {},
   "outputs": [],
   "source": [
    "# useful Python tools\n",
    "import itertools\n",
    "import collections\n",
    "\n",
    "# matplotlib for static plots\n",
    "import matplotlib.pyplot as plt\n",
    "# networkx for networks\n",
    "import networkx as nx\n",
    "# numpy for mathematical functions\n",
    "import numpy as np\n",
    "# pandas for handling tabular data\n",
    "import pandas as pd\n",
    "# seaborn for pretty statistical plots\n",
    "import seaborn as sns\n",
    "\n",
    "# basic bokeh imports for an interactive scatter plot or line chart\n",
    "from bokeh.io import show, output_notebook\n",
    "from bokeh.plotting import figure\n",
    "from bokeh.models import ColumnDataSource, Circle, Line\n",
    "\n",
    "# NB: If using Google Colab, this function must be run at \n",
    "# the end of any cell that you want to display a bokeh plot.\n",
    "# If using Jupyter, then this line need only appear once at\n",
    "# the start of the notebook.\n",
    "output_notebook()\n",
    "\n",
    "from im_tutorials.data import datasets"
   ]
  },
  {
   "cell_type": "code",
   "execution_count": null,
   "metadata": {},
   "outputs": [],
   "source": [
    "datasets.gateway_to_research_projects??"
   ]
  },
  {
   "cell_type": "code",
   "execution_count": null,
   "metadata": {},
   "outputs": [],
   "source": [
    "def double_eval(x):\n",
    "    return ast.literal_eval(ast.literal_eval(x))\n",
    "\n",
    "def arxiv_papers(year=2017):\n",
    "    '''arxiv_papers\n",
    "    Get arXiv papers csv for a single year and return as dataframe.\n",
    "    \n",
    "    Args:\n",
    "        year (`int`): Year of the dataset.\n",
    "    Returns:\n",
    "        arxiv_df (`pd.DataFrame`): Parsed dataframe of arXiv papers.\n",
    "    '''\n",
    "    bucket='innovation-mapping-tutorials'\n",
    "    gtr_projects_key=f'arxiv_{year}/arxiv_{year}.csv'\n",
    "    arxiv_df = pd.read_csv(\n",
    "        smart_open.smart_open(f'https://s3.us-east-2.amazonaws.com/{bucket}/{gtr_projects_key}'),\n",
    "        index_col=0,\n",
    "        converters={\n",
    "            'authors': double_eval,\n",
    "        },\n",
    "        parse_dates=['created'], \n",
    "    )\n",
    "    arxiv_df['year_created'] = arxiv_df['created'].dt.year\n",
    "    arxiv_df['category_ids'] = arxiv_df['category_ids'].str.split(',') \n",
    "    return arxiv_df"
   ]
  },
  {
   "cell_type": "code",
   "execution_count": null,
   "metadata": {},
   "outputs": [],
   "source": [
    "import smart_open"
   ]
  },
  {
   "cell_type": "code",
   "execution_count": null,
   "metadata": {},
   "outputs": [],
   "source": [
    "df = arxiv_papers()"
   ]
  },
  {
   "cell_type": "code",
   "execution_count": null,
   "metadata": {},
   "outputs": [],
   "source": [
    "df.head()"
   ]
  },
  {
   "cell_type": "code",
   "execution_count": null,
   "metadata": {},
   "outputs": [],
   "source": [
    "df.shape"
   ]
  },
  {
   "cell_type": "markdown",
   "metadata": {},
   "source": [
    "## Import Data"
   ]
  },
  {
   "cell_type": "code",
   "execution_count": null,
   "metadata": {},
   "outputs": [],
   "source": [
    "# The im_tutorials datasets module can be used to easily load datasets.\n",
    "# For example, to load Gateway to Research projects:\n",
    "# gtr_projects_df = datasets.gateway_to_research_projects()"
   ]
  }
 ],
 "metadata": {
  "language_info": {
   "name": "python",
   "pygments_lexer": "ipython3"
  }
 },
 "nbformat": 4,
 "nbformat_minor": 2
}
