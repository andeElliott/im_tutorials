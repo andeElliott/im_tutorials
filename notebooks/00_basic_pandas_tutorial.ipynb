{
 "cells": [
  {
   "cell_type": "markdown",
   "metadata": {},
   "source": [
    "# Simple Intro to Pandas\n",
    "\n",
    "This tutrorial looks at the use of the popular python library Pandas. This is widely used to work with big datasets in ways which one can explore, clean, transformm and wrangle.  \n",
    "\n",
    "**Tutorial Structure**\n",
    "- [Preamble](#Preamble)"
   ]
  },
  {
   "cell_type": "markdown",
   "metadata": {},
   "source": [
    "# Preamble"
   ]
  },
  {
   "cell_type": "code",
   "execution_count": 1,
   "metadata": {},
   "outputs": [
    {
     "name": "stdout",
     "output_type": "stream",
     "text": [
      "Collecting git+https://github.com/nestauk/im_tutorials.git\n",
      "  Cloning https://github.com/nestauk/im_tutorials.git to /tmp/pip-req-build-t9rdtcbm\n",
      "  Running command git clone -q https://github.com/nestauk/im_tutorials.git /tmp/pip-req-build-t9rdtcbm\n",
      "Requirement already satisfied (use --upgrade to upgrade): im-tutorials==0.1.0 from git+https://github.com/nestauk/im_tutorials.git in /home/ao95/miniconda3/envs/pyenv_nesta/lib/python3.6/site-packages\n",
      "Building wheels for collected packages: im-tutorials\n",
      "  Building wheel for im-tutorials (setup.py) ... \u001b[?25ldone\n",
      "\u001b[?25h  Created wheel for im-tutorials: filename=im_tutorials-0.1.0-cp36-none-any.whl size=12596 sha256=233254caafcbeae6ab61da7867abdce1047ba314581a21081ff2f4d2c631f7c0\n",
      "  Stored in directory: /tmp/pip-ephem-wheel-cache-aq8jxtbh/wheels/47/a3/cb/bdc5f9ba49bcfd2c6864b166a1566eb2f104113bf0c3500330\n",
      "Successfully built im-tutorials\n"
     ]
    }
   ],
   "source": [
    "%load_ext autoreload\n",
    "%autoreload 2\n",
    "# install im_tutorial package\n",
    "!pip install git+https://github.com/nestauk/im_tutorials.git"
   ]
  },
  {
   "cell_type": "code",
   "execution_count": 4,
   "metadata": {},
   "outputs": [],
   "source": [
    "# Import\n",
    "\n",
    "# numpy for mathematical functions\n",
    "import numpy as np\n",
    "# pandas for handling tabular data\n",
    "import pandas as pd\n",
    "# explained later\n",
    "from im_tutorials.data import cordis"
   ]
  },
  {
   "cell_type": "markdown",
   "metadata": {},
   "source": [
    "# Read or Import Data"
   ]
  },
  {
   "cell_type": "markdown",
   "metadata": {},
   "source": [
    "## Creating DataFrames"
   ]
  },
  {
   "cell_type": "code",
   "execution_count": 7,
   "metadata": {},
   "outputs": [],
   "source": [
    "# useful for hacking\n",
    "df = pd.DataFrame(\n",
    "    {'col1' : ['a', 'b', 'c'],\n",
    "    'col2' : ['d', 'e', 'f'],\n",
    "    'col3' : [1, 2, 3],\n",
    "    'col4' : [4, 5, 6]}\n",
    ")"
   ]
  },
  {
   "cell_type": "markdown",
   "metadata": {},
   "source": [
    "## Read Files"
   ]
  },
  {
   "cell_type": "code",
   "execution_count": null,
   "metadata": {},
   "outputs": [],
   "source": [
    "#i if working from a local .csv file\n",
    "df = pd.read_csv('file.csv')"
   ]
  },
  {
   "cell_type": "code",
   "execution_count": 6,
   "metadata": {},
   "outputs": [
    {
     "name": "stderr",
     "output_type": "stream",
     "text": [
      "/home/ao95/miniconda3/envs/pyenv_nesta/lib/python3.6/site-packages/smart_open/smart_open_lib.py:398: UserWarning: This function is deprecated, use smart_open.open instead. See the migration notes for details: https://github.com/RaRe-Technologies/smart_open/blob/master/README.rst#migrating-to-the-new-open-function\n",
      "  'See the migration notes for details: %s' % _MIGRATION_NOTES_URL\n"
     ]
    }
   ],
   "source": [
    "# maybe use cordis\n",
    "cordis_projects_df = cordis.h2020_projects()"
   ]
  },
  {
   "cell_type": "markdown",
   "metadata": {},
   "source": [
    "# A Look at the Data"
   ]
  },
  {
   "cell_type": "code",
   "execution_count": 12,
   "metadata": {},
   "outputs": [],
   "source": [
    "# talk about the axes here?"
   ]
  },
  {
   "cell_type": "markdown",
   "metadata": {},
   "source": [
    "Can view the top n rows (by default n=5 if number of rows are over 5)"
   ]
  },
  {
   "cell_type": "code",
   "execution_count": 10,
   "metadata": {
    "scrolled": true
   },
   "outputs": [
    {
     "data": {
      "text/html": [
       "<div>\n",
       "<style scoped>\n",
       "    .dataframe tbody tr th:only-of-type {\n",
       "        vertical-align: middle;\n",
       "    }\n",
       "\n",
       "    .dataframe tbody tr th {\n",
       "        vertical-align: top;\n",
       "    }\n",
       "\n",
       "    .dataframe thead th {\n",
       "        text-align: right;\n",
       "    }\n",
       "</style>\n",
       "<table border=\"1\" class=\"dataframe\">\n",
       "  <thead>\n",
       "    <tr style=\"text-align: right;\">\n",
       "      <th></th>\n",
       "      <th>rcn</th>\n",
       "      <th>id</th>\n",
       "      <th>acronym</th>\n",
       "      <th>status</th>\n",
       "      <th>programme</th>\n",
       "      <th>topics</th>\n",
       "      <th>frameworkProgramme</th>\n",
       "      <th>title</th>\n",
       "      <th>startDate</th>\n",
       "      <th>endDate</th>\n",
       "      <th>...</th>\n",
       "      <th>fundingScheme</th>\n",
       "      <th>coordinator</th>\n",
       "      <th>coordinatorCountry</th>\n",
       "      <th>participants</th>\n",
       "      <th>participantCountries</th>\n",
       "      <th>subjects</th>\n",
       "      <th>organisations</th>\n",
       "      <th>countries</th>\n",
       "      <th>startYear</th>\n",
       "      <th>endYear</th>\n",
       "    </tr>\n",
       "  </thead>\n",
       "  <tbody>\n",
       "    <tr>\n",
       "      <th>0</th>\n",
       "      <td>218249</td>\n",
       "      <td>822106</td>\n",
       "      <td>WeldGalaxy</td>\n",
       "      <td>SIGNED</td>\n",
       "      <td>[H2020-EU.2.1.3., H2020-EU.2.1.5.1.]</td>\n",
       "      <td>DT-NMBP-20-2018</td>\n",
       "      <td>H2020</td>\n",
       "      <td>Digital Dynamic Knowledge Platform for Welding...</td>\n",
       "      <td>2018-10-01</td>\n",
       "      <td>2022-03-31</td>\n",
       "      <td>...</td>\n",
       "      <td>IA-LS</td>\n",
       "      <td>TWI LIMITED</td>\n",
       "      <td>UK</td>\n",
       "      <td>[LULEA TEKNISKA UNIVERSITET, ROMSOFT SRL, TECH...</td>\n",
       "      <td>[SE, RO, UK, NO, PL, FR, IL, ES]</td>\n",
       "      <td>NaN</td>\n",
       "      <td>[TWI LIMITED, LULEA TEKNISKA UNIVERSITET, ROMS...</td>\n",
       "      <td>[UK, SE, RO, UK, NO, PL, FR, IL, ES]</td>\n",
       "      <td>2018.0</td>\n",
       "      <td>2022.0</td>\n",
       "    </tr>\n",
       "    <tr>\n",
       "      <th>1</th>\n",
       "      <td>218272</td>\n",
       "      <td>822064</td>\n",
       "      <td>MARKET4.0</td>\n",
       "      <td>SIGNED</td>\n",
       "      <td>[H2020-EU.2.1.3., H2020-EU.2.1.5.1.]</td>\n",
       "      <td>DT-NMBP-20-2018</td>\n",
       "      <td>H2020</td>\n",
       "      <td>A Multi-Sided Business Platform for Plug and P...</td>\n",
       "      <td>2018-11-01</td>\n",
       "      <td>2022-04-30</td>\n",
       "      <td>...</td>\n",
       "      <td>IA-LS</td>\n",
       "      <td>INTRASOFT INTERNATIONAL SA</td>\n",
       "      <td>BE</td>\n",
       "      <td>[N.BAZIGOS ABEE, NEDERLANDSE ORGANISATIE VOOR ...</td>\n",
       "      <td>[EL, NL, ES, DE, IT, FR, AT, LU, LT]</td>\n",
       "      <td>NaN</td>\n",
       "      <td>[INTRASOFT INTERNATIONAL SA, N.BAZIGOS ABEE, N...</td>\n",
       "      <td>[BE, EL, NL, ES, DE, IT, FR, AT, LU, LT]</td>\n",
       "      <td>2018.0</td>\n",
       "      <td>2022.0</td>\n",
       "    </tr>\n",
       "    <tr>\n",
       "      <th>2</th>\n",
       "      <td>216937</td>\n",
       "      <td>816551</td>\n",
       "      <td>SCOPIO</td>\n",
       "      <td>SIGNED</td>\n",
       "      <td>[H2020-EU.3., H2020-EU.2.3., H2020-EU.2.1.]</td>\n",
       "      <td>EIC-SMEInst-2018-2020</td>\n",
       "      <td>H2020</td>\n",
       "      <td>High-resolution, all-digital microscope that a...</td>\n",
       "      <td>2018-05-01</td>\n",
       "      <td>2018-08-31</td>\n",
       "      <td>...</td>\n",
       "      <td>SME-1</td>\n",
       "      <td>SCOPIO LABS LTD</td>\n",
       "      <td>IL</td>\n",
       "      <td>NaN</td>\n",
       "      <td>NaN</td>\n",
       "      <td>NaN</td>\n",
       "      <td>[SCOPIO LABS LTD]</td>\n",
       "      <td>[IL]</td>\n",
       "      <td>2018.0</td>\n",
       "      <td>2018.0</td>\n",
       "    </tr>\n",
       "  </tbody>\n",
       "</table>\n",
       "<p>3 rows × 25 columns</p>\n",
       "</div>"
      ],
      "text/plain": [
       "      rcn      id     acronym  status  \\\n",
       "0  218249  822106  WeldGalaxy  SIGNED   \n",
       "1  218272  822064   MARKET4.0  SIGNED   \n",
       "2  216937  816551      SCOPIO  SIGNED   \n",
       "\n",
       "                                     programme                 topics  \\\n",
       "0         [H2020-EU.2.1.3., H2020-EU.2.1.5.1.]        DT-NMBP-20-2018   \n",
       "1         [H2020-EU.2.1.3., H2020-EU.2.1.5.1.]        DT-NMBP-20-2018   \n",
       "2  [H2020-EU.3., H2020-EU.2.3., H2020-EU.2.1.]  EIC-SMEInst-2018-2020   \n",
       "\n",
       "  frameworkProgramme                                              title  \\\n",
       "0              H2020  Digital Dynamic Knowledge Platform for Welding...   \n",
       "1              H2020  A Multi-Sided Business Platform for Plug and P...   \n",
       "2              H2020  High-resolution, all-digital microscope that a...   \n",
       "\n",
       "   startDate    endDate   ...   fundingScheme                 coordinator  \\\n",
       "0 2018-10-01 2022-03-31   ...           IA-LS                 TWI LIMITED   \n",
       "1 2018-11-01 2022-04-30   ...           IA-LS  INTRASOFT INTERNATIONAL SA   \n",
       "2 2018-05-01 2018-08-31   ...           SME-1             SCOPIO LABS LTD   \n",
       "\n",
       "   coordinatorCountry                                       participants  \\\n",
       "0                  UK  [LULEA TEKNISKA UNIVERSITET, ROMSOFT SRL, TECH...   \n",
       "1                  BE  [N.BAZIGOS ABEE, NEDERLANDSE ORGANISATIE VOOR ...   \n",
       "2                  IL                                                NaN   \n",
       "\n",
       "                   participantCountries subjects  \\\n",
       "0      [SE, RO, UK, NO, PL, FR, IL, ES]      NaN   \n",
       "1  [EL, NL, ES, DE, IT, FR, AT, LU, LT]      NaN   \n",
       "2                                   NaN      NaN   \n",
       "\n",
       "                                       organisations  \\\n",
       "0  [TWI LIMITED, LULEA TEKNISKA UNIVERSITET, ROMS...   \n",
       "1  [INTRASOFT INTERNATIONAL SA, N.BAZIGOS ABEE, N...   \n",
       "2                                  [SCOPIO LABS LTD]   \n",
       "\n",
       "                                  countries startYear endYear  \n",
       "0      [UK, SE, RO, UK, NO, PL, FR, IL, ES]    2018.0  2022.0  \n",
       "1  [BE, EL, NL, ES, DE, IT, FR, AT, LU, LT]    2018.0  2022.0  \n",
       "2                                      [IL]    2018.0  2018.0  \n",
       "\n",
       "[3 rows x 25 columns]"
      ]
     },
     "execution_count": 10,
     "metadata": {},
     "output_type": "execute_result"
    }
   ],
   "source": [
    "cordis_projects_df.head(n=3)"
   ]
  },
  {
   "cell_type": "markdown",
   "metadata": {},
   "source": [
    "Or view the last n rows (n = 5 by default)"
   ]
  },
  {
   "cell_type": "code",
   "execution_count": 11,
   "metadata": {
    "scrolled": true
   },
   "outputs": [
    {
     "data": {
      "text/html": [
       "<div>\n",
       "<style scoped>\n",
       "    .dataframe tbody tr th:only-of-type {\n",
       "        vertical-align: middle;\n",
       "    }\n",
       "\n",
       "    .dataframe tbody tr th {\n",
       "        vertical-align: top;\n",
       "    }\n",
       "\n",
       "    .dataframe thead th {\n",
       "        text-align: right;\n",
       "    }\n",
       "</style>\n",
       "<table border=\"1\" class=\"dataframe\">\n",
       "  <thead>\n",
       "    <tr style=\"text-align: right;\">\n",
       "      <th></th>\n",
       "      <th>rcn</th>\n",
       "      <th>id</th>\n",
       "      <th>acronym</th>\n",
       "      <th>status</th>\n",
       "      <th>programme</th>\n",
       "      <th>topics</th>\n",
       "      <th>frameworkProgramme</th>\n",
       "      <th>title</th>\n",
       "      <th>startDate</th>\n",
       "      <th>endDate</th>\n",
       "      <th>...</th>\n",
       "      <th>fundingScheme</th>\n",
       "      <th>coordinator</th>\n",
       "      <th>coordinatorCountry</th>\n",
       "      <th>participants</th>\n",
       "      <th>participantCountries</th>\n",
       "      <th>subjects</th>\n",
       "      <th>organisations</th>\n",
       "      <th>countries</th>\n",
       "      <th>startYear</th>\n",
       "      <th>endYear</th>\n",
       "    </tr>\n",
       "  </thead>\n",
       "  <tbody>\n",
       "    <tr>\n",
       "      <th>20511</th>\n",
       "      <td>205207</td>\n",
       "      <td>695136</td>\n",
       "      <td>Secret-Cells</td>\n",
       "      <td>SIGNED</td>\n",
       "      <td>[H2020-EU.1.1.]</td>\n",
       "      <td>ERC-ADG-2015</td>\n",
       "      <td>H2020</td>\n",
       "      <td>Cellular diversity and stress-induced cell-sta...</td>\n",
       "      <td>2016-09-01</td>\n",
       "      <td>2021-08-31</td>\n",
       "      <td>...</td>\n",
       "      <td>ERC-ADG</td>\n",
       "      <td>MEDIZINISCHE UNIVERSITAET WIEN</td>\n",
       "      <td>AT</td>\n",
       "      <td>NaN</td>\n",
       "      <td>NaN</td>\n",
       "      <td>NaN</td>\n",
       "      <td>[MEDIZINISCHE UNIVERSITAET WIEN]</td>\n",
       "      <td>[AT]</td>\n",
       "      <td>2016.0</td>\n",
       "      <td>2021.0</td>\n",
       "    </tr>\n",
       "    <tr>\n",
       "      <th>20512</th>\n",
       "      <td>205186</td>\n",
       "      <td>682022</td>\n",
       "      <td>MEDIATE</td>\n",
       "      <td>SIGNED</td>\n",
       "      <td>[H2020-EU.1.1.]</td>\n",
       "      <td>ERC-CoG-2015</td>\n",
       "      <td>H2020</td>\n",
       "      <td>Middlebrow Enlightenment: Disseminating Ideas,...</td>\n",
       "      <td>2016-09-01</td>\n",
       "      <td>2021-08-31</td>\n",
       "      <td>...</td>\n",
       "      <td>ERC-COG</td>\n",
       "      <td>STICHTING KATHOLIEKE UNIVERSITEIT</td>\n",
       "      <td>NL</td>\n",
       "      <td>NaN</td>\n",
       "      <td>NaN</td>\n",
       "      <td>NaN</td>\n",
       "      <td>[STICHTING KATHOLIEKE UNIVERSITEIT]</td>\n",
       "      <td>[NL]</td>\n",
       "      <td>2016.0</td>\n",
       "      <td>2021.0</td>\n",
       "    </tr>\n",
       "    <tr>\n",
       "      <th>20513</th>\n",
       "      <td>205195</td>\n",
       "      <td>693039</td>\n",
       "      <td>Sphingolead</td>\n",
       "      <td>SIGNED</td>\n",
       "      <td>[H2020-EU.1.1.]</td>\n",
       "      <td>ERC-PoC-2015</td>\n",
       "      <td>H2020</td>\n",
       "      <td>Development of a potent dual GCS/GBA2 inhibito...</td>\n",
       "      <td>2016-09-01</td>\n",
       "      <td>2018-02-28</td>\n",
       "      <td>...</td>\n",
       "      <td>ERC-POC</td>\n",
       "      <td>UNIVERSITEIT LEIDEN</td>\n",
       "      <td>NL</td>\n",
       "      <td>NaN</td>\n",
       "      <td>NaN</td>\n",
       "      <td>NaN</td>\n",
       "      <td>[UNIVERSITEIT LEIDEN]</td>\n",
       "      <td>[NL]</td>\n",
       "      <td>2016.0</td>\n",
       "      <td>2018.0</td>\n",
       "    </tr>\n",
       "  </tbody>\n",
       "</table>\n",
       "<p>3 rows × 25 columns</p>\n",
       "</div>"
      ],
      "text/plain": [
       "          rcn      id       acronym  status        programme        topics  \\\n",
       "20511  205207  695136  Secret-Cells  SIGNED  [H2020-EU.1.1.]  ERC-ADG-2015   \n",
       "20512  205186  682022       MEDIATE  SIGNED  [H2020-EU.1.1.]  ERC-CoG-2015   \n",
       "20513  205195  693039   Sphingolead  SIGNED  [H2020-EU.1.1.]  ERC-PoC-2015   \n",
       "\n",
       "      frameworkProgramme                                              title  \\\n",
       "20511              H2020  Cellular diversity and stress-induced cell-sta...   \n",
       "20512              H2020  Middlebrow Enlightenment: Disseminating Ideas,...   \n",
       "20513              H2020  Development of a potent dual GCS/GBA2 inhibito...   \n",
       "\n",
       "       startDate    endDate   ...   fundingScheme  \\\n",
       "20511 2016-09-01 2021-08-31   ...         ERC-ADG   \n",
       "20512 2016-09-01 2021-08-31   ...         ERC-COG   \n",
       "20513 2016-09-01 2018-02-28   ...         ERC-POC   \n",
       "\n",
       "                             coordinator  coordinatorCountry  participants  \\\n",
       "20511     MEDIZINISCHE UNIVERSITAET WIEN                  AT           NaN   \n",
       "20512  STICHTING KATHOLIEKE UNIVERSITEIT                  NL           NaN   \n",
       "20513                UNIVERSITEIT LEIDEN                  NL           NaN   \n",
       "\n",
       "      participantCountries subjects                        organisations  \\\n",
       "20511                  NaN      NaN     [MEDIZINISCHE UNIVERSITAET WIEN]   \n",
       "20512                  NaN      NaN  [STICHTING KATHOLIEKE UNIVERSITEIT]   \n",
       "20513                  NaN      NaN                [UNIVERSITEIT LEIDEN]   \n",
       "\n",
       "      countries startYear endYear  \n",
       "20511      [AT]    2016.0  2021.0  \n",
       "20512      [NL]    2016.0  2021.0  \n",
       "20513      [NL]    2016.0  2018.0  \n",
       "\n",
       "[3 rows x 25 columns]"
      ]
     },
     "execution_count": 11,
     "metadata": {},
     "output_type": "execute_result"
    }
   ],
   "source": [
    "cordis_projects_df.tail(n=3)"
   ]
  },
  {
   "cell_type": "code",
   "execution_count": 16,
   "metadata": {},
   "outputs": [
    {
     "name": "stdout",
     "output_type": "stream",
     "text": [
      "Column rcn is of int64 type\n",
      "Column id is of int64 type\n",
      "Column acronym is of object type\n",
      "Column status is of object type\n",
      "Column programme is of object type\n",
      "Column topics is of object type\n",
      "Column frameworkProgramme is of object type\n",
      "Column title is of object type\n",
      "Column startDate is of datetime64[ns] type\n",
      "Column endDate is of datetime64[ns] type\n",
      "Column projectUrl is of object type\n",
      "Column objective is of object type\n",
      "Column totalCost is of float64 type\n",
      "Column ecMaxContribution is of float64 type\n",
      "Column call is of object type\n",
      "Column fundingScheme is of object type\n",
      "Column coordinator is of object type\n",
      "Column coordinatorCountry is of object type\n",
      "Column participants is of object type\n",
      "Column participantCountries is of object type\n",
      "Column subjects is of float64 type\n",
      "Column organisations is of object type\n",
      "Column countries is of object type\n",
      "Column startYear is of float64 type\n",
      "Column endYear is of float64 type\n"
     ]
    }
   ],
   "source": [
    "# checking column data types\n",
    "for col in cordis_projects_df.columns:\n",
    "    print(\"Column {} is of {} type\".format(col, cordis_projects_df[col].dtype))"
   ]
  },
  {
   "cell_type": "code",
   "execution_count": null,
   "metadata": {},
   "outputs": [],
   "source": [
    "#exaplain axis 0 and axis 1 (pic of axis)"
   ]
  },
  {
   "cell_type": "markdown",
   "metadata": {},
   "source": [
    "## Maths & Summaries"
   ]
  },
  {
   "cell_type": "code",
   "execution_count": 18,
   "metadata": {},
   "outputs": [
    {
     "data": {
      "text/plain": [
       "col1    abc\n",
       "col2    def\n",
       "col3      6\n",
       "col4     15\n",
       "dtype: object"
      ]
     },
     "execution_count": 18,
     "metadata": {},
     "output_type": "execute_result"
    }
   ],
   "source": [
    "df.sum()"
   ]
  },
  {
   "cell_type": "code",
   "execution_count": 19,
   "metadata": {
    "scrolled": true
   },
   "outputs": [
    {
     "data": {
      "text/plain": [
       "col1    3\n",
       "col2    3\n",
       "col3    3\n",
       "col4    3\n",
       "dtype: int64"
      ]
     },
     "execution_count": 19,
     "metadata": {},
     "output_type": "execute_result"
    }
   ],
   "source": [
    "# count of number of elements present in column\n",
    "df.count()\n",
    "\n",
    "# or if you want the result of one column (can do this for any method)\n",
    "df['col3'].count()"
   ]
  },
  {
   "cell_type": "code",
   "execution_count": 16,
   "metadata": {
    "scrolled": true
   },
   "outputs": [
    {
     "data": {
      "text/html": [
       "<div>\n",
       "<style scoped>\n",
       "    .dataframe tbody tr th:only-of-type {\n",
       "        vertical-align: middle;\n",
       "    }\n",
       "\n",
       "    .dataframe tbody tr th {\n",
       "        vertical-align: top;\n",
       "    }\n",
       "\n",
       "    .dataframe thead th {\n",
       "        text-align: right;\n",
       "    }\n",
       "</style>\n",
       "<table border=\"1\" class=\"dataframe\">\n",
       "  <thead>\n",
       "    <tr style=\"text-align: right;\">\n",
       "      <th></th>\n",
       "      <th>col3</th>\n",
       "      <th>col4</th>\n",
       "    </tr>\n",
       "  </thead>\n",
       "  <tbody>\n",
       "    <tr>\n",
       "      <th>count</th>\n",
       "      <td>3.0</td>\n",
       "      <td>3.0</td>\n",
       "    </tr>\n",
       "    <tr>\n",
       "      <th>mean</th>\n",
       "      <td>2.0</td>\n",
       "      <td>5.0</td>\n",
       "    </tr>\n",
       "    <tr>\n",
       "      <th>std</th>\n",
       "      <td>1.0</td>\n",
       "      <td>1.0</td>\n",
       "    </tr>\n",
       "    <tr>\n",
       "      <th>min</th>\n",
       "      <td>1.0</td>\n",
       "      <td>4.0</td>\n",
       "    </tr>\n",
       "    <tr>\n",
       "      <th>25%</th>\n",
       "      <td>1.5</td>\n",
       "      <td>4.5</td>\n",
       "    </tr>\n",
       "    <tr>\n",
       "      <th>50%</th>\n",
       "      <td>2.0</td>\n",
       "      <td>5.0</td>\n",
       "    </tr>\n",
       "    <tr>\n",
       "      <th>75%</th>\n",
       "      <td>2.5</td>\n",
       "      <td>5.5</td>\n",
       "    </tr>\n",
       "    <tr>\n",
       "      <th>max</th>\n",
       "      <td>3.0</td>\n",
       "      <td>6.0</td>\n",
       "    </tr>\n",
       "  </tbody>\n",
       "</table>\n",
       "</div>"
      ],
      "text/plain": [
       "       col3  col4\n",
       "count   3.0   3.0\n",
       "mean    2.0   5.0\n",
       "std     1.0   1.0\n",
       "min     1.0   4.0\n",
       "25%     1.5   4.5\n",
       "50%     2.0   5.0\n",
       "75%     2.5   5.5\n",
       "max     3.0   6.0"
      ]
     },
     "execution_count": 16,
     "metadata": {},
     "output_type": "execute_result"
    }
   ],
   "source": [
    "# only on numerical columns\n",
    "df.describe()"
   ]
  },
  {
   "cell_type": "code",
   "execution_count": 17,
   "metadata": {},
   "outputs": [
    {
     "data": {
      "text/plain": [
       "col3    2.0\n",
       "col4    5.0\n",
       "dtype: float64"
      ]
     },
     "execution_count": 17,
     "metadata": {},
     "output_type": "execute_result"
    }
   ],
   "source": [
    "#or can separately get this results\n",
    "df.mean()"
   ]
  },
  {
   "cell_type": "markdown",
   "metadata": {},
   "source": [
    "Now try other methods such as .min(), .max(), .mean(), .median(), .var() and .std()."
   ]
  },
  {
   "cell_type": "code",
   "execution_count": 29,
   "metadata": {},
   "outputs": [],
   "source": [
    "# write code here"
   ]
  },
  {
   "cell_type": "code",
   "execution_count": 27,
   "metadata": {},
   "outputs": [
    {
     "data": {
      "text/plain": [
       "0    5\n",
       "1    7\n",
       "2    9\n",
       "dtype: int64"
      ]
     },
     "execution_count": 27,
     "metadata": {},
     "output_type": "execute_result"
    }
   ],
   "source": [
    "#can add across columns\n",
    "\n",
    "df['col3'] + df['col4']"
   ]
  },
  {
   "cell_type": "markdown",
   "metadata": {},
   "source": [
    "Now try add two columns that have different datatypes and see what happens\n"
   ]
  },
  {
   "cell_type": "code",
   "execution_count": null,
   "metadata": {},
   "outputs": [],
   "source": [
    "# write code here"
   ]
  },
  {
   "cell_type": "markdown",
   "metadata": {},
   "source": [
    "# Cleaning"
   ]
  },
  {
   "cell_type": "markdown",
   "metadata": {},
   "source": [
    "Handling Missing Data"
   ]
  },
  {
   "cell_type": "code",
   "execution_count": null,
   "metadata": {},
   "outputs": [],
   "source": [
    "df.drop(columns, inplace=True, axis=1)"
   ]
  },
  {
   "cell_type": "markdown",
   "metadata": {},
   "source": [
    "filter(using conditons)"
   ]
  },
  {
   "cell_type": "markdown",
   "metadata": {},
   "source": [
    "## po"
   ]
  },
  {
   "cell_type": "markdown",
   "metadata": {},
   "source": [
    "# Data Wrangling"
   ]
  },
  {
   "cell_type": "code",
   "execution_count": null,
   "metadata": {},
   "outputs": [],
   "source": [
    "# add new columns\n",
    "cordis_projects_df['ones'] \n",
    "#group data & apply a function"
   ]
  },
  {
   "cell_type": "markdown",
   "metadata": {},
   "source": [
    "# Available Datasets"
   ]
  },
  {
   "cell_type": "markdown",
   "metadata": {},
   "source": [
    "How to read these"
   ]
  }
 ],
 "metadata": {
  "kernelspec": {
   "display_name": "Python 3",
   "language": "python",
   "name": "python3"
  },
  "language_info": {
   "codemirror_mode": {
    "name": "ipython",
    "version": 3
   },
   "file_extension": ".py",
   "mimetype": "text/x-python",
   "name": "python",
   "nbconvert_exporter": "python",
   "pygments_lexer": "ipython3",
   "version": "3.6.9"
  },
  "toc": {
   "base_numbering": 1,
   "nav_menu": {},
   "number_sections": true,
   "sideBar": true,
   "skip_h1_title": false,
   "title_cell": "Table of Contents",
   "title_sidebar": "Contents",
   "toc_cell": false,
   "toc_position": {},
   "toc_section_display": true,
   "toc_window_display": false
  }
 },
 "nbformat": 4,
 "nbformat_minor": 2
}
