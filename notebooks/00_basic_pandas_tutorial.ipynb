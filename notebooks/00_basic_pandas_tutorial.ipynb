{
 "cells": [
  {
   "cell_type": "markdown",
   "metadata": {},
   "source": [
    "# Simple Intro to Pandas\n",
    "\n",
    "This tutrorial looks at the use of the popular python library Pandas. This is widely used to work with big datasets in ways which one can explore, clean, transformm and wrangle.  \n",
    "\n",
    "**Tutorial Structure**\n",
    "- [Preamble](#Preamble)"
   ]
  },
  {
   "cell_type": "markdown",
   "metadata": {},
   "source": [
    "# Preamble"
   ]
  },
  {
   "cell_type": "code",
   "execution_count": 1,
   "metadata": {},
   "outputs": [
    {
     "name": "stdout",
     "output_type": "stream",
     "text": [
      "Collecting git+https://github.com/nestauk/im_tutorials.git\n",
      "  Cloning https://github.com/nestauk/im_tutorials.git to /tmp/pip-req-build-8g9qr_0y\n",
      "  Running command git clone -q https://github.com/nestauk/im_tutorials.git /tmp/pip-req-build-8g9qr_0y\n",
      "Requirement already satisfied (use --upgrade to upgrade): im-tutorials==0.1.0 from git+https://github.com/nestauk/im_tutorials.git in /home/ao95/miniconda3/envs/pyenv_nesta/lib/python3.6/site-packages\n",
      "Building wheels for collected packages: im-tutorials\n",
      "  Building wheel for im-tutorials (setup.py) ... \u001b[?25ldone\n",
      "\u001b[?25h  Created wheel for im-tutorials: filename=im_tutorials-0.1.0-cp36-none-any.whl size=12596 sha256=1ebcb71ce69cfd10c4c4e2fed1c62108a50fda77ee094db1d2a3c49659f630e4\n",
      "  Stored in directory: /tmp/pip-ephem-wheel-cache-p_6q37yz/wheels/47/a3/cb/bdc5f9ba49bcfd2c6864b166a1566eb2f104113bf0c3500330\n",
      "Successfully built im-tutorials\n"
     ]
    }
   ],
   "source": [
    "%load_ext autoreload\n",
    "%autoreload 2\n",
    "# install im_tutorial package\n",
    "!pip install git+https://github.com/nestauk/im_tutorials.git"
   ]
  },
  {
   "cell_type": "code",
   "execution_count": 2,
   "metadata": {},
   "outputs": [],
   "source": [
    "# numpy for mathematical functions\n",
    "import numpy as np\n",
    "# pandas for handling tabular data\n",
    "import pandas as pd\n",
    "# explained later\n",
    "from im_tutorials.data import cordis"
   ]
  },
  {
   "cell_type": "markdown",
   "metadata": {},
   "source": [
    "# Import Data"
   ]
  },
  {
   "cell_type": "markdown",
   "metadata": {},
   "source": [
    "## Creating DataFrames\n",
    "\n",
    "There are cases where you may hardcode for hacking-uses. This is one way to create a dataframe from scratch."
   ]
  },
  {
   "cell_type": "code",
   "execution_count": 4,
   "metadata": {},
   "outputs": [],
   "source": [
    "# useful for hacking\n",
    "df_1 = pd.DataFrame(\n",
    "    {'col1' : ['a', 'b', None,'c'],\n",
    "    'col2' : ['d', 'e', 'f','g'],\n",
    "    'col3' : [1, 2, 3, None],\n",
    "    'col4' : [4, 5, 6, 7]}\n",
    ")"
   ]
  },
  {
   "cell_type": "code",
   "execution_count": 76,
   "metadata": {},
   "outputs": [
    {
     "data": {
      "text/html": [
       "<div>\n",
       "<style scoped>\n",
       "    .dataframe tbody tr th:only-of-type {\n",
       "        vertical-align: middle;\n",
       "    }\n",
       "\n",
       "    .dataframe tbody tr th {\n",
       "        vertical-align: top;\n",
       "    }\n",
       "\n",
       "    .dataframe thead th {\n",
       "        text-align: right;\n",
       "    }\n",
       "</style>\n",
       "<table border=\"1\" class=\"dataframe\">\n",
       "  <thead>\n",
       "    <tr style=\"text-align: right;\">\n",
       "      <th></th>\n",
       "      <th>col1</th>\n",
       "      <th>col2</th>\n",
       "      <th>col3</th>\n",
       "      <th>col4</th>\n",
       "    </tr>\n",
       "  </thead>\n",
       "  <tbody>\n",
       "    <tr>\n",
       "      <th>0</th>\n",
       "      <td>a</td>\n",
       "      <td>d</td>\n",
       "      <td>1.0</td>\n",
       "      <td>4</td>\n",
       "    </tr>\n",
       "    <tr>\n",
       "      <th>1</th>\n",
       "      <td>b</td>\n",
       "      <td>e</td>\n",
       "      <td>2.0</td>\n",
       "      <td>5</td>\n",
       "    </tr>\n",
       "    <tr>\n",
       "      <th>2</th>\n",
       "      <td>None</td>\n",
       "      <td>f</td>\n",
       "      <td>3.0</td>\n",
       "      <td>6</td>\n",
       "    </tr>\n",
       "    <tr>\n",
       "      <th>3</th>\n",
       "      <td>c</td>\n",
       "      <td>g</td>\n",
       "      <td>NaN</td>\n",
       "      <td>7</td>\n",
       "    </tr>\n",
       "  </tbody>\n",
       "</table>\n",
       "</div>"
      ],
      "text/plain": [
       "   col1 col2  col3  col4\n",
       "0     a    d   1.0     4\n",
       "1     b    e   2.0     5\n",
       "2  None    f   3.0     6\n",
       "3     c    g   NaN     7"
      ]
     },
     "execution_count": 76,
     "metadata": {},
     "output_type": "execute_result"
    }
   ],
   "source": [
    "df_1"
   ]
  },
  {
   "cell_type": "markdown",
   "metadata": {},
   "source": [
    "## Read Files"
   ]
  },
  {
   "cell_type": "code",
   "execution_count": null,
   "metadata": {},
   "outputs": [],
   "source": [
    "#i if working from a local .csv file\n",
    "df = pd.read_csv('file.csv')"
   ]
  },
  {
   "cell_type": "code",
   "execution_count": 5,
   "metadata": {},
   "outputs": [
    {
     "name": "stderr",
     "output_type": "stream",
     "text": [
      "/home/ao95/miniconda3/envs/pyenv_nesta/lib/python3.6/site-packages/smart_open/smart_open_lib.py:398: UserWarning: This function is deprecated, use smart_open.open instead. See the migration notes for details: https://github.com/RaRe-Technologies/smart_open/blob/master/README.rst#migrating-to-the-new-open-function\n",
      "  'See the migration notes for details: %s' % _MIGRATION_NOTES_URL\n"
     ]
    }
   ],
   "source": [
    "# maybe use cordis\n",
    "cordis_projects_df = cordis.h2020_projects()"
   ]
  },
  {
   "cell_type": "markdown",
   "metadata": {},
   "source": [
    "# A Look at the Data"
   ]
  },
  {
   "cell_type": "code",
   "execution_count": 12,
   "metadata": {},
   "outputs": [],
   "source": [
    "# talk about the axes here?"
   ]
  },
  {
   "cell_type": "markdown",
   "metadata": {},
   "source": [
    "Can view the top n rows (by default n=5 if number of rows are over 5)"
   ]
  },
  {
   "cell_type": "code",
   "execution_count": 6,
   "metadata": {
    "scrolled": true
   },
   "outputs": [
    {
     "data": {
      "text/html": [
       "<div>\n",
       "<style scoped>\n",
       "    .dataframe tbody tr th:only-of-type {\n",
       "        vertical-align: middle;\n",
       "    }\n",
       "\n",
       "    .dataframe tbody tr th {\n",
       "        vertical-align: top;\n",
       "    }\n",
       "\n",
       "    .dataframe thead th {\n",
       "        text-align: right;\n",
       "    }\n",
       "</style>\n",
       "<table border=\"1\" class=\"dataframe\">\n",
       "  <thead>\n",
       "    <tr style=\"text-align: right;\">\n",
       "      <th></th>\n",
       "      <th>rcn</th>\n",
       "      <th>id</th>\n",
       "      <th>acronym</th>\n",
       "      <th>status</th>\n",
       "      <th>programme</th>\n",
       "      <th>topics</th>\n",
       "      <th>frameworkProgramme</th>\n",
       "      <th>title</th>\n",
       "      <th>startDate</th>\n",
       "      <th>endDate</th>\n",
       "      <th>...</th>\n",
       "      <th>fundingScheme</th>\n",
       "      <th>coordinator</th>\n",
       "      <th>coordinatorCountry</th>\n",
       "      <th>participants</th>\n",
       "      <th>participantCountries</th>\n",
       "      <th>subjects</th>\n",
       "      <th>organisations</th>\n",
       "      <th>countries</th>\n",
       "      <th>startYear</th>\n",
       "      <th>endYear</th>\n",
       "    </tr>\n",
       "  </thead>\n",
       "  <tbody>\n",
       "    <tr>\n",
       "      <th>0</th>\n",
       "      <td>218249</td>\n",
       "      <td>822106</td>\n",
       "      <td>WeldGalaxy</td>\n",
       "      <td>SIGNED</td>\n",
       "      <td>[H2020-EU.2.1.3., H2020-EU.2.1.5.1.]</td>\n",
       "      <td>DT-NMBP-20-2018</td>\n",
       "      <td>H2020</td>\n",
       "      <td>Digital Dynamic Knowledge Platform for Welding...</td>\n",
       "      <td>2018-10-01</td>\n",
       "      <td>2022-03-31</td>\n",
       "      <td>...</td>\n",
       "      <td>IA-LS</td>\n",
       "      <td>TWI LIMITED</td>\n",
       "      <td>UK</td>\n",
       "      <td>[LULEA TEKNISKA UNIVERSITET, ROMSOFT SRL, TECH...</td>\n",
       "      <td>[SE, RO, UK, NO, PL, FR, IL, ES]</td>\n",
       "      <td>NaN</td>\n",
       "      <td>[TWI LIMITED, LULEA TEKNISKA UNIVERSITET, ROMS...</td>\n",
       "      <td>[UK, SE, RO, UK, NO, PL, FR, IL, ES]</td>\n",
       "      <td>2018.0</td>\n",
       "      <td>2022.0</td>\n",
       "    </tr>\n",
       "    <tr>\n",
       "      <th>1</th>\n",
       "      <td>218272</td>\n",
       "      <td>822064</td>\n",
       "      <td>MARKET4.0</td>\n",
       "      <td>SIGNED</td>\n",
       "      <td>[H2020-EU.2.1.3., H2020-EU.2.1.5.1.]</td>\n",
       "      <td>DT-NMBP-20-2018</td>\n",
       "      <td>H2020</td>\n",
       "      <td>A Multi-Sided Business Platform for Plug and P...</td>\n",
       "      <td>2018-11-01</td>\n",
       "      <td>2022-04-30</td>\n",
       "      <td>...</td>\n",
       "      <td>IA-LS</td>\n",
       "      <td>INTRASOFT INTERNATIONAL SA</td>\n",
       "      <td>BE</td>\n",
       "      <td>[N.BAZIGOS ABEE, NEDERLANDSE ORGANISATIE VOOR ...</td>\n",
       "      <td>[EL, NL, ES, DE, IT, FR, AT, LU, LT]</td>\n",
       "      <td>NaN</td>\n",
       "      <td>[INTRASOFT INTERNATIONAL SA, N.BAZIGOS ABEE, N...</td>\n",
       "      <td>[BE, EL, NL, ES, DE, IT, FR, AT, LU, LT]</td>\n",
       "      <td>2018.0</td>\n",
       "      <td>2022.0</td>\n",
       "    </tr>\n",
       "    <tr>\n",
       "      <th>2</th>\n",
       "      <td>216937</td>\n",
       "      <td>816551</td>\n",
       "      <td>SCOPIO</td>\n",
       "      <td>SIGNED</td>\n",
       "      <td>[H2020-EU.3., H2020-EU.2.3., H2020-EU.2.1.]</td>\n",
       "      <td>EIC-SMEInst-2018-2020</td>\n",
       "      <td>H2020</td>\n",
       "      <td>High-resolution, all-digital microscope that a...</td>\n",
       "      <td>2018-05-01</td>\n",
       "      <td>2018-08-31</td>\n",
       "      <td>...</td>\n",
       "      <td>SME-1</td>\n",
       "      <td>SCOPIO LABS LTD</td>\n",
       "      <td>IL</td>\n",
       "      <td>NaN</td>\n",
       "      <td>NaN</td>\n",
       "      <td>NaN</td>\n",
       "      <td>[SCOPIO LABS LTD]</td>\n",
       "      <td>[IL]</td>\n",
       "      <td>2018.0</td>\n",
       "      <td>2018.0</td>\n",
       "    </tr>\n",
       "  </tbody>\n",
       "</table>\n",
       "<p>3 rows × 25 columns</p>\n",
       "</div>"
      ],
      "text/plain": [
       "      rcn      id     acronym  status  \\\n",
       "0  218249  822106  WeldGalaxy  SIGNED   \n",
       "1  218272  822064   MARKET4.0  SIGNED   \n",
       "2  216937  816551      SCOPIO  SIGNED   \n",
       "\n",
       "                                     programme                 topics  \\\n",
       "0         [H2020-EU.2.1.3., H2020-EU.2.1.5.1.]        DT-NMBP-20-2018   \n",
       "1         [H2020-EU.2.1.3., H2020-EU.2.1.5.1.]        DT-NMBP-20-2018   \n",
       "2  [H2020-EU.3., H2020-EU.2.3., H2020-EU.2.1.]  EIC-SMEInst-2018-2020   \n",
       "\n",
       "  frameworkProgramme                                              title  \\\n",
       "0              H2020  Digital Dynamic Knowledge Platform for Welding...   \n",
       "1              H2020  A Multi-Sided Business Platform for Plug and P...   \n",
       "2              H2020  High-resolution, all-digital microscope that a...   \n",
       "\n",
       "   startDate    endDate   ...   fundingScheme                 coordinator  \\\n",
       "0 2018-10-01 2022-03-31   ...           IA-LS                 TWI LIMITED   \n",
       "1 2018-11-01 2022-04-30   ...           IA-LS  INTRASOFT INTERNATIONAL SA   \n",
       "2 2018-05-01 2018-08-31   ...           SME-1             SCOPIO LABS LTD   \n",
       "\n",
       "   coordinatorCountry                                       participants  \\\n",
       "0                  UK  [LULEA TEKNISKA UNIVERSITET, ROMSOFT SRL, TECH...   \n",
       "1                  BE  [N.BAZIGOS ABEE, NEDERLANDSE ORGANISATIE VOOR ...   \n",
       "2                  IL                                                NaN   \n",
       "\n",
       "                   participantCountries subjects  \\\n",
       "0      [SE, RO, UK, NO, PL, FR, IL, ES]      NaN   \n",
       "1  [EL, NL, ES, DE, IT, FR, AT, LU, LT]      NaN   \n",
       "2                                   NaN      NaN   \n",
       "\n",
       "                                       organisations  \\\n",
       "0  [TWI LIMITED, LULEA TEKNISKA UNIVERSITET, ROMS...   \n",
       "1  [INTRASOFT INTERNATIONAL SA, N.BAZIGOS ABEE, N...   \n",
       "2                                  [SCOPIO LABS LTD]   \n",
       "\n",
       "                                  countries startYear endYear  \n",
       "0      [UK, SE, RO, UK, NO, PL, FR, IL, ES]    2018.0  2022.0  \n",
       "1  [BE, EL, NL, ES, DE, IT, FR, AT, LU, LT]    2018.0  2022.0  \n",
       "2                                      [IL]    2018.0  2018.0  \n",
       "\n",
       "[3 rows x 25 columns]"
      ]
     },
     "execution_count": 6,
     "metadata": {},
     "output_type": "execute_result"
    }
   ],
   "source": [
    "cordis_projects_df.head(n=3)"
   ]
  },
  {
   "cell_type": "markdown",
   "metadata": {},
   "source": [
    "Or view the last n rows (n = 5 by default)"
   ]
  },
  {
   "cell_type": "code",
   "execution_count": 7,
   "metadata": {
    "scrolled": false
   },
   "outputs": [
    {
     "data": {
      "text/html": [
       "<div>\n",
       "<style scoped>\n",
       "    .dataframe tbody tr th:only-of-type {\n",
       "        vertical-align: middle;\n",
       "    }\n",
       "\n",
       "    .dataframe tbody tr th {\n",
       "        vertical-align: top;\n",
       "    }\n",
       "\n",
       "    .dataframe thead th {\n",
       "        text-align: right;\n",
       "    }\n",
       "</style>\n",
       "<table border=\"1\" class=\"dataframe\">\n",
       "  <thead>\n",
       "    <tr style=\"text-align: right;\">\n",
       "      <th></th>\n",
       "      <th>rcn</th>\n",
       "      <th>id</th>\n",
       "      <th>acronym</th>\n",
       "      <th>status</th>\n",
       "      <th>programme</th>\n",
       "      <th>topics</th>\n",
       "      <th>frameworkProgramme</th>\n",
       "      <th>title</th>\n",
       "      <th>startDate</th>\n",
       "      <th>endDate</th>\n",
       "      <th>...</th>\n",
       "      <th>fundingScheme</th>\n",
       "      <th>coordinator</th>\n",
       "      <th>coordinatorCountry</th>\n",
       "      <th>participants</th>\n",
       "      <th>participantCountries</th>\n",
       "      <th>subjects</th>\n",
       "      <th>organisations</th>\n",
       "      <th>countries</th>\n",
       "      <th>startYear</th>\n",
       "      <th>endYear</th>\n",
       "    </tr>\n",
       "  </thead>\n",
       "  <tbody>\n",
       "    <tr>\n",
       "      <th>20511</th>\n",
       "      <td>205207</td>\n",
       "      <td>695136</td>\n",
       "      <td>Secret-Cells</td>\n",
       "      <td>SIGNED</td>\n",
       "      <td>[H2020-EU.1.1.]</td>\n",
       "      <td>ERC-ADG-2015</td>\n",
       "      <td>H2020</td>\n",
       "      <td>Cellular diversity and stress-induced cell-sta...</td>\n",
       "      <td>2016-09-01</td>\n",
       "      <td>2021-08-31</td>\n",
       "      <td>...</td>\n",
       "      <td>ERC-ADG</td>\n",
       "      <td>MEDIZINISCHE UNIVERSITAET WIEN</td>\n",
       "      <td>AT</td>\n",
       "      <td>NaN</td>\n",
       "      <td>NaN</td>\n",
       "      <td>NaN</td>\n",
       "      <td>[MEDIZINISCHE UNIVERSITAET WIEN]</td>\n",
       "      <td>[AT]</td>\n",
       "      <td>2016.0</td>\n",
       "      <td>2021.0</td>\n",
       "    </tr>\n",
       "    <tr>\n",
       "      <th>20512</th>\n",
       "      <td>205186</td>\n",
       "      <td>682022</td>\n",
       "      <td>MEDIATE</td>\n",
       "      <td>SIGNED</td>\n",
       "      <td>[H2020-EU.1.1.]</td>\n",
       "      <td>ERC-CoG-2015</td>\n",
       "      <td>H2020</td>\n",
       "      <td>Middlebrow Enlightenment: Disseminating Ideas,...</td>\n",
       "      <td>2016-09-01</td>\n",
       "      <td>2021-08-31</td>\n",
       "      <td>...</td>\n",
       "      <td>ERC-COG</td>\n",
       "      <td>STICHTING KATHOLIEKE UNIVERSITEIT</td>\n",
       "      <td>NL</td>\n",
       "      <td>NaN</td>\n",
       "      <td>NaN</td>\n",
       "      <td>NaN</td>\n",
       "      <td>[STICHTING KATHOLIEKE UNIVERSITEIT]</td>\n",
       "      <td>[NL]</td>\n",
       "      <td>2016.0</td>\n",
       "      <td>2021.0</td>\n",
       "    </tr>\n",
       "    <tr>\n",
       "      <th>20513</th>\n",
       "      <td>205195</td>\n",
       "      <td>693039</td>\n",
       "      <td>Sphingolead</td>\n",
       "      <td>SIGNED</td>\n",
       "      <td>[H2020-EU.1.1.]</td>\n",
       "      <td>ERC-PoC-2015</td>\n",
       "      <td>H2020</td>\n",
       "      <td>Development of a potent dual GCS/GBA2 inhibito...</td>\n",
       "      <td>2016-09-01</td>\n",
       "      <td>2018-02-28</td>\n",
       "      <td>...</td>\n",
       "      <td>ERC-POC</td>\n",
       "      <td>UNIVERSITEIT LEIDEN</td>\n",
       "      <td>NL</td>\n",
       "      <td>NaN</td>\n",
       "      <td>NaN</td>\n",
       "      <td>NaN</td>\n",
       "      <td>[UNIVERSITEIT LEIDEN]</td>\n",
       "      <td>[NL]</td>\n",
       "      <td>2016.0</td>\n",
       "      <td>2018.0</td>\n",
       "    </tr>\n",
       "  </tbody>\n",
       "</table>\n",
       "<p>3 rows × 25 columns</p>\n",
       "</div>"
      ],
      "text/plain": [
       "          rcn      id       acronym  status        programme        topics  \\\n",
       "20511  205207  695136  Secret-Cells  SIGNED  [H2020-EU.1.1.]  ERC-ADG-2015   \n",
       "20512  205186  682022       MEDIATE  SIGNED  [H2020-EU.1.1.]  ERC-CoG-2015   \n",
       "20513  205195  693039   Sphingolead  SIGNED  [H2020-EU.1.1.]  ERC-PoC-2015   \n",
       "\n",
       "      frameworkProgramme                                              title  \\\n",
       "20511              H2020  Cellular diversity and stress-induced cell-sta...   \n",
       "20512              H2020  Middlebrow Enlightenment: Disseminating Ideas,...   \n",
       "20513              H2020  Development of a potent dual GCS/GBA2 inhibito...   \n",
       "\n",
       "       startDate    endDate   ...   fundingScheme  \\\n",
       "20511 2016-09-01 2021-08-31   ...         ERC-ADG   \n",
       "20512 2016-09-01 2021-08-31   ...         ERC-COG   \n",
       "20513 2016-09-01 2018-02-28   ...         ERC-POC   \n",
       "\n",
       "                             coordinator  coordinatorCountry  participants  \\\n",
       "20511     MEDIZINISCHE UNIVERSITAET WIEN                  AT           NaN   \n",
       "20512  STICHTING KATHOLIEKE UNIVERSITEIT                  NL           NaN   \n",
       "20513                UNIVERSITEIT LEIDEN                  NL           NaN   \n",
       "\n",
       "      participantCountries subjects                        organisations  \\\n",
       "20511                  NaN      NaN     [MEDIZINISCHE UNIVERSITAET WIEN]   \n",
       "20512                  NaN      NaN  [STICHTING KATHOLIEKE UNIVERSITEIT]   \n",
       "20513                  NaN      NaN                [UNIVERSITEIT LEIDEN]   \n",
       "\n",
       "      countries startYear endYear  \n",
       "20511      [AT]    2016.0  2021.0  \n",
       "20512      [NL]    2016.0  2021.0  \n",
       "20513      [NL]    2016.0  2018.0  \n",
       "\n",
       "[3 rows x 25 columns]"
      ]
     },
     "execution_count": 7,
     "metadata": {},
     "output_type": "execute_result"
    }
   ],
   "source": [
    "cordis_projects_df.tail(n=3)"
   ]
  },
  {
   "cell_type": "code",
   "execution_count": 23,
   "metadata": {},
   "outputs": [
    {
     "data": {
      "text/plain": [
       "RangeIndex(start=0, stop=20514, step=1)"
      ]
     },
     "execution_count": 23,
     "metadata": {},
     "output_type": "execute_result"
    }
   ],
   "source": [
    "cordis_projects_df.index"
   ]
  },
  {
   "cell_type": "code",
   "execution_count": 24,
   "metadata": {},
   "outputs": [
    {
     "data": {
      "text/plain": [
       "Index(['rcn', 'id', 'acronym', 'status', 'programme', 'topics',\n",
       "       'frameworkProgramme', 'title', 'startDate', 'endDate', 'projectUrl',\n",
       "       'objective', 'totalCost', 'ecMaxContribution', 'call', 'fundingScheme',\n",
       "       'coordinator', 'coordinatorCountry', 'participants',\n",
       "       'participantCountries', 'subjects', 'organisations', 'countries',\n",
       "       'startYear', 'endYear', 'half_totalCost'],\n",
       "      dtype='object')"
      ]
     },
     "execution_count": 24,
     "metadata": {},
     "output_type": "execute_result"
    }
   ],
   "source": [
    "cordis_projects_df.columns"
   ]
  },
  {
   "cell_type": "markdown",
   "metadata": {},
   "source": [
    "There are cases where you may want to apply some calculations across rows or columns. This cn be appoached by using the `axis` argumentfound in many functions. \n",
    "- Axis 0- apply on all rows across each column\n",
    "- Axis 1- apply on all columns across each row\n",
    "\n",
    "<img src=\"../reports/figures/axis.png\">\n"
   ]
  },
  {
   "cell_type": "code",
   "execution_count": 32,
   "metadata": {},
   "outputs": [
    {
     "data": {
      "text/plain": [
       "rcn                              int64\n",
       "id                               int64\n",
       "acronym                         object\n",
       "status                          object\n",
       "programme                       object\n",
       "topics                          object\n",
       "frameworkProgramme              object\n",
       "title                           object\n",
       "startDate               datetime64[ns]\n",
       "endDate                 datetime64[ns]\n",
       "projectUrl                      object\n",
       "objective                       object\n",
       "totalCost                      float64\n",
       "ecMaxContribution              float64\n",
       "call                            object\n",
       "fundingScheme                   object\n",
       "coordinator                     object\n",
       "coordinatorCountry              object\n",
       "participants                    object\n",
       "participantCountries            object\n",
       "subjects                       float64\n",
       "organisations                   object\n",
       "countries                       object\n",
       "startYear                      float64\n",
       "endYear                        float64\n",
       "half_totalCost                 float64\n",
       "dtype: object"
      ]
     },
     "execution_count": 32,
     "metadata": {},
     "output_type": "execute_result"
    }
   ],
   "source": [
    "cordis_projects_df.dtypes\n",
    "#panadas way of saying there's non-numerical data in the column"
   ]
  },
  {
   "cell_type": "code",
   "execution_count": 23,
   "metadata": {},
   "outputs": [
    {
     "data": {
      "text/plain": [
       "RangeIndex(start=0, stop=20514, step=1)"
      ]
     },
     "execution_count": 23,
     "metadata": {},
     "output_type": "execute_result"
    }
   ],
   "source": [
    "cordis_projects_df.index"
   ]
  },
  {
   "cell_type": "code",
   "execution_count": 24,
   "metadata": {},
   "outputs": [
    {
     "data": {
      "text/plain": [
       "Index(['rcn', 'id', 'acronym', 'status', 'programme', 'topics',\n",
       "       'frameworkProgramme', 'title', 'startDate', 'endDate', 'projectUrl',\n",
       "       'objective', 'totalCost', 'ecMaxContribution', 'call', 'fundingScheme',\n",
       "       'coordinator', 'coordinatorCountry', 'participants',\n",
       "       'participantCountries', 'subjects', 'organisations', 'countries',\n",
       "       'startYear', 'endYear', 'half_totalCost'],\n",
       "      dtype='object')"
      ]
     },
     "execution_count": 24,
     "metadata": {},
     "output_type": "execute_result"
    }
   ],
   "source": [
    "cordis_projects_df.columns"
   ]
  },
  {
   "cell_type": "code",
   "execution_count": 38,
   "metadata": {
    "collapsed": true
   },
   "outputs": [
    {
     "data": {
      "text/plain": [
       "0       NaN\n",
       "1       NaN\n",
       "2       NaN\n",
       "3       NaN\n",
       "4       NaN\n",
       "5       NaN\n",
       "6       NaN\n",
       "7       NaN\n",
       "8       NaN\n",
       "9       NaN\n",
       "10      NaN\n",
       "11      NaN\n",
       "12      NaN\n",
       "13      NaN\n",
       "14      NaN\n",
       "15      NaN\n",
       "16      NaN\n",
       "17      NaN\n",
       "18      NaN\n",
       "19      NaN\n",
       "20      NaN\n",
       "21      NaN\n",
       "22      NaN\n",
       "23      NaN\n",
       "24      NaN\n",
       "25      NaN\n",
       "26      NaN\n",
       "27      NaN\n",
       "28      NaN\n",
       "29      NaN\n",
       "         ..\n",
       "20484   NaN\n",
       "20485   NaN\n",
       "20486   NaN\n",
       "20487   NaN\n",
       "20488   NaN\n",
       "20489   NaN\n",
       "20490   NaN\n",
       "20491   NaN\n",
       "20492   NaN\n",
       "20493   NaN\n",
       "20494   NaN\n",
       "20495   NaN\n",
       "20496   NaN\n",
       "20497   NaN\n",
       "20498   NaN\n",
       "20499   NaN\n",
       "20500   NaN\n",
       "20501   NaN\n",
       "20502   NaN\n",
       "20503   NaN\n",
       "20504   NaN\n",
       "20505   NaN\n",
       "20506   NaN\n",
       "20507   NaN\n",
       "20508   NaN\n",
       "20509   NaN\n",
       "20510   NaN\n",
       "20511   NaN\n",
       "20512   NaN\n",
       "20513   NaN\n",
       "Name: subjects, Length: 20514, dtype: float64"
      ]
     },
     "execution_count": 38,
     "metadata": {},
     "output_type": "execute_result"
    }
   ],
   "source": [
    "#can look at columns separtely \n",
    "cordis_projects_df['subjects']"
   ]
  },
  {
   "cell_type": "code",
   "execution_count": null,
   "metadata": {},
   "outputs": [],
   "source": [
    "#list of columns\n",
    "cordis_projects_df[['status', 'subjects']]"
   ]
  },
  {
   "cell_type": "code",
   "execution_count": 13,
   "metadata": {
    "collapsed": true
   },
   "outputs": [
    {
     "data": {
      "text/plain": [
       "MSCA-IF-2017                    1335\n",
       "MSCA-IF-2016                    1252\n",
       "MSCA-IF-2014-EF                 1215\n",
       "MSCA-IF-2015-EF                 1073\n",
       "EIC-SMEInst-2018-2020            648\n",
       "ERC-2017-STG                     406\n",
       "ERC-2016-STG                     391\n",
       "ERC-StG-2014                     374\n",
       "ERC-CoG-2014                     369\n",
       "ERC-StG-2015                     349\n",
       "SMEInst-01-2016-2017             327\n",
       "ERC-2017-COG                     326\n",
       "ERC-2016-COG                     314\n",
       "ERC-CoG-2015                     303\n",
       "ERC-ADG-2015                     277\n",
       "SMEInst-10-2016-2017             269\n",
       "ERC-2017-ADG                     257\n",
       "SMEInst-09-2016-2017             238\n",
       "ERC-2016-ADG                     231\n",
       "ERC-2018-STG                     192\n",
       "ERC-ADG-2014                     190\n",
       "ERC-2017-PoC                     160\n",
       "ERC-PoC-2015                     160\n",
       "ERC-PoC-2016                     159\n",
       "SMEInst-02-2016-2017             156\n",
       "SMEInst-07-2016-2017             154\n",
       "SMEInst-11-2016-2017             152\n",
       "MSCA-ITN-2017                    149\n",
       "MSCA-IF-2014-GF                  144\n",
       "MSCA-IF-2015-GF                  135\n",
       "                                ... \n",
       "FCH-01.1-2015                      1\n",
       "HCO-15-2014                        1\n",
       "SESAR.IR-VLD.Wave1-09-2015         1\n",
       "FCH-02.9-2015                      1\n",
       "SCC-02-2014                        1\n",
       "JTI-CS2-2014-CFP01-FRC-02-05       1\n",
       "RUR-12-2017                        1\n",
       "SC5-05b-2015                       1\n",
       "CIRC-03-2016                       1\n",
       "WASTE-2-2014                       1\n",
       "JTI-CS2-2015-CFP02-AIR-02-13       1\n",
       "SFS-06-2014                        1\n",
       "MG-8-7-2017                        1\n",
       "SESAR.IR-VLD.Wave1-20-2015         1\n",
       "BBI-2016-R08                       1\n",
       "JTI-CS2-2016-CFP04-ENG-03-14       1\n",
       "JTI-CS2-2017-CfP07-REG-01-13       1\n",
       "RPAS-01                            1\n",
       "JTI-CS2-2015-CFP02-AIR-01-08       1\n",
       "NMBP-30-2016                       1\n",
       "IMI2-2015-05-03                    1\n",
       "SC5-10-2016                        1\n",
       "FCH-02.1-2014                      1\n",
       "NFRP-15-2014                       1\n",
       "IMI2-2015-06-02                    1\n",
       "JTI-CS2-2015-CFP02-FRC-02-12       1\n",
       "JTI-CS2-2017-CfP07-ENG-03-22       1\n",
       "JTI-CS2-2017-CFP06-SYS-03-12       1\n",
       "ISSI-1-2014                        1\n",
       "MG-2.3-2014                        1\n",
       "Name: topics, Length: 2106, dtype: int64"
      ]
     },
     "execution_count": 13,
     "metadata": {},
     "output_type": "execute_result"
    }
   ],
   "source": [
    "cordis_projects_df['topics'].value_counts()"
   ]
  },
  {
   "cell_type": "markdown",
   "metadata": {},
   "source": [
    "## Maths & Summaries"
   ]
  },
  {
   "cell_type": "code",
   "execution_count": 35,
   "metadata": {},
   "outputs": [
    {
     "data": {
      "text/plain": [
       "col3     6.0\n",
       "col4    22.0\n",
       "dtype: float64"
      ]
     },
     "execution_count": 35,
     "metadata": {},
     "output_type": "execute_result"
    }
   ],
   "source": [
    "df.sum()"
   ]
  },
  {
   "cell_type": "code",
   "execution_count": 36,
   "metadata": {},
   "outputs": [
    {
     "data": {
      "text/plain": [
       "0    5.0\n",
       "1    7.0\n",
       "2    9.0\n",
       "3    7.0\n",
       "dtype: float64"
      ]
     },
     "execution_count": 36,
     "metadata": {},
     "output_type": "execute_result"
    }
   ],
   "source": [
    "# we can also use axis here \n",
    "df.sum(axis=1)"
   ]
  },
  {
   "cell_type": "code",
   "execution_count": 28,
   "metadata": {
    "scrolled": false
   },
   "outputs": [
    {
     "data": {
      "text/plain": [
       "col1    3\n",
       "col2    4\n",
       "col3    3\n",
       "col4    4\n",
       "dtype: int64"
      ]
     },
     "execution_count": 28,
     "metadata": {},
     "output_type": "execute_result"
    }
   ],
   "source": [
    "# count of number of elements present in column\n",
    "df.count()"
   ]
  },
  {
   "cell_type": "code",
   "execution_count": 29,
   "metadata": {},
   "outputs": [
    {
     "data": {
      "text/plain": [
       "3"
      ]
     },
     "execution_count": 29,
     "metadata": {},
     "output_type": "execute_result"
    }
   ],
   "source": [
    "# or if you want the result of one column (can do this for any method)\n",
    "df['col3'].count()"
   ]
  },
  {
   "cell_type": "code",
   "execution_count": 16,
   "metadata": {
    "scrolled": true
   },
   "outputs": [
    {
     "data": {
      "text/html": [
       "<div>\n",
       "<style scoped>\n",
       "    .dataframe tbody tr th:only-of-type {\n",
       "        vertical-align: middle;\n",
       "    }\n",
       "\n",
       "    .dataframe tbody tr th {\n",
       "        vertical-align: top;\n",
       "    }\n",
       "\n",
       "    .dataframe thead th {\n",
       "        text-align: right;\n",
       "    }\n",
       "</style>\n",
       "<table border=\"1\" class=\"dataframe\">\n",
       "  <thead>\n",
       "    <tr style=\"text-align: right;\">\n",
       "      <th></th>\n",
       "      <th>col3</th>\n",
       "      <th>col4</th>\n",
       "    </tr>\n",
       "  </thead>\n",
       "  <tbody>\n",
       "    <tr>\n",
       "      <th>count</th>\n",
       "      <td>3.0</td>\n",
       "      <td>3.0</td>\n",
       "    </tr>\n",
       "    <tr>\n",
       "      <th>mean</th>\n",
       "      <td>2.0</td>\n",
       "      <td>5.0</td>\n",
       "    </tr>\n",
       "    <tr>\n",
       "      <th>std</th>\n",
       "      <td>1.0</td>\n",
       "      <td>1.0</td>\n",
       "    </tr>\n",
       "    <tr>\n",
       "      <th>min</th>\n",
       "      <td>1.0</td>\n",
       "      <td>4.0</td>\n",
       "    </tr>\n",
       "    <tr>\n",
       "      <th>25%</th>\n",
       "      <td>1.5</td>\n",
       "      <td>4.5</td>\n",
       "    </tr>\n",
       "    <tr>\n",
       "      <th>50%</th>\n",
       "      <td>2.0</td>\n",
       "      <td>5.0</td>\n",
       "    </tr>\n",
       "    <tr>\n",
       "      <th>75%</th>\n",
       "      <td>2.5</td>\n",
       "      <td>5.5</td>\n",
       "    </tr>\n",
       "    <tr>\n",
       "      <th>max</th>\n",
       "      <td>3.0</td>\n",
       "      <td>6.0</td>\n",
       "    </tr>\n",
       "  </tbody>\n",
       "</table>\n",
       "</div>"
      ],
      "text/plain": [
       "       col3  col4\n",
       "count   3.0   3.0\n",
       "mean    2.0   5.0\n",
       "std     1.0   1.0\n",
       "min     1.0   4.0\n",
       "25%     1.5   4.5\n",
       "50%     2.0   5.0\n",
       "75%     2.5   5.5\n",
       "max     3.0   6.0"
      ]
     },
     "execution_count": 16,
     "metadata": {},
     "output_type": "execute_result"
    }
   ],
   "source": [
    "# only on numerical columns\n",
    "df.describe()"
   ]
  },
  {
   "cell_type": "code",
   "execution_count": 17,
   "metadata": {},
   "outputs": [
    {
     "data": {
      "text/plain": [
       "col3    2.0\n",
       "col4    5.0\n",
       "dtype: float64"
      ]
     },
     "execution_count": 17,
     "metadata": {},
     "output_type": "execute_result"
    }
   ],
   "source": [
    "#or can separately get this results\n",
    "df.mean()"
   ]
  },
  {
   "cell_type": "markdown",
   "metadata": {},
   "source": [
    "Now try other methods such as .min(), .max(), .median(), .var() and .std()."
   ]
  },
  {
   "cell_type": "code",
   "execution_count": 29,
   "metadata": {},
   "outputs": [],
   "source": [
    "# write code here"
   ]
  },
  {
   "cell_type": "code",
   "execution_count": 27,
   "metadata": {},
   "outputs": [
    {
     "data": {
      "text/plain": [
       "0    5.0\n",
       "1    7.0\n",
       "2    9.0\n",
       "3    NaN\n",
       "dtype: float64"
      ]
     },
     "execution_count": 27,
     "metadata": {},
     "output_type": "execute_result"
    }
   ],
   "source": [
    "#can add across columns\n",
    "\n",
    "df['col3'] + df['col4']"
   ]
  },
  {
   "cell_type": "markdown",
   "metadata": {},
   "source": [
    "Now try add two columns that have different datatypes and see what happens\n"
   ]
  },
  {
   "cell_type": "code",
   "execution_count": null,
   "metadata": {},
   "outputs": [],
   "source": [
    "# write code here"
   ]
  },
  {
   "cell_type": "markdown",
   "metadata": {},
   "source": [
    "# Filtering & Subsets"
   ]
  },
  {
   "cell_type": "code",
   "execution_count": 31,
   "metadata": {
    "scrolled": false
   },
   "outputs": [
    {
     "data": {
      "text/html": [
       "<div>\n",
       "<style scoped>\n",
       "    .dataframe tbody tr th:only-of-type {\n",
       "        vertical-align: middle;\n",
       "    }\n",
       "\n",
       "    .dataframe tbody tr th {\n",
       "        vertical-align: top;\n",
       "    }\n",
       "\n",
       "    .dataframe thead th {\n",
       "        text-align: right;\n",
       "    }\n",
       "</style>\n",
       "<table border=\"1\" class=\"dataframe\">\n",
       "  <thead>\n",
       "    <tr style=\"text-align: right;\">\n",
       "      <th></th>\n",
       "      <th>rcn</th>\n",
       "      <th>id</th>\n",
       "      <th>acronym</th>\n",
       "      <th>status</th>\n",
       "      <th>programme</th>\n",
       "      <th>topics</th>\n",
       "      <th>frameworkProgramme</th>\n",
       "      <th>title</th>\n",
       "      <th>startDate</th>\n",
       "      <th>endDate</th>\n",
       "      <th>...</th>\n",
       "      <th>coordinator</th>\n",
       "      <th>coordinatorCountry</th>\n",
       "      <th>participants</th>\n",
       "      <th>participantCountries</th>\n",
       "      <th>subjects</th>\n",
       "      <th>organisations</th>\n",
       "      <th>countries</th>\n",
       "      <th>startYear</th>\n",
       "      <th>endYear</th>\n",
       "      <th>half_totalCost</th>\n",
       "    </tr>\n",
       "  </thead>\n",
       "  <tbody>\n",
       "    <tr>\n",
       "      <th>0</th>\n",
       "      <td>218249</td>\n",
       "      <td>822106</td>\n",
       "      <td>WeldGalaxy</td>\n",
       "      <td>SIGNED</td>\n",
       "      <td>[H2020-EU.2.1.3., H2020-EU.2.1.5.1.]</td>\n",
       "      <td>DT-NMBP-20-2018</td>\n",
       "      <td>H2020</td>\n",
       "      <td>Digital Dynamic Knowledge Platform for Welding...</td>\n",
       "      <td>2018-10-01</td>\n",
       "      <td>2022-03-31</td>\n",
       "      <td>...</td>\n",
       "      <td>TWI LIMITED</td>\n",
       "      <td>UK</td>\n",
       "      <td>[LULEA TEKNISKA UNIVERSITET, ROMSOFT SRL, TECH...</td>\n",
       "      <td>[SE, RO, UK, NO, PL, FR, IL, ES]</td>\n",
       "      <td>NaN</td>\n",
       "      <td>[TWI LIMITED, LULEA TEKNISKA UNIVERSITET, ROMS...</td>\n",
       "      <td>[UK, SE, RO, UK, NO, PL, FR, IL, ES]</td>\n",
       "      <td>2018.0</td>\n",
       "      <td>2022.0</td>\n",
       "      <td>NaN</td>\n",
       "    </tr>\n",
       "    <tr>\n",
       "      <th>22</th>\n",
       "      <td>210626</td>\n",
       "      <td>755667</td>\n",
       "      <td>BreathSpec</td>\n",
       "      <td>SIGNED</td>\n",
       "      <td>[H2020-EU.3., H2020-EU.2.]</td>\n",
       "      <td>FTIPilot-01-2016</td>\n",
       "      <td>H2020</td>\n",
       "      <td>A rapid, non-invasive, cost-effective, analyti...</td>\n",
       "      <td>2017-05-01</td>\n",
       "      <td>2019-04-30</td>\n",
       "      <td>...</td>\n",
       "      <td>IMSPEX DIAGNOSTICS LIMITED</td>\n",
       "      <td>UK</td>\n",
       "      <td>[REDKNIGHT CONSULTANCY LTD, THE UNIVERSITY OF ...</td>\n",
       "      <td>[UK, IE, DE]</td>\n",
       "      <td>NaN</td>\n",
       "      <td>[IMSPEX DIAGNOSTICS LIMITED, REDKNIGHT CONSULT...</td>\n",
       "      <td>[UK, UK, IE, DE]</td>\n",
       "      <td>2017.0</td>\n",
       "      <td>2019.0</td>\n",
       "      <td>1661586.25</td>\n",
       "    </tr>\n",
       "    <tr>\n",
       "      <th>24</th>\n",
       "      <td>208925</td>\n",
       "      <td>747461</td>\n",
       "      <td>Robust OTFT sensors</td>\n",
       "      <td>SIGNED</td>\n",
       "      <td>[H2020-EU.1.3.2.]</td>\n",
       "      <td>MSCA-IF-2016</td>\n",
       "      <td>H2020</td>\n",
       "      <td>Ultra-robust, flexible organic sensors for app...</td>\n",
       "      <td>2017-07-01</td>\n",
       "      <td>2019-06-30</td>\n",
       "      <td>...</td>\n",
       "      <td>THE CHANCELLOR MASTERS AND SCHOLARS OF THE UNI...</td>\n",
       "      <td>UK</td>\n",
       "      <td>NaN</td>\n",
       "      <td>NaN</td>\n",
       "      <td>NaN</td>\n",
       "      <td>[THE CHANCELLOR MASTERS AND SCHOLARS OF THE UN...</td>\n",
       "      <td>[UK]</td>\n",
       "      <td>2017.0</td>\n",
       "      <td>2019.0</td>\n",
       "      <td>85896.30</td>\n",
       "    </tr>\n",
       "    <tr>\n",
       "      <th>28</th>\n",
       "      <td>208684</td>\n",
       "      <td>750294</td>\n",
       "      <td>NAPANODE</td>\n",
       "      <td>TERMINATED</td>\n",
       "      <td>[H2020-EU.1.3.2.]</td>\n",
       "      <td>MSCA-IF-2016</td>\n",
       "      <td>H2020</td>\n",
       "      <td>Molecular Foundation of Structural and Dynamic...</td>\n",
       "      <td>2017-03-01</td>\n",
       "      <td>2019-02-28</td>\n",
       "      <td>...</td>\n",
       "      <td>THE CHANCELLOR MASTERS AND SCHOLARS OF THE UNI...</td>\n",
       "      <td>UK</td>\n",
       "      <td>NaN</td>\n",
       "      <td>NaN</td>\n",
       "      <td>NaN</td>\n",
       "      <td>[THE CHANCELLOR MASTERS AND SCHOLARS OF THE UN...</td>\n",
       "      <td>[UK]</td>\n",
       "      <td>2017.0</td>\n",
       "      <td>2019.0</td>\n",
       "      <td>91727.40</td>\n",
       "    </tr>\n",
       "    <tr>\n",
       "      <th>30</th>\n",
       "      <td>208574</td>\n",
       "      <td>745808</td>\n",
       "      <td>BCSC-ST</td>\n",
       "      <td>TERMINATED</td>\n",
       "      <td>[H2020-EU.1.3.2.]</td>\n",
       "      <td>MSCA-IF-2016</td>\n",
       "      <td>H2020</td>\n",
       "      <td>Breast cancer stem-like cells specific vulnera...</td>\n",
       "      <td>2017-03-01</td>\n",
       "      <td>2019-02-28</td>\n",
       "      <td>...</td>\n",
       "      <td>UNIVERSITY OF NEWCASTLE UPON TYNE</td>\n",
       "      <td>UK</td>\n",
       "      <td>NaN</td>\n",
       "      <td>NaN</td>\n",
       "      <td>NaN</td>\n",
       "      <td>[UNIVERSITY OF NEWCASTLE UPON TYNE]</td>\n",
       "      <td>[UK]</td>\n",
       "      <td>2017.0</td>\n",
       "      <td>2019.0</td>\n",
       "      <td>97727.40</td>\n",
       "    </tr>\n",
       "  </tbody>\n",
       "</table>\n",
       "<p>5 rows × 26 columns</p>\n",
       "</div>"
      ],
      "text/plain": [
       "       rcn      id              acronym      status  \\\n",
       "0   218249  822106           WeldGalaxy      SIGNED   \n",
       "22  210626  755667           BreathSpec      SIGNED   \n",
       "24  208925  747461  Robust OTFT sensors      SIGNED   \n",
       "28  208684  750294             NAPANODE  TERMINATED   \n",
       "30  208574  745808              BCSC-ST  TERMINATED   \n",
       "\n",
       "                               programme            topics frameworkProgramme  \\\n",
       "0   [H2020-EU.2.1.3., H2020-EU.2.1.5.1.]   DT-NMBP-20-2018              H2020   \n",
       "22            [H2020-EU.3., H2020-EU.2.]  FTIPilot-01-2016              H2020   \n",
       "24                     [H2020-EU.1.3.2.]      MSCA-IF-2016              H2020   \n",
       "28                     [H2020-EU.1.3.2.]      MSCA-IF-2016              H2020   \n",
       "30                     [H2020-EU.1.3.2.]      MSCA-IF-2016              H2020   \n",
       "\n",
       "                                                title  startDate    endDate  \\\n",
       "0   Digital Dynamic Knowledge Platform for Welding... 2018-10-01 2022-03-31   \n",
       "22  A rapid, non-invasive, cost-effective, analyti... 2017-05-01 2019-04-30   \n",
       "24  Ultra-robust, flexible organic sensors for app... 2017-07-01 2019-06-30   \n",
       "28  Molecular Foundation of Structural and Dynamic... 2017-03-01 2019-02-28   \n",
       "30  Breast cancer stem-like cells specific vulnera... 2017-03-01 2019-02-28   \n",
       "\n",
       "        ...                                              coordinator  \\\n",
       "0       ...                                              TWI LIMITED   \n",
       "22      ...                               IMSPEX DIAGNOSTICS LIMITED   \n",
       "24      ...        THE CHANCELLOR MASTERS AND SCHOLARS OF THE UNI...   \n",
       "28      ...        THE CHANCELLOR MASTERS AND SCHOLARS OF THE UNI...   \n",
       "30      ...                        UNIVERSITY OF NEWCASTLE UPON TYNE   \n",
       "\n",
       "   coordinatorCountry                                       participants  \\\n",
       "0                  UK  [LULEA TEKNISKA UNIVERSITET, ROMSOFT SRL, TECH...   \n",
       "22                 UK  [REDKNIGHT CONSULTANCY LTD, THE UNIVERSITY OF ...   \n",
       "24                 UK                                                NaN   \n",
       "28                 UK                                                NaN   \n",
       "30                 UK                                                NaN   \n",
       "\n",
       "                participantCountries subjects  \\\n",
       "0   [SE, RO, UK, NO, PL, FR, IL, ES]      NaN   \n",
       "22                      [UK, IE, DE]      NaN   \n",
       "24                               NaN      NaN   \n",
       "28                               NaN      NaN   \n",
       "30                               NaN      NaN   \n",
       "\n",
       "                                        organisations  \\\n",
       "0   [TWI LIMITED, LULEA TEKNISKA UNIVERSITET, ROMS...   \n",
       "22  [IMSPEX DIAGNOSTICS LIMITED, REDKNIGHT CONSULT...   \n",
       "24  [THE CHANCELLOR MASTERS AND SCHOLARS OF THE UN...   \n",
       "28  [THE CHANCELLOR MASTERS AND SCHOLARS OF THE UN...   \n",
       "30                [UNIVERSITY OF NEWCASTLE UPON TYNE]   \n",
       "\n",
       "                               countries startYear endYear half_totalCost  \n",
       "0   [UK, SE, RO, UK, NO, PL, FR, IL, ES]    2018.0  2022.0            NaN  \n",
       "22                      [UK, UK, IE, DE]    2017.0  2019.0     1661586.25  \n",
       "24                                  [UK]    2017.0  2019.0       85896.30  \n",
       "28                                  [UK]    2017.0  2019.0       91727.40  \n",
       "30                                  [UK]    2017.0  2019.0       97727.40  \n",
       "\n",
       "[5 rows x 26 columns]"
      ]
     },
     "execution_count": 31,
     "metadata": {},
     "output_type": "execute_result"
    }
   ],
   "source": [
    "# getting the subset of where the condition is true \n",
    "cordis_projects_df[cordis_projects_df['coordinatorCountry'] == 'UK'].head()"
   ]
  },
  {
   "cell_type": "code",
   "execution_count": null,
   "metadata": {},
   "outputs": [],
   "source": [
    "#instead of this, can use .loc \n",
    "\n"
   ]
  },
  {
   "cell_type": "code",
   "execution_count": null,
   "metadata": {},
   "outputs": [],
   "source": [
    "# loc iloc\n",
    "#subset of is null/not null"
   ]
  },
  {
   "cell_type": "markdown",
   "metadata": {},
   "source": [
    "# Data Wrangling"
   ]
  },
  {
   "cell_type": "markdown",
   "metadata": {},
   "source": [
    "## Cleaning"
   ]
  },
  {
   "cell_type": "markdown",
   "metadata": {},
   "source": [
    "### Dropping Data"
   ]
  },
  {
   "cell_type": "code",
   "execution_count": null,
   "metadata": {},
   "outputs": [],
   "source": [
    "# drop columns\n",
    "df.drop(columns, inplace=True, axis=1)"
   ]
  },
  {
   "cell_type": "code",
   "execution_count": null,
   "metadata": {},
   "outputs": [],
   "source": [
    "# drop rows \n",
    "df.drop(rows, inplace=True, axis=0)"
   ]
  },
  {
   "cell_type": "markdown",
   "metadata": {},
   "source": [
    "## Handling Missing Data"
   ]
  },
  {
   "cell_type": "markdown",
   "metadata": {},
   "source": [
    "Descriptions"
   ]
  },
  {
   "cell_type": "code",
   "execution_count": null,
   "metadata": {},
   "outputs": [],
   "source": [
    "# another way to drop columns where all elements are nan\n",
    "#use toy here\n",
    "df.dropna(axis = 1, how='any')"
   ]
  },
  {
   "cell_type": "code",
   "execution_count": null,
   "metadata": {},
   "outputs": [],
   "source": [
    "# another way to drop rows where all elements are nan; here axis =0 by default\n",
    "df.dropna(how='any')"
   ]
  },
  {
   "cell_type": "markdown",
   "metadata": {},
   "source": [
    "There are other `how` parameter options. See what happens when `how` equals `all`"
   ]
  },
  {
   "cell_type": "markdown",
   "metadata": {},
   "source": [
    "Drop duplicates (rows)"
   ]
  },
  {
   "cell_type": "code",
   "execution_count": null,
   "metadata": {},
   "outputs": [],
   "source": [
    "df.drop_duplicates()\n",
    "\n",
    "#can drop duplicates based on one column \n",
    "df.drop_duplicates(subset=\"col\", inplace=True)"
   ]
  },
  {
   "cell_type": "markdown",
   "metadata": {},
   "source": [
    "filter(using conditons)"
   ]
  },
  {
   "cell_type": "markdown",
   "metadata": {},
   "source": [
    "## Tranformation"
   ]
  },
  {
   "cell_type": "code",
   "execution_count": 17,
   "metadata": {},
   "outputs": [],
   "source": [
    "# add new columns\n",
    "cordis_projects_df['half_totalCost'] = cordis_projects_df['totalCost'] * 0.5\n",
    "#group data & apply a function & mergeb\n",
    "#refer back to adat types and how we change datatype of column"
   ]
  },
  {
   "cell_type": "code",
   "execution_count": null,
   "metadata": {},
   "outputs": [],
   "source": []
  },
  {
   "cell_type": "code",
   "execution_count": 25,
   "metadata": {},
   "outputs": [
    {
     "data": {
      "text/html": [
       "<div>\n",
       "<style scoped>\n",
       "    .dataframe tbody tr th:only-of-type {\n",
       "        vertical-align: middle;\n",
       "    }\n",
       "\n",
       "    .dataframe tbody tr th {\n",
       "        vertical-align: top;\n",
       "    }\n",
       "\n",
       "    .dataframe thead th {\n",
       "        text-align: right;\n",
       "    }\n",
       "</style>\n",
       "<table border=\"1\" class=\"dataframe\">\n",
       "  <thead>\n",
       "    <tr style=\"text-align: right;\">\n",
       "      <th></th>\n",
       "      <th>0</th>\n",
       "      <th>1</th>\n",
       "      <th>2</th>\n",
       "    </tr>\n",
       "  </thead>\n",
       "  <tbody>\n",
       "    <tr>\n",
       "      <th>col1</th>\n",
       "      <td>a</td>\n",
       "      <td>b</td>\n",
       "      <td>c</td>\n",
       "    </tr>\n",
       "    <tr>\n",
       "      <th>col2</th>\n",
       "      <td>d</td>\n",
       "      <td>e</td>\n",
       "      <td>f</td>\n",
       "    </tr>\n",
       "    <tr>\n",
       "      <th>col3</th>\n",
       "      <td>1</td>\n",
       "      <td>2</td>\n",
       "      <td>3</td>\n",
       "    </tr>\n",
       "    <tr>\n",
       "      <th>col4</th>\n",
       "      <td>4</td>\n",
       "      <td>5</td>\n",
       "      <td>6</td>\n",
       "    </tr>\n",
       "  </tbody>\n",
       "</table>\n",
       "</div>"
      ],
      "text/plain": [
       "      0  1  2\n",
       "col1  a  b  c\n",
       "col2  d  e  f\n",
       "col3  1  2  3\n",
       "col4  4  5  6"
      ]
     },
     "execution_count": 25,
     "metadata": {},
     "output_type": "execute_result"
    }
   ],
   "source": [
    "#transpose data\n",
    "\n",
    "df.T"
   ]
  },
  {
   "cell_type": "markdown",
   "metadata": {},
   "source": [
    "### GroupBy"
   ]
  },
  {
   "cell_type": "code",
   "execution_count": 63,
   "metadata": {
    "scrolled": true
   },
   "outputs": [],
   "source": [
    "#preferable group by categorical -type column\n",
    "grouped_df = cordis_projects_df.groupby(by='status')"
   ]
  },
  {
   "cell_type": "markdown",
   "metadata": {},
   "source": [
    "Here, we can investigate statistical results of each numerical column based on the groups defined by applying the methods form earlier."
   ]
  },
  {
   "cell_type": "code",
   "execution_count": 64,
   "metadata": {
    "scrolled": true
   },
   "outputs": [
    {
     "data": {
      "text/html": [
       "<div>\n",
       "<style scoped>\n",
       "    .dataframe tbody tr th:only-of-type {\n",
       "        vertical-align: middle;\n",
       "    }\n",
       "\n",
       "    .dataframe tbody tr th {\n",
       "        vertical-align: top;\n",
       "    }\n",
       "\n",
       "    .dataframe thead tr th {\n",
       "        text-align: left;\n",
       "    }\n",
       "\n",
       "    .dataframe thead tr:last-of-type th {\n",
       "        text-align: right;\n",
       "    }\n",
       "</style>\n",
       "<table border=\"1\" class=\"dataframe\">\n",
       "  <thead>\n",
       "    <tr>\n",
       "      <th></th>\n",
       "      <th colspan=\"8\" halign=\"left\">ecMaxContribution</th>\n",
       "      <th colspan=\"2\" halign=\"left\">endYear</th>\n",
       "      <th>...</th>\n",
       "      <th colspan=\"2\" halign=\"left\">subjects</th>\n",
       "      <th colspan=\"8\" halign=\"left\">totalCost</th>\n",
       "    </tr>\n",
       "    <tr>\n",
       "      <th></th>\n",
       "      <th>count</th>\n",
       "      <th>mean</th>\n",
       "      <th>std</th>\n",
       "      <th>min</th>\n",
       "      <th>25%</th>\n",
       "      <th>50%</th>\n",
       "      <th>75%</th>\n",
       "      <th>max</th>\n",
       "      <th>count</th>\n",
       "      <th>mean</th>\n",
       "      <th>...</th>\n",
       "      <th>75%</th>\n",
       "      <th>max</th>\n",
       "      <th>count</th>\n",
       "      <th>mean</th>\n",
       "      <th>std</th>\n",
       "      <th>min</th>\n",
       "      <th>25%</th>\n",
       "      <th>50%</th>\n",
       "      <th>75%</th>\n",
       "      <th>max</th>\n",
       "    </tr>\n",
       "    <tr>\n",
       "      <th>status</th>\n",
       "      <th></th>\n",
       "      <th></th>\n",
       "      <th></th>\n",
       "      <th></th>\n",
       "      <th></th>\n",
       "      <th></th>\n",
       "      <th></th>\n",
       "      <th></th>\n",
       "      <th></th>\n",
       "      <th></th>\n",
       "      <th></th>\n",
       "      <th></th>\n",
       "      <th></th>\n",
       "      <th></th>\n",
       "      <th></th>\n",
       "      <th></th>\n",
       "      <th></th>\n",
       "      <th></th>\n",
       "      <th></th>\n",
       "      <th></th>\n",
       "      <th></th>\n",
       "    </tr>\n",
       "  </thead>\n",
       "  <tbody>\n",
       "    <tr>\n",
       "      <th>CLOSED</th>\n",
       "      <td>1253.0</td>\n",
       "      <td>3.389019e+05</td>\n",
       "      <td>8.100213e+05</td>\n",
       "      <td>3150.0</td>\n",
       "      <td>50000.0</td>\n",
       "      <td>127855.00</td>\n",
       "      <td>183454.80</td>\n",
       "      <td>7.966697e+06</td>\n",
       "      <td>1253.0</td>\n",
       "      <td>2016.671189</td>\n",
       "      <td>...</td>\n",
       "      <td>NaN</td>\n",
       "      <td>NaN</td>\n",
       "      <td>1253.0</td>\n",
       "      <td>4.378749e+05</td>\n",
       "      <td>1.494027e+06</td>\n",
       "      <td>3937.5</td>\n",
       "      <td>71429.0</td>\n",
       "      <td>138807.0</td>\n",
       "      <td>183454.8</td>\n",
       "      <td>4.018823e+07</td>\n",
       "    </tr>\n",
       "    <tr>\n",
       "      <th>SIGNED</th>\n",
       "      <td>18818.0</td>\n",
       "      <td>1.877964e+06</td>\n",
       "      <td>4.640589e+06</td>\n",
       "      <td>5600.0</td>\n",
       "      <td>171460.8</td>\n",
       "      <td>1170413.75</td>\n",
       "      <td>2366416.25</td>\n",
       "      <td>4.408000e+08</td>\n",
       "      <td>18818.0</td>\n",
       "      <td>2019.344723</td>\n",
       "      <td>...</td>\n",
       "      <td>NaN</td>\n",
       "      <td>NaN</td>\n",
       "      <td>18814.0</td>\n",
       "      <td>2.313069e+06</td>\n",
       "      <td>8.510458e+06</td>\n",
       "      <td>7000.0</td>\n",
       "      <td>171460.8</td>\n",
       "      <td>1313750.0</td>\n",
       "      <td>2497663.0</td>\n",
       "      <td>8.569619e+08</td>\n",
       "    </tr>\n",
       "    <tr>\n",
       "      <th>TERMINATED</th>\n",
       "      <td>443.0</td>\n",
       "      <td>4.507264e+05</td>\n",
       "      <td>1.790491e+06</td>\n",
       "      <td>50000.0</td>\n",
       "      <td>170121.6</td>\n",
       "      <td>183454.80</td>\n",
       "      <td>195454.80</td>\n",
       "      <td>2.072249e+07</td>\n",
       "      <td>413.0</td>\n",
       "      <td>2018.169492</td>\n",
       "      <td>...</td>\n",
       "      <td>NaN</td>\n",
       "      <td>NaN</td>\n",
       "      <td>443.0</td>\n",
       "      <td>5.741743e+05</td>\n",
       "      <td>2.710158e+06</td>\n",
       "      <td>71429.0</td>\n",
       "      <td>170121.6</td>\n",
       "      <td>183454.8</td>\n",
       "      <td>195454.8</td>\n",
       "      <td>3.519522e+07</td>\n",
       "    </tr>\n",
       "  </tbody>\n",
       "</table>\n",
       "<p>3 rows × 72 columns</p>\n",
       "</div>"
      ],
      "text/plain": [
       "           ecMaxContribution                                                 \\\n",
       "                       count          mean           std      min       25%   \n",
       "status                                                                        \n",
       "CLOSED                1253.0  3.389019e+05  8.100213e+05   3150.0   50000.0   \n",
       "SIGNED               18818.0  1.877964e+06  4.640589e+06   5600.0  171460.8   \n",
       "TERMINATED             443.0  4.507264e+05  1.790491e+06  50000.0  170121.6   \n",
       "\n",
       "                                                  endYear               \\\n",
       "                   50%         75%           max    count         mean   \n",
       "status                                                                   \n",
       "CLOSED       127855.00   183454.80  7.966697e+06   1253.0  2016.671189   \n",
       "SIGNED      1170413.75  2366416.25  4.408000e+08  18818.0  2019.344723   \n",
       "TERMINATED   183454.80   195454.80  2.072249e+07    413.0  2018.169492   \n",
       "\n",
       "                ...      subjects     totalCost                              \\\n",
       "                ...           75% max     count          mean           std   \n",
       "status          ...                                                           \n",
       "CLOSED          ...           NaN NaN    1253.0  4.378749e+05  1.494027e+06   \n",
       "SIGNED          ...           NaN NaN   18814.0  2.313069e+06  8.510458e+06   \n",
       "TERMINATED      ...           NaN NaN     443.0  5.741743e+05  2.710158e+06   \n",
       "\n",
       "                                                                   \n",
       "                min       25%        50%        75%           max  \n",
       "status                                                             \n",
       "CLOSED       3937.5   71429.0   138807.0   183454.8  4.018823e+07  \n",
       "SIGNED       7000.0  171460.8  1313750.0  2497663.0  8.569619e+08  \n",
       "TERMINATED  71429.0  170121.6   183454.8   195454.8  3.519522e+07  \n",
       "\n",
       "[3 rows x 72 columns]"
      ]
     },
     "execution_count": 64,
     "metadata": {},
     "output_type": "execute_result"
    }
   ],
   "source": [
    "grouped_df.describe()"
   ]
  },
  {
   "cell_type": "code",
   "execution_count": 65,
   "metadata": {},
   "outputs": [
    {
     "data": {
      "text/html": [
       "<div>\n",
       "<style scoped>\n",
       "    .dataframe tbody tr th:only-of-type {\n",
       "        vertical-align: middle;\n",
       "    }\n",
       "\n",
       "    .dataframe tbody tr th {\n",
       "        vertical-align: top;\n",
       "    }\n",
       "\n",
       "    .dataframe thead th {\n",
       "        text-align: right;\n",
       "    }\n",
       "</style>\n",
       "<table border=\"1\" class=\"dataframe\">\n",
       "  <thead>\n",
       "    <tr style=\"text-align: right;\">\n",
       "      <th></th>\n",
       "      <th>rcn</th>\n",
       "      <th>id</th>\n",
       "      <th>totalCost</th>\n",
       "      <th>ecMaxContribution</th>\n",
       "      <th>subjects</th>\n",
       "      <th>startYear</th>\n",
       "      <th>endYear</th>\n",
       "      <th>half_totalCost</th>\n",
       "      <th>month</th>\n",
       "    </tr>\n",
       "    <tr>\n",
       "      <th>status</th>\n",
       "      <th></th>\n",
       "      <th></th>\n",
       "      <th></th>\n",
       "      <th></th>\n",
       "      <th></th>\n",
       "      <th></th>\n",
       "      <th></th>\n",
       "      <th></th>\n",
       "      <th></th>\n",
       "    </tr>\n",
       "  </thead>\n",
       "  <tbody>\n",
       "    <tr>\n",
       "      <th>CLOSED</th>\n",
       "      <td>200358.081405</td>\n",
       "      <td>692498.117318</td>\n",
       "      <td>4.378749e+05</td>\n",
       "      <td>3.389019e+05</td>\n",
       "      <td>NaN</td>\n",
       "      <td>2015.541101</td>\n",
       "      <td>2016.671189</td>\n",
       "      <td>2.189375e+05</td>\n",
       "      <td>6.286512</td>\n",
       "    </tr>\n",
       "    <tr>\n",
       "      <th>SIGNED</th>\n",
       "      <td>206384.141832</td>\n",
       "      <td>726695.553194</td>\n",
       "      <td>2.313069e+06</td>\n",
       "      <td>1.877964e+06</td>\n",
       "      <td>NaN</td>\n",
       "      <td>2016.633702</td>\n",
       "      <td>2019.344723</td>\n",
       "      <td>1.156535e+06</td>\n",
       "      <td>6.040387</td>\n",
       "    </tr>\n",
       "    <tr>\n",
       "      <th>TERMINATED</th>\n",
       "      <td>201289.196388</td>\n",
       "      <td>693269.027088</td>\n",
       "      <td>5.741743e+05</td>\n",
       "      <td>4.507264e+05</td>\n",
       "      <td>NaN</td>\n",
       "      <td>2016.054795</td>\n",
       "      <td>2018.169492</td>\n",
       "      <td>2.870871e+05</td>\n",
       "      <td>6.226027</td>\n",
       "    </tr>\n",
       "  </tbody>\n",
       "</table>\n",
       "</div>"
      ],
      "text/plain": [
       "                      rcn             id     totalCost  ecMaxContribution  \\\n",
       "status                                                                      \n",
       "CLOSED      200358.081405  692498.117318  4.378749e+05       3.389019e+05   \n",
       "SIGNED      206384.141832  726695.553194  2.313069e+06       1.877964e+06   \n",
       "TERMINATED  201289.196388  693269.027088  5.741743e+05       4.507264e+05   \n",
       "\n",
       "            subjects    startYear      endYear  half_totalCost     month  \n",
       "status                                                                    \n",
       "CLOSED           NaN  2015.541101  2016.671189    2.189375e+05  6.286512  \n",
       "SIGNED           NaN  2016.633702  2019.344723    1.156535e+06  6.040387  \n",
       "TERMINATED       NaN  2016.054795  2018.169492    2.870871e+05  6.226027  "
      ]
     },
     "execution_count": 65,
     "metadata": {},
     "output_type": "execute_result"
    }
   ],
   "source": [
    "grouped_df.mean()"
   ]
  },
  {
   "cell_type": "code",
   "execution_count": null,
   "metadata": {},
   "outputs": [],
   "source": [
    "# can replace values \n"
   ]
  },
  {
   "cell_type": "code",
   "execution_count": null,
   "metadata": {},
   "outputs": [],
   "source": [
    "df.groupby(something).apply(list)"
   ]
  },
  {
   "cell_type": "code",
   "execution_count": null,
   "metadata": {},
   "outputs": [],
   "source": [
    "# can groupby on different levels and cal on diff levels "
   ]
  },
  {
   "cell_type": "markdown",
   "metadata": {},
   "source": [
    "## Combining Data"
   ]
  },
  {
   "cell_type": "markdown",
   "metadata": {},
   "source": [
    "Firtsly, let's define another toy example. "
   ]
  },
  {
   "cell_type": "code",
   "execution_count": 6,
   "metadata": {},
   "outputs": [],
   "source": [
    "df_2= pd.DataFrame(\n",
    "    {\n",
    "        'col1': ['a', 'b', 1, 2], \n",
    "        'col2': ['d', 'e', 'f', 'k'], \n",
    "        'col3': [5, 6, 7, 8],\n",
    "        'col4': ['h', 'i', 'j', 'k']\n",
    "    }\n",
    "\n",
    ")"
   ]
  },
  {
   "cell_type": "code",
   "execution_count": 89,
   "metadata": {},
   "outputs": [
    {
     "data": {
      "text/html": [
       "<div>\n",
       "<style scoped>\n",
       "    .dataframe tbody tr th:only-of-type {\n",
       "        vertical-align: middle;\n",
       "    }\n",
       "\n",
       "    .dataframe tbody tr th {\n",
       "        vertical-align: top;\n",
       "    }\n",
       "\n",
       "    .dataframe thead th {\n",
       "        text-align: right;\n",
       "    }\n",
       "</style>\n",
       "<table border=\"1\" class=\"dataframe\">\n",
       "  <thead>\n",
       "    <tr style=\"text-align: right;\">\n",
       "      <th></th>\n",
       "      <th>col1</th>\n",
       "      <th>col2</th>\n",
       "      <th>col3</th>\n",
       "      <th>col4</th>\n",
       "    </tr>\n",
       "  </thead>\n",
       "  <tbody>\n",
       "    <tr>\n",
       "      <th>0</th>\n",
       "      <td>a</td>\n",
       "      <td>d</td>\n",
       "      <td>1.0</td>\n",
       "      <td>4</td>\n",
       "    </tr>\n",
       "    <tr>\n",
       "      <th>1</th>\n",
       "      <td>b</td>\n",
       "      <td>e</td>\n",
       "      <td>2.0</td>\n",
       "      <td>5</td>\n",
       "    </tr>\n",
       "    <tr>\n",
       "      <th>2</th>\n",
       "      <td>None</td>\n",
       "      <td>f</td>\n",
       "      <td>3.0</td>\n",
       "      <td>6</td>\n",
       "    </tr>\n",
       "    <tr>\n",
       "      <th>3</th>\n",
       "      <td>c</td>\n",
       "      <td>g</td>\n",
       "      <td>NaN</td>\n",
       "      <td>7</td>\n",
       "    </tr>\n",
       "  </tbody>\n",
       "</table>\n",
       "</div>"
      ],
      "text/plain": [
       "   col1 col2  col3  col4\n",
       "0     a    d   1.0     4\n",
       "1     b    e   2.0     5\n",
       "2  None    f   3.0     6\n",
       "3     c    g   NaN     7"
      ]
     },
     "execution_count": 89,
     "metadata": {},
     "output_type": "execute_result"
    }
   ],
   "source": [
    "df_1"
   ]
  },
  {
   "cell_type": "code",
   "execution_count": 90,
   "metadata": {},
   "outputs": [
    {
     "data": {
      "text/html": [
       "<div>\n",
       "<style scoped>\n",
       "    .dataframe tbody tr th:only-of-type {\n",
       "        vertical-align: middle;\n",
       "    }\n",
       "\n",
       "    .dataframe tbody tr th {\n",
       "        vertical-align: top;\n",
       "    }\n",
       "\n",
       "    .dataframe thead th {\n",
       "        text-align: right;\n",
       "    }\n",
       "</style>\n",
       "<table border=\"1\" class=\"dataframe\">\n",
       "  <thead>\n",
       "    <tr style=\"text-align: right;\">\n",
       "      <th></th>\n",
       "      <th>col1</th>\n",
       "      <th>col2</th>\n",
       "      <th>col3</th>\n",
       "      <th>col4</th>\n",
       "    </tr>\n",
       "  </thead>\n",
       "  <tbody>\n",
       "    <tr>\n",
       "      <th>0</th>\n",
       "      <td>a</td>\n",
       "      <td>d</td>\n",
       "      <td>5</td>\n",
       "      <td>h</td>\n",
       "    </tr>\n",
       "    <tr>\n",
       "      <th>1</th>\n",
       "      <td>b</td>\n",
       "      <td>e</td>\n",
       "      <td>6</td>\n",
       "      <td>i</td>\n",
       "    </tr>\n",
       "    <tr>\n",
       "      <th>2</th>\n",
       "      <td>1</td>\n",
       "      <td>f</td>\n",
       "      <td>7</td>\n",
       "      <td>j</td>\n",
       "    </tr>\n",
       "    <tr>\n",
       "      <th>3</th>\n",
       "      <td>2</td>\n",
       "      <td>g</td>\n",
       "      <td>8</td>\n",
       "      <td>k</td>\n",
       "    </tr>\n",
       "  </tbody>\n",
       "</table>\n",
       "</div>"
      ],
      "text/plain": [
       "  col1 col2  col3 col4\n",
       "0    a    d     5    h\n",
       "1    b    e     6    i\n",
       "2    1    f     7    j\n",
       "3    2    g     8    k"
      ]
     },
     "execution_count": 90,
     "metadata": {},
     "output_type": "execute_result"
    }
   ],
   "source": [
    "df_2"
   ]
  },
  {
   "cell_type": "markdown",
   "metadata": {},
   "source": [
    "### Merge\n",
    "\n",
    "In Pandas, there are various ways to merge: `left`, `right`, `inner`, `outer`. Here, we have to specify "
   ]
  },
  {
   "cell_type": "code",
   "execution_count": 95,
   "metadata": {},
   "outputs": [
    {
     "data": {
      "text/html": [
       "<div>\n",
       "<style scoped>\n",
       "    .dataframe tbody tr th:only-of-type {\n",
       "        vertical-align: middle;\n",
       "    }\n",
       "\n",
       "    .dataframe tbody tr th {\n",
       "        vertical-align: top;\n",
       "    }\n",
       "\n",
       "    .dataframe thead th {\n",
       "        text-align: right;\n",
       "    }\n",
       "</style>\n",
       "<table border=\"1\" class=\"dataframe\">\n",
       "  <thead>\n",
       "    <tr style=\"text-align: right;\">\n",
       "      <th></th>\n",
       "      <th>col1_x</th>\n",
       "      <th>col2</th>\n",
       "      <th>col3_x</th>\n",
       "      <th>col4_x</th>\n",
       "      <th>col1_y</th>\n",
       "      <th>col3_y</th>\n",
       "      <th>col4_y</th>\n",
       "    </tr>\n",
       "  </thead>\n",
       "  <tbody>\n",
       "    <tr>\n",
       "      <th>0</th>\n",
       "      <td>a</td>\n",
       "      <td>d</td>\n",
       "      <td>1.0</td>\n",
       "      <td>4</td>\n",
       "      <td>a</td>\n",
       "      <td>5.0</td>\n",
       "      <td>h</td>\n",
       "    </tr>\n",
       "    <tr>\n",
       "      <th>1</th>\n",
       "      <td>b</td>\n",
       "      <td>e</td>\n",
       "      <td>2.0</td>\n",
       "      <td>5</td>\n",
       "      <td>b</td>\n",
       "      <td>6.0</td>\n",
       "      <td>i</td>\n",
       "    </tr>\n",
       "    <tr>\n",
       "      <th>2</th>\n",
       "      <td>None</td>\n",
       "      <td>f</td>\n",
       "      <td>3.0</td>\n",
       "      <td>6</td>\n",
       "      <td>1</td>\n",
       "      <td>7.0</td>\n",
       "      <td>j</td>\n",
       "    </tr>\n",
       "    <tr>\n",
       "      <th>3</th>\n",
       "      <td>c</td>\n",
       "      <td>g</td>\n",
       "      <td>NaN</td>\n",
       "      <td>7</td>\n",
       "      <td>NaN</td>\n",
       "      <td>NaN</td>\n",
       "      <td>NaN</td>\n",
       "    </tr>\n",
       "  </tbody>\n",
       "</table>\n",
       "</div>"
      ],
      "text/plain": [
       "  col1_x col2  col3_x  col4_x col1_y  col3_y col4_y\n",
       "0      a    d     1.0       4      a     5.0      h\n",
       "1      b    e     2.0       5      b     6.0      i\n",
       "2   None    f     3.0       6      1     7.0      j\n",
       "3      c    g     NaN       7    NaN     NaN    NaN"
      ]
     },
     "execution_count": 95,
     "metadata": {},
     "output_type": "execute_result"
    }
   ],
   "source": [
    "# merge - `left` specifies the first is the main dataframe and the other is mergeing with it \n",
    "# note, the columns must be the same in order for a smooth merge\n",
    "#note the col chosen of the chosen df of is constant and everything is depent on that (Whether it includes the lement in it's respective row)\n",
    "pd.merge(\n",
    "    df_1,\n",
    "    df_2,\n",
    "    how='left', \n",
    "    on= 'col2'\n",
    ")"
   ]
  },
  {
   "cell_type": "code",
   "execution_count": 98,
   "metadata": {},
   "outputs": [
    {
     "data": {
      "text/html": [
       "<div>\n",
       "<style scoped>\n",
       "    .dataframe tbody tr th:only-of-type {\n",
       "        vertical-align: middle;\n",
       "    }\n",
       "\n",
       "    .dataframe tbody tr th {\n",
       "        vertical-align: top;\n",
       "    }\n",
       "\n",
       "    .dataframe thead th {\n",
       "        text-align: right;\n",
       "    }\n",
       "</style>\n",
       "<table border=\"1\" class=\"dataframe\">\n",
       "  <thead>\n",
       "    <tr style=\"text-align: right;\">\n",
       "      <th></th>\n",
       "      <th>col1_x</th>\n",
       "      <th>col2</th>\n",
       "      <th>col3_x</th>\n",
       "      <th>col4_x</th>\n",
       "      <th>col1_y</th>\n",
       "      <th>col3_y</th>\n",
       "      <th>col4_y</th>\n",
       "    </tr>\n",
       "  </thead>\n",
       "  <tbody>\n",
       "    <tr>\n",
       "      <th>0</th>\n",
       "      <td>a</td>\n",
       "      <td>d</td>\n",
       "      <td>1.0</td>\n",
       "      <td>4.0</td>\n",
       "      <td>a</td>\n",
       "      <td>5</td>\n",
       "      <td>h</td>\n",
       "    </tr>\n",
       "    <tr>\n",
       "      <th>1</th>\n",
       "      <td>b</td>\n",
       "      <td>e</td>\n",
       "      <td>2.0</td>\n",
       "      <td>5.0</td>\n",
       "      <td>b</td>\n",
       "      <td>6</td>\n",
       "      <td>i</td>\n",
       "    </tr>\n",
       "    <tr>\n",
       "      <th>2</th>\n",
       "      <td>None</td>\n",
       "      <td>f</td>\n",
       "      <td>3.0</td>\n",
       "      <td>6.0</td>\n",
       "      <td>1</td>\n",
       "      <td>7</td>\n",
       "      <td>j</td>\n",
       "    </tr>\n",
       "    <tr>\n",
       "      <th>3</th>\n",
       "      <td>NaN</td>\n",
       "      <td>k</td>\n",
       "      <td>NaN</td>\n",
       "      <td>NaN</td>\n",
       "      <td>2</td>\n",
       "      <td>8</td>\n",
       "      <td>k</td>\n",
       "    </tr>\n",
       "  </tbody>\n",
       "</table>\n",
       "</div>"
      ],
      "text/plain": [
       "  col1_x col2  col3_x  col4_x col1_y  col3_y col4_y\n",
       "0      a    d     1.0     4.0      a       5      h\n",
       "1      b    e     2.0     5.0      b       6      i\n",
       "2   None    f     3.0     6.0      1       7      j\n",
       "3    NaN    k     NaN     NaN      2       8      k"
      ]
     },
     "execution_count": 98,
     "metadata": {},
     "output_type": "execute_result"
    }
   ],
   "source": [
    "pd.merge(\n",
    "    df_1,\n",
    "    df_2,\n",
    "    how='right', \n",
    "    on= 'col2'\n",
    ")"
   ]
  },
  {
   "cell_type": "code",
   "execution_count": 99,
   "metadata": {},
   "outputs": [
    {
     "data": {
      "text/html": [
       "<div>\n",
       "<style scoped>\n",
       "    .dataframe tbody tr th:only-of-type {\n",
       "        vertical-align: middle;\n",
       "    }\n",
       "\n",
       "    .dataframe tbody tr th {\n",
       "        vertical-align: top;\n",
       "    }\n",
       "\n",
       "    .dataframe thead th {\n",
       "        text-align: right;\n",
       "    }\n",
       "</style>\n",
       "<table border=\"1\" class=\"dataframe\">\n",
       "  <thead>\n",
       "    <tr style=\"text-align: right;\">\n",
       "      <th></th>\n",
       "      <th>col1_x</th>\n",
       "      <th>col2</th>\n",
       "      <th>col3_x</th>\n",
       "      <th>col4_x</th>\n",
       "      <th>col1_y</th>\n",
       "      <th>col3_y</th>\n",
       "      <th>col4_y</th>\n",
       "    </tr>\n",
       "  </thead>\n",
       "  <tbody>\n",
       "    <tr>\n",
       "      <th>0</th>\n",
       "      <td>a</td>\n",
       "      <td>d</td>\n",
       "      <td>1.0</td>\n",
       "      <td>4</td>\n",
       "      <td>a</td>\n",
       "      <td>5</td>\n",
       "      <td>h</td>\n",
       "    </tr>\n",
       "    <tr>\n",
       "      <th>1</th>\n",
       "      <td>b</td>\n",
       "      <td>e</td>\n",
       "      <td>2.0</td>\n",
       "      <td>5</td>\n",
       "      <td>b</td>\n",
       "      <td>6</td>\n",
       "      <td>i</td>\n",
       "    </tr>\n",
       "    <tr>\n",
       "      <th>2</th>\n",
       "      <td>None</td>\n",
       "      <td>f</td>\n",
       "      <td>3.0</td>\n",
       "      <td>6</td>\n",
       "      <td>1</td>\n",
       "      <td>7</td>\n",
       "      <td>j</td>\n",
       "    </tr>\n",
       "  </tbody>\n",
       "</table>\n",
       "</div>"
      ],
      "text/plain": [
       "  col1_x col2  col3_x  col4_x col1_y  col3_y col4_y\n",
       "0      a    d     1.0       4      a       5      h\n",
       "1      b    e     2.0       5      b       6      i\n",
       "2   None    f     3.0       6      1       7      j"
      ]
     },
     "execution_count": 99,
     "metadata": {},
     "output_type": "execute_result"
    }
   ],
   "source": [
    "#intersection/elements of col2 which appears in both cols \n",
    "pd.merge(\n",
    "    df_1,\n",
    "    df_2,\n",
    "    how='inner', \n",
    "    on= 'col2'\n",
    ")"
   ]
  },
  {
   "cell_type": "code",
   "execution_count": 100,
   "metadata": {},
   "outputs": [
    {
     "data": {
      "text/html": [
       "<div>\n",
       "<style scoped>\n",
       "    .dataframe tbody tr th:only-of-type {\n",
       "        vertical-align: middle;\n",
       "    }\n",
       "\n",
       "    .dataframe tbody tr th {\n",
       "        vertical-align: top;\n",
       "    }\n",
       "\n",
       "    .dataframe thead th {\n",
       "        text-align: right;\n",
       "    }\n",
       "</style>\n",
       "<table border=\"1\" class=\"dataframe\">\n",
       "  <thead>\n",
       "    <tr style=\"text-align: right;\">\n",
       "      <th></th>\n",
       "      <th>col1_x</th>\n",
       "      <th>col2</th>\n",
       "      <th>col3_x</th>\n",
       "      <th>col4_x</th>\n",
       "      <th>col1_y</th>\n",
       "      <th>col3_y</th>\n",
       "      <th>col4_y</th>\n",
       "    </tr>\n",
       "  </thead>\n",
       "  <tbody>\n",
       "    <tr>\n",
       "      <th>0</th>\n",
       "      <td>a</td>\n",
       "      <td>d</td>\n",
       "      <td>1.0</td>\n",
       "      <td>4.0</td>\n",
       "      <td>a</td>\n",
       "      <td>5.0</td>\n",
       "      <td>h</td>\n",
       "    </tr>\n",
       "    <tr>\n",
       "      <th>1</th>\n",
       "      <td>b</td>\n",
       "      <td>e</td>\n",
       "      <td>2.0</td>\n",
       "      <td>5.0</td>\n",
       "      <td>b</td>\n",
       "      <td>6.0</td>\n",
       "      <td>i</td>\n",
       "    </tr>\n",
       "    <tr>\n",
       "      <th>2</th>\n",
       "      <td>None</td>\n",
       "      <td>f</td>\n",
       "      <td>3.0</td>\n",
       "      <td>6.0</td>\n",
       "      <td>1</td>\n",
       "      <td>7.0</td>\n",
       "      <td>j</td>\n",
       "    </tr>\n",
       "    <tr>\n",
       "      <th>3</th>\n",
       "      <td>c</td>\n",
       "      <td>g</td>\n",
       "      <td>NaN</td>\n",
       "      <td>7.0</td>\n",
       "      <td>NaN</td>\n",
       "      <td>NaN</td>\n",
       "      <td>NaN</td>\n",
       "    </tr>\n",
       "    <tr>\n",
       "      <th>4</th>\n",
       "      <td>NaN</td>\n",
       "      <td>k</td>\n",
       "      <td>NaN</td>\n",
       "      <td>NaN</td>\n",
       "      <td>2</td>\n",
       "      <td>8.0</td>\n",
       "      <td>k</td>\n",
       "    </tr>\n",
       "  </tbody>\n",
       "</table>\n",
       "</div>"
      ],
      "text/plain": [
       "  col1_x col2  col3_x  col4_x col1_y  col3_y col4_y\n",
       "0      a    d     1.0     4.0      a     5.0      h\n",
       "1      b    e     2.0     5.0      b     6.0      i\n",
       "2   None    f     3.0     6.0      1     7.0      j\n",
       "3      c    g     NaN     7.0    NaN     NaN    NaN\n",
       "4    NaN    k     NaN     NaN      2     8.0      k"
      ]
     },
     "execution_count": 100,
     "metadata": {},
     "output_type": "execute_result"
    }
   ],
   "source": [
    "#union \n",
    "pd.merge(\n",
    "    df_1,\n",
    "    df_2,\n",
    "    how='outer', \n",
    "    on= 'col2'\n",
    ")"
   ]
  },
  {
   "cell_type": "code",
   "execution_count": 104,
   "metadata": {
    "collapsed": true
   },
   "outputs": [
    {
     "ename": "ValueError",
     "evalue": "You are trying to merge on object and int64 columns. If you wish to proceed you should use pd.concat",
     "output_type": "error",
     "traceback": [
      "\u001b[0;31m---------------------------------------------------------------------------\u001b[0m",
      "\u001b[0;31mValueError\u001b[0m                                Traceback (most recent call last)",
      "\u001b[0;32m<ipython-input-104-136d74f57eca>\u001b[0m in \u001b[0;36m<module>\u001b[0;34m\u001b[0m\n\u001b[1;32m      1\u001b[0m \u001b[0;31m# join- works similarly but automatically recognises where/ dont need to define\u001b[0m\u001b[0;34m\u001b[0m\u001b[0;34m\u001b[0m\u001b[0;34m\u001b[0m\u001b[0m\n\u001b[1;32m      2\u001b[0m \u001b[0;34m\u001b[0m\u001b[0m\n\u001b[0;32m----> 3\u001b[0;31m \u001b[0mdf_1\u001b[0m\u001b[0;34m.\u001b[0m\u001b[0mjoin\u001b[0m\u001b[0;34m(\u001b[0m\u001b[0mdf_2\u001b[0m\u001b[0;34m,\u001b[0m \u001b[0;34m'col2'\u001b[0m\u001b[0;34m,\u001b[0m \u001b[0mhow\u001b[0m\u001b[0;34m=\u001b[0m\u001b[0;34m'right'\u001b[0m\u001b[0;34m)\u001b[0m\u001b[0;34m\u001b[0m\u001b[0;34m\u001b[0m\u001b[0m\n\u001b[0m",
      "\u001b[0;32m~/miniconda3/envs/pyenv_nesta/lib/python3.6/site-packages/pandas/core/frame.py\u001b[0m in \u001b[0;36mjoin\u001b[0;34m(self, other, on, how, lsuffix, rsuffix, sort)\u001b[0m\n\u001b[1;32m   6334\u001b[0m         \u001b[0;31m# For SparseDataFrame's benefit\u001b[0m\u001b[0;34m\u001b[0m\u001b[0;34m\u001b[0m\u001b[0;34m\u001b[0m\u001b[0m\n\u001b[1;32m   6335\u001b[0m         return self._join_compat(other, on=on, how=how, lsuffix=lsuffix,\n\u001b[0;32m-> 6336\u001b[0;31m                                  rsuffix=rsuffix, sort=sort)\n\u001b[0m\u001b[1;32m   6337\u001b[0m \u001b[0;34m\u001b[0m\u001b[0m\n\u001b[1;32m   6338\u001b[0m     def _join_compat(self, other, on=None, how='left', lsuffix='', rsuffix='',\n",
      "\u001b[0;32m~/miniconda3/envs/pyenv_nesta/lib/python3.6/site-packages/pandas/core/frame.py\u001b[0m in \u001b[0;36m_join_compat\u001b[0;34m(self, other, on, how, lsuffix, rsuffix, sort)\u001b[0m\n\u001b[1;32m   6349\u001b[0m             return merge(self, other, left_on=on, how=how,\n\u001b[1;32m   6350\u001b[0m                          \u001b[0mleft_index\u001b[0m\u001b[0;34m=\u001b[0m\u001b[0mon\u001b[0m \u001b[0;32mis\u001b[0m \u001b[0;32mNone\u001b[0m\u001b[0;34m,\u001b[0m \u001b[0mright_index\u001b[0m\u001b[0;34m=\u001b[0m\u001b[0;32mTrue\u001b[0m\u001b[0;34m,\u001b[0m\u001b[0;34m\u001b[0m\u001b[0;34m\u001b[0m\u001b[0m\n\u001b[0;32m-> 6351\u001b[0;31m                          suffixes=(lsuffix, rsuffix), sort=sort)\n\u001b[0m\u001b[1;32m   6352\u001b[0m         \u001b[0;32melse\u001b[0m\u001b[0;34m:\u001b[0m\u001b[0;34m\u001b[0m\u001b[0;34m\u001b[0m\u001b[0m\n\u001b[1;32m   6353\u001b[0m             \u001b[0;32mif\u001b[0m \u001b[0mon\u001b[0m \u001b[0;32mis\u001b[0m \u001b[0;32mnot\u001b[0m \u001b[0;32mNone\u001b[0m\u001b[0;34m:\u001b[0m\u001b[0;34m\u001b[0m\u001b[0;34m\u001b[0m\u001b[0m\n",
      "\u001b[0;32m~/miniconda3/envs/pyenv_nesta/lib/python3.6/site-packages/pandas/core/reshape/merge.py\u001b[0m in \u001b[0;36mmerge\u001b[0;34m(left, right, how, on, left_on, right_on, left_index, right_index, sort, suffixes, copy, indicator, validate)\u001b[0m\n\u001b[1;32m     59\u001b[0m                          \u001b[0mright_index\u001b[0m\u001b[0;34m=\u001b[0m\u001b[0mright_index\u001b[0m\u001b[0;34m,\u001b[0m \u001b[0msort\u001b[0m\u001b[0;34m=\u001b[0m\u001b[0msort\u001b[0m\u001b[0;34m,\u001b[0m \u001b[0msuffixes\u001b[0m\u001b[0;34m=\u001b[0m\u001b[0msuffixes\u001b[0m\u001b[0;34m,\u001b[0m\u001b[0;34m\u001b[0m\u001b[0;34m\u001b[0m\u001b[0m\n\u001b[1;32m     60\u001b[0m                          \u001b[0mcopy\u001b[0m\u001b[0;34m=\u001b[0m\u001b[0mcopy\u001b[0m\u001b[0;34m,\u001b[0m \u001b[0mindicator\u001b[0m\u001b[0;34m=\u001b[0m\u001b[0mindicator\u001b[0m\u001b[0;34m,\u001b[0m\u001b[0;34m\u001b[0m\u001b[0;34m\u001b[0m\u001b[0m\n\u001b[0;32m---> 61\u001b[0;31m                          validate=validate)\n\u001b[0m\u001b[1;32m     62\u001b[0m     \u001b[0;32mreturn\u001b[0m \u001b[0mop\u001b[0m\u001b[0;34m.\u001b[0m\u001b[0mget_result\u001b[0m\u001b[0;34m(\u001b[0m\u001b[0;34m)\u001b[0m\u001b[0;34m\u001b[0m\u001b[0;34m\u001b[0m\u001b[0m\n\u001b[1;32m     63\u001b[0m \u001b[0;34m\u001b[0m\u001b[0m\n",
      "\u001b[0;32m~/miniconda3/envs/pyenv_nesta/lib/python3.6/site-packages/pandas/core/reshape/merge.py\u001b[0m in \u001b[0;36m__init__\u001b[0;34m(self, left, right, how, on, left_on, right_on, axis, left_index, right_index, sort, suffixes, copy, indicator, validate)\u001b[0m\n\u001b[1;32m    553\u001b[0m         \u001b[0;31m# validate the merge keys dtypes. We may need to coerce\u001b[0m\u001b[0;34m\u001b[0m\u001b[0;34m\u001b[0m\u001b[0;34m\u001b[0m\u001b[0m\n\u001b[1;32m    554\u001b[0m         \u001b[0;31m# to avoid incompat dtypes\u001b[0m\u001b[0;34m\u001b[0m\u001b[0;34m\u001b[0m\u001b[0;34m\u001b[0m\u001b[0m\n\u001b[0;32m--> 555\u001b[0;31m         \u001b[0mself\u001b[0m\u001b[0;34m.\u001b[0m\u001b[0m_maybe_coerce_merge_keys\u001b[0m\u001b[0;34m(\u001b[0m\u001b[0;34m)\u001b[0m\u001b[0;34m\u001b[0m\u001b[0;34m\u001b[0m\u001b[0m\n\u001b[0m\u001b[1;32m    556\u001b[0m \u001b[0;34m\u001b[0m\u001b[0m\n\u001b[1;32m    557\u001b[0m         \u001b[0;31m# If argument passed to validate,\u001b[0m\u001b[0;34m\u001b[0m\u001b[0;34m\u001b[0m\u001b[0;34m\u001b[0m\u001b[0m\n",
      "\u001b[0;32m~/miniconda3/envs/pyenv_nesta/lib/python3.6/site-packages/pandas/core/reshape/merge.py\u001b[0m in \u001b[0;36m_maybe_coerce_merge_keys\u001b[0;34m(self)\u001b[0m\n\u001b[1;32m    984\u001b[0m             elif (not is_numeric_dtype(lk)\n\u001b[1;32m    985\u001b[0m                     and (is_numeric_dtype(rk) and not is_bool_dtype(rk))):\n\u001b[0;32m--> 986\u001b[0;31m                 \u001b[0;32mraise\u001b[0m \u001b[0mValueError\u001b[0m\u001b[0;34m(\u001b[0m\u001b[0mmsg\u001b[0m\u001b[0;34m)\u001b[0m\u001b[0;34m\u001b[0m\u001b[0;34m\u001b[0m\u001b[0m\n\u001b[0m\u001b[1;32m    987\u001b[0m             \u001b[0;32melif\u001b[0m \u001b[0mis_datetimelike\u001b[0m\u001b[0;34m(\u001b[0m\u001b[0mlk\u001b[0m\u001b[0;34m)\u001b[0m \u001b[0;32mand\u001b[0m \u001b[0;32mnot\u001b[0m \u001b[0mis_datetimelike\u001b[0m\u001b[0;34m(\u001b[0m\u001b[0mrk\u001b[0m\u001b[0;34m)\u001b[0m\u001b[0;34m:\u001b[0m\u001b[0;34m\u001b[0m\u001b[0;34m\u001b[0m\u001b[0m\n\u001b[1;32m    988\u001b[0m                 \u001b[0;32mraise\u001b[0m \u001b[0mValueError\u001b[0m\u001b[0;34m(\u001b[0m\u001b[0mmsg\u001b[0m\u001b[0;34m)\u001b[0m\u001b[0;34m\u001b[0m\u001b[0;34m\u001b[0m\u001b[0m\n",
      "\u001b[0;31mValueError\u001b[0m: You are trying to merge on object and int64 columns. If you wish to proceed you should use pd.concat"
     ]
    }
   ],
   "source": [
    "# join- works similarly but automatically recognises where/ dont need to define\n",
    "\n",
    "df_1.join(df_2, 'col2', how='right')"
   ]
  },
  {
   "cell_type": "code",
   "execution_count": 106,
   "metadata": {},
   "outputs": [
    {
     "data": {
      "text/html": [
       "<div>\n",
       "<style scoped>\n",
       "    .dataframe tbody tr th:only-of-type {\n",
       "        vertical-align: middle;\n",
       "    }\n",
       "\n",
       "    .dataframe tbody tr th {\n",
       "        vertical-align: top;\n",
       "    }\n",
       "\n",
       "    .dataframe thead th {\n",
       "        text-align: right;\n",
       "    }\n",
       "</style>\n",
       "<table border=\"1\" class=\"dataframe\">\n",
       "  <thead>\n",
       "    <tr style=\"text-align: right;\">\n",
       "      <th></th>\n",
       "      <th>col1</th>\n",
       "      <th>col2</th>\n",
       "      <th>col3</th>\n",
       "      <th>col4</th>\n",
       "    </tr>\n",
       "  </thead>\n",
       "  <tbody>\n",
       "    <tr>\n",
       "      <th>0</th>\n",
       "      <td>a</td>\n",
       "      <td>d</td>\n",
       "      <td>1.0</td>\n",
       "      <td>4</td>\n",
       "    </tr>\n",
       "    <tr>\n",
       "      <th>1</th>\n",
       "      <td>b</td>\n",
       "      <td>e</td>\n",
       "      <td>2.0</td>\n",
       "      <td>5</td>\n",
       "    </tr>\n",
       "    <tr>\n",
       "      <th>2</th>\n",
       "      <td>None</td>\n",
       "      <td>f</td>\n",
       "      <td>3.0</td>\n",
       "      <td>6</td>\n",
       "    </tr>\n",
       "    <tr>\n",
       "      <th>3</th>\n",
       "      <td>c</td>\n",
       "      <td>g</td>\n",
       "      <td>NaN</td>\n",
       "      <td>7</td>\n",
       "    </tr>\n",
       "    <tr>\n",
       "      <th>0</th>\n",
       "      <td>a</td>\n",
       "      <td>d</td>\n",
       "      <td>5.0</td>\n",
       "      <td>h</td>\n",
       "    </tr>\n",
       "    <tr>\n",
       "      <th>1</th>\n",
       "      <td>b</td>\n",
       "      <td>e</td>\n",
       "      <td>6.0</td>\n",
       "      <td>i</td>\n",
       "    </tr>\n",
       "    <tr>\n",
       "      <th>2</th>\n",
       "      <td>1</td>\n",
       "      <td>f</td>\n",
       "      <td>7.0</td>\n",
       "      <td>j</td>\n",
       "    </tr>\n",
       "    <tr>\n",
       "      <th>3</th>\n",
       "      <td>2</td>\n",
       "      <td>k</td>\n",
       "      <td>8.0</td>\n",
       "      <td>k</td>\n",
       "    </tr>\n",
       "  </tbody>\n",
       "</table>\n",
       "</div>"
      ],
      "text/plain": [
       "   col1 col2  col3 col4\n",
       "0     a    d   1.0    4\n",
       "1     b    e   2.0    5\n",
       "2  None    f   3.0    6\n",
       "3     c    g   NaN    7\n",
       "0     a    d   5.0    h\n",
       "1     b    e   6.0    i\n",
       "2     1    f   7.0    j\n",
       "3     2    k   8.0    k"
      ]
     },
     "execution_count": 106,
     "metadata": {},
     "output_type": "execute_result"
    }
   ],
   "source": [
    "#concatenate- in a way like stacking \n",
    "pd.concat([df_1,df_2]) #default axis= 0"
   ]
  },
  {
   "cell_type": "code",
   "execution_count": 109,
   "metadata": {},
   "outputs": [
    {
     "data": {
      "text/html": [
       "<div>\n",
       "<style scoped>\n",
       "    .dataframe tbody tr th:only-of-type {\n",
       "        vertical-align: middle;\n",
       "    }\n",
       "\n",
       "    .dataframe tbody tr th {\n",
       "        vertical-align: top;\n",
       "    }\n",
       "\n",
       "    .dataframe thead th {\n",
       "        text-align: right;\n",
       "    }\n",
       "</style>\n",
       "<table border=\"1\" class=\"dataframe\">\n",
       "  <thead>\n",
       "    <tr style=\"text-align: right;\">\n",
       "      <th></th>\n",
       "      <th>col1</th>\n",
       "      <th>col2</th>\n",
       "      <th>col3</th>\n",
       "      <th>col4</th>\n",
       "      <th>col1</th>\n",
       "      <th>col2</th>\n",
       "      <th>col3</th>\n",
       "      <th>col4</th>\n",
       "    </tr>\n",
       "  </thead>\n",
       "  <tbody>\n",
       "    <tr>\n",
       "      <th>0</th>\n",
       "      <td>a</td>\n",
       "      <td>d</td>\n",
       "      <td>1.0</td>\n",
       "      <td>4</td>\n",
       "      <td>a</td>\n",
       "      <td>d</td>\n",
       "      <td>5</td>\n",
       "      <td>h</td>\n",
       "    </tr>\n",
       "    <tr>\n",
       "      <th>1</th>\n",
       "      <td>b</td>\n",
       "      <td>e</td>\n",
       "      <td>2.0</td>\n",
       "      <td>5</td>\n",
       "      <td>b</td>\n",
       "      <td>e</td>\n",
       "      <td>6</td>\n",
       "      <td>i</td>\n",
       "    </tr>\n",
       "    <tr>\n",
       "      <th>2</th>\n",
       "      <td>None</td>\n",
       "      <td>f</td>\n",
       "      <td>3.0</td>\n",
       "      <td>6</td>\n",
       "      <td>1</td>\n",
       "      <td>f</td>\n",
       "      <td>7</td>\n",
       "      <td>j</td>\n",
       "    </tr>\n",
       "    <tr>\n",
       "      <th>3</th>\n",
       "      <td>c</td>\n",
       "      <td>g</td>\n",
       "      <td>NaN</td>\n",
       "      <td>7</td>\n",
       "      <td>2</td>\n",
       "      <td>k</td>\n",
       "      <td>8</td>\n",
       "      <td>k</td>\n",
       "    </tr>\n",
       "  </tbody>\n",
       "</table>\n",
       "</div>"
      ],
      "text/plain": [
       "   col1 col2  col3 col4 col1 col2  col3 col4\n",
       "0     a    d   1.0    4    a    d     5    h\n",
       "1     b    e   2.0    5    b    e     6    i\n",
       "2  None    f   3.0    6    1    f     7    j\n",
       "3     c    g   NaN    7    2    k     8    k"
      ]
     },
     "execution_count": 109,
     "metadata": {},
     "output_type": "execute_result"
    }
   ],
   "source": [
    "pd.concat([df_1,df_2], axis=1)# where it's concatenated in ord on "
   ]
  },
  {
   "cell_type": "markdown",
   "metadata": {},
   "source": [
    "# Working with...\n",
    "\n",
    "Here, we will look at different non-numeric data type and how we can work with them in pandas."
   ]
  },
  {
   "cell_type": "markdown",
   "metadata": {},
   "source": [
    "## DateTime\n",
    "<br />\n",
    "In a lot of cases, datetime information are stored as strings. Thankfully, pandas can deal with this. These strings are transformed to datetime objects."
   ]
  },
  {
   "cell_type": "code",
   "execution_count": 3,
   "metadata": {},
   "outputs": [],
   "source": [
    "cordis_projects_df['startDate'] = pd.to_datetime(cordis_projects_df['startDate'])\n",
    "cordis_projects_df"
   ]
  },
  {
   "cell_type": "code",
   "execution_count": 14,
   "metadata": {},
   "outputs": [
    {
     "name": "stdout",
     "output_type": "stream",
     "text": [
      "2018\n",
      "10\n",
      "1\n"
     ]
    }
   ],
   "source": [
    "# for example, the first row \n",
    "print(cordis_projects_df['startDate'][0].year)\n",
    "print(cordis_projects_df['startDate'][0].month)\n",
    "print(cordis_projects_df['startDate'][0].day)"
   ]
  },
  {
   "cell_type": "code",
   "execution_count": 15,
   "metadata": {
    "collapsed": true
   },
   "outputs": [
    {
     "data": {
      "text/plain": [
       "0        10.0\n",
       "1        11.0\n",
       "2         5.0\n",
       "3         7.0\n",
       "4         3.0\n",
       "5         6.0\n",
       "6         3.0\n",
       "7         5.0\n",
       "8         6.0\n",
       "9        10.0\n",
       "10        1.0\n",
       "11        2.0\n",
       "12       10.0\n",
       "13        8.0\n",
       "14        8.0\n",
       "15       10.0\n",
       "16        9.0\n",
       "17        9.0\n",
       "18        6.0\n",
       "19        8.0\n",
       "20        6.0\n",
       "21        7.0\n",
       "22        5.0\n",
       "23        8.0\n",
       "24        7.0\n",
       "25        7.0\n",
       "26        9.0\n",
       "27        3.0\n",
       "28        3.0\n",
       "29        3.0\n",
       "         ... \n",
       "20484     1.0\n",
       "20485     5.0\n",
       "20486     9.0\n",
       "20487    12.0\n",
       "20488    10.0\n",
       "20489     5.0\n",
       "20490     6.0\n",
       "20491     9.0\n",
       "20492     8.0\n",
       "20493     1.0\n",
       "20494     8.0\n",
       "20495     9.0\n",
       "20496     6.0\n",
       "20497     2.0\n",
       "20498     5.0\n",
       "20499    10.0\n",
       "20500    10.0\n",
       "20501    12.0\n",
       "20502    10.0\n",
       "20503     9.0\n",
       "20504     9.0\n",
       "20505     9.0\n",
       "20506     9.0\n",
       "20507     8.0\n",
       "20508     6.0\n",
       "20509     5.0\n",
       "20510     9.0\n",
       "20511     9.0\n",
       "20512     9.0\n",
       "20513     9.0\n",
       "Name: month, Length: 20514, dtype: float64"
      ]
     },
     "execution_count": 15,
     "metadata": {},
     "output_type": "execute_result"
    }
   ],
   "source": [
    "#use lambda to apply a method to each element row-wise if want to apply \n",
    "#can add \n",
    "cordis_projects_df['month'] = cordis_projects_df['startDate'].apply(lambda x: x.month)\n",
    "cordis_projects_df['month']"
   ]
  },
  {
   "cell_type": "markdown",
   "metadata": {},
   "source": [
    "## Strings"
   ]
  },
  {
   "cell_type": "code",
   "execution_count": null,
   "metadata": {},
   "outputs": [],
   "source": [
    "# can convert any column elements to string type .str\n",
    "\n",
    "#.str.len()to get length of each string across 0\n",
    "\n",
    "#.str.replace() "
   ]
  },
  {
   "cell_type": "markdown",
   "metadata": {},
   "source": [
    "# Plotting"
   ]
  },
  {
   "cell_type": "markdown",
   "metadata": {},
   "source": [
    "## Pandas Plotting\n",
    "https://pandas.pydata.org/pandas-docs/stable/user_guide/visualization.html"
   ]
  },
  {
   "cell_type": "code",
   "execution_count": 17,
   "metadata": {
    "scrolled": true
   },
   "outputs": [
    {
     "data": {
      "text/plain": [
       "<matplotlib.axes._subplots.AxesSubplot at 0x7fcbab660828>"
      ]
     },
     "execution_count": 17,
     "metadata": {},
     "output_type": "execute_result"
    },
    {
     "data": {
      "image/png": "[encoded data removed]",
      "text/plain": [
       "<Figure size 432x288 with 1 Axes>"
      ]
     },
     "metadata": {
      "needs_background": "light"
     },
     "output_type": "display_data"
    }
   ],
   "source": [
    "#histogram plot - all pandas plota are matplotlib figs but are specifically pandas functions\n",
    "cordis_projects_df['month'].hist()\n",
    "# plt.show()"
   ]
  },
  {
   "cell_type": "code",
   "execution_count": 20,
   "metadata": {},
   "outputs": [
    {
     "data": {
      "text/plain": [
       "Index(['rcn', 'id', 'acronym', 'status', 'programme', 'topics',\n",
       "       'frameworkProgramme', 'title', 'startDate', 'endDate', 'projectUrl',\n",
       "       'objective', 'totalCost', 'ecMaxContribution', 'call', 'fundingScheme',\n",
       "       'coordinator', 'coordinatorCountry', 'participants',\n",
       "       'participantCountries', 'subjects', 'organisations', 'countries',\n",
       "       'startYear', 'endYear', 'month'],\n",
       "      dtype='object')"
      ]
     },
     "execution_count": 20,
     "metadata": {},
     "output_type": "execute_result"
    }
   ],
   "source": [
    "cordis_projects_df.columns"
   ]
  },
  {
   "cell_type": "code",
   "execution_count": null,
   "metadata": {},
   "outputs": [
    {
     "data": {
      "text/plain": [
       "<matplotlib.axes._subplots.AxesSubplot at 0x7fcbaa20a588>"
      ]
     },
     "execution_count": 24,
     "metadata": {},
     "output_type": "execute_result"
    }
   ],
   "source": [
    "cordis_projects_df['totalCost'].plot(kind='bar')"
   ]
  },
  {
   "cell_type": "markdown",
   "metadata": {},
   "source": [
    "## Plotting using MatplotLib\n",
    "\n",
    "https://matplotlib.org/3.1.1/contents.html"
   ]
  },
  {
   "cell_type": "markdown",
   "metadata": {},
   "source": [
    "# Available Datasets"
   ]
  },
  {
   "cell_type": "markdown",
   "metadata": {},
   "source": [
    "How to read these"
   ]
  }
 ],
 "metadata": {
  "kernelspec": {
   "display_name": "Python 3",
   "language": "python",
   "name": "python3"
  },
  "language_info": {
   "codemirror_mode": {
    "name": "ipython",
    "version": 3
   },
   "file_extension": ".py",
   "mimetype": "text/x-python",
   "name": "python",
   "nbconvert_exporter": "python",
   "pygments_lexer": "ipython3",
   "version": "3.6.9"
  },
  "toc": {
   "base_numbering": 1,
   "nav_menu": {},
   "number_sections": true,
   "sideBar": true,
   "skip_h1_title": false,
   "title_cell": "Table of Contents",
   "title_sidebar": "Contents",
   "toc_cell": false,
   "toc_position": {},
   "toc_section_display": true,
   "toc_window_display": false
  }
 },
 "nbformat": 4,
 "nbformat_minor": 2
}
