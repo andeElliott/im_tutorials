{
 "cells": [
  {
   "cell_type": "markdown",
   "metadata": {},
   "source": [
    "# Simple Intro to Pandas\n",
    "\n",
    "This tutrorial looks at the use of the popular python library Pandas. This is widely used to work with big datasets in ways which one can explore, clean, transformm and wrangle.  \n",
    "\n",
    "**Tutorial Structure**\n",
    "- [Preamble](#Preamble)\n",
    "- [Import Data](#Import-Data)\n",
    " - [Creating DataFrames](#Creating-DataFrames)\n",
    " - [Read Files](#Read-Files)\n",
    "- [A Look at the Data](#A-Look-at-the-Data)\n",
    " - [DataFrame Structure](#DataFrame-Structure)\n",
    " - [Maths & Statistics](#Maths-&-Statistics)\n",
    "- [Filtering & Subsets](#Filtering-&-Subsets)\n",
    "- [Data Wrangling](#Data-Wrangling)\n",
    " - [Cleaning](#Cleaning)\n",
    " - [Transformation](#Transformation)\n",
    "- [Combining Data](#Combining-Data)\n",
    "- [Working with...](#Workinh-with...)\n",
    " - [DateTime](#DateTime)\n",
    " - [Strings](#Strings)\n",
    "- [Plotting](#Plotting)\n",
    " - [Pandas Plotting](#Pandas-Plotting)\n",
    " - [Plotting using MatplotLib](#Plotting-using-MatplotLib)\n",
    "- [Export & Save](#Export-&-Save)\n",
    "- [Additional Datasets](#Additional-Datasets)"
   ]
  },
  {
   "cell_type": "markdown",
   "metadata": {
    "heading_collapsed": true
   },
   "source": [
    "# Preamble"
   ]
  },
  {
   "cell_type": "code",
   "execution_count": null,
   "metadata": {
    "hidden": true
   },
   "outputs": [],
   "source": [
    "%load_ext autoreload\n",
    "%autoreload 2\n",
    "# install im_tutorial package\n",
    "!pip install git+https://github.com/nestauk/im_tutorials.git"
   ]
  },
  {
   "cell_type": "code",
   "execution_count": null,
   "metadata": {
    "hidden": true
   },
   "outputs": [],
   "source": [
    "# numpy for mathematical functions\n",
    "import numpy as np\n",
    "# pandas for handling tabular data\n",
    "import pandas as pd\n",
    "# explained later\n",
    "from im_tutorials.data.cordis import cordis_table\n",
    "\n",
    "# for plotting\n",
    "import matplotlib.pyplot as plt"
   ]
  },
  {
   "cell_type": "markdown",
   "metadata": {},
   "source": [
    "# Import Data"
   ]
  },
  {
   "cell_type": "markdown",
   "metadata": {
    "heading_collapsed": true
   },
   "source": [
    "## Creating DataFrames\n",
    "\n",
    "There are cases where you may hardcode for hacking-uses. This is one way to create a dataframe from scratch. Also, these will be used in examples throughout this tutorial."
   ]
  },
  {
   "cell_type": "code",
   "execution_count": null,
   "metadata": {
    "hidden": true
   },
   "outputs": [],
   "source": [
    "# useful for hacking\n",
    "toy_1 = pd.DataFrame(\n",
    "    {\n",
    "        'col1' : ['a', 'b', np.nan,'c'],\n",
    "        'col2' : ['d', 'e', 'f','g'],\n",
    "        'col3' : [1, 2, 3, np.nan],\n",
    "        'col4' : [4, 7, 6, 5]}\n",
    ")"
   ]
  },
  {
   "cell_type": "code",
   "execution_count": null,
   "metadata": {
    "hidden": true
   },
   "outputs": [],
   "source": [
    "toy_2= pd.DataFrame(\n",
    "    {\n",
    "        'col1': [10,20,30,40], \n",
    "        'col2': ['d', 'e', 'f', 'k'], \n",
    "        'col3': [5, 6, 7, 8],\n",
    "        'col4': ['h', 'i', 'j', 'k']\n",
    "    }\n",
    ")"
   ]
  },
  {
   "cell_type": "markdown",
   "metadata": {},
   "source": [
    "## Read Files"
   ]
  },
  {
   "cell_type": "code",
   "execution_count": null,
   "metadata": {},
   "outputs": [],
   "source": [
    "#if working from a local .csv file\n",
    "df = pd.read_csv('file.csv')"
   ]
  },
  {
   "cell_type": "code",
   "execution_count": null,
   "metadata": {},
   "outputs": [],
   "source": [
    "# maybe use cordis\n",
    "cordis_projects_df = cordis_table('projects')"
   ]
  },
  {
   "cell_type": "markdown",
   "metadata": {
    "heading_collapsed": true
   },
   "source": [
    "# A Look at the Data\n",
    "<br/>\n",
    "It is almost protocol to look at what's inside your dataset before you start to answer questions. Pandas allows us to easily explore and draw up basic analysis using some of the libraries methods and functions."
   ]
  },
  {
   "cell_type": "markdown",
   "metadata": {
    "heading_collapsed": true,
    "hidden": true
   },
   "source": [
    "## DataFrame Structure\n",
    "\n",
    "Before we start, it is import to note that Pandas deals with two types of data structures: the one-dimensional `Series` and the two-dimensional `DataFrame` In this tutprial, we will mainly work with dataframes. \n",
    "\n",
    "<img src=\"../reports/figures/base_01_pandas_5_0.png\">\n"
   ]
  },
  {
   "cell_type": "markdown",
   "metadata": {
    "hidden": true
   },
   "source": [
    "**Head & Tail**\n",
    "<br/>Sometimes, we want a peek at what is going inside. The functions `.head()` and `.tail()` displays the top n rows or last n rows, respectively. Here, `n = 5` rows by default. You can adjust the number of rows by simply changing the number."
   ]
  },
  {
   "cell_type": "code",
   "execution_count": null,
   "metadata": {
    "hidden": true
   },
   "outputs": [],
   "source": [
    "cordis_projects_df.head(n=3)"
   ]
  },
  {
   "cell_type": "code",
   "execution_count": null,
   "metadata": {
    "hidden": true,
    "scrolled": false
   },
   "outputs": [],
   "source": [
    "cordis_projects_df.tail(n=3)"
   ]
  },
  {
   "cell_type": "markdown",
   "metadata": {
    "hidden": true
   },
   "source": [
    "**Indexes & Columns**\n",
    "<br/>As seen above, dataframes are a tabilar data structire consiting of rows and columns. Indexes are used to identifyu rows whislt columns are identified by the column names. Both are appendable. "
   ]
  },
  {
   "cell_type": "code",
   "execution_count": null,
   "metadata": {
    "hidden": true
   },
   "outputs": [],
   "source": [
    "cordis_projects_df.index"
   ]
  },
  {
   "cell_type": "code",
   "execution_count": null,
   "metadata": {
    "hidden": true
   },
   "outputs": [],
   "source": [
    "cordis_projects_df.columns"
   ]
  },
  {
   "cell_type": "markdown",
   "metadata": {
    "hidden": true
   },
   "source": [
    "We can also look at the `shape` of the dataframe which shows how many rows and columns are in the dataframe."
   ]
  },
  {
   "cell_type": "code",
   "execution_count": null,
   "metadata": {
    "hidden": true
   },
   "outputs": [],
   "source": [
    "cordis_projects_df.shape"
   ]
  },
  {
   "cell_type": "markdown",
   "metadata": {
    "hidden": true
   },
   "source": [
    "**Axis 0 or 1?**\n",
    "<br/>There are cases where you may want to apply some calculations across rows or columns. This can be appoached by using the `axis` of the dataframe. This can be accessed using the `axis` parameter found in many methods (many are `axis = 0` but default). A few examples will be shown throughout this tutorial.\n",
    "- Axis 0- apply on all rows across each column\n",
    "- Axis 1- apply on all columns across each row\n",
    "\n",
    "<img src=\"../reports/figures/axis.png\">\n"
   ]
  },
  {
   "cell_type": "markdown",
   "metadata": {
    "hidden": true
   },
   "source": [
    "**DataTypes**\n",
    "<br/>It's possible to check what datatypes are in each field. \n",
    "<br/> __Note__: Pandas tend to assign a column's datatype as `object` when non-numerical exists inside the field."
   ]
  },
  {
   "cell_type": "code",
   "execution_count": null,
   "metadata": {
    "hidden": true
   },
   "outputs": [],
   "source": [
    "cordis_projects_df.dtypes"
   ]
  },
  {
   "cell_type": "markdown",
   "metadata": {
    "hidden": true
   },
   "source": [
    "**Selecting**\n",
    "<br/> Can select rows and columns."
   ]
  },
  {
   "cell_type": "code",
   "execution_count": null,
   "metadata": {
    "hidden": true
   },
   "outputs": [],
   "source": [
    "#can look at columns separtely \n",
    "cordis_projects_df['subjects']"
   ]
  },
  {
   "cell_type": "code",
   "execution_count": null,
   "metadata": {
    "hidden": true
   },
   "outputs": [],
   "source": [
    "#or a list of columns\n",
    "cordis_projects_df[['status', 'coordinatorCountry']]"
   ]
  },
  {
   "cell_type": "code",
   "execution_count": null,
   "metadata": {
    "hidden": true,
    "scrolled": false
   },
   "outputs": [],
   "source": [
    "#selecting rows\n",
    "cordis_projects_df[cordis_projects_df.index == 0]"
   ]
  },
  {
   "cell_type": "markdown",
   "metadata": {
    "hidden": true
   },
   "source": [
    "We can also see the amount of unique elements in a field by using the `value_counts()` function."
   ]
  },
  {
   "cell_type": "code",
   "execution_count": null,
   "metadata": {
    "hidden": true
   },
   "outputs": [],
   "source": [
    "cordis_projects_df['topics'].value_counts()"
   ]
  },
  {
   "cell_type": "markdown",
   "metadata": {
    "heading_collapsed": true,
    "hidden": true
   },
   "source": [
    "## Maths & Statistics"
   ]
  },
  {
   "cell_type": "markdown",
   "metadata": {
    "hidden": true
   },
   "source": [
    "**Arithmetic**"
   ]
  },
  {
   "cell_type": "markdown",
   "metadata": {
    "hidden": true
   },
   "source": [
    "Here, we will use the toy example dataframes to show the operations at work."
   ]
  },
  {
   "cell_type": "code",
   "execution_count": null,
   "metadata": {
    "hidden": true
   },
   "outputs": [],
   "source": [
    "toy_1"
   ]
  },
  {
   "cell_type": "code",
   "execution_count": null,
   "metadata": {
    "hidden": true
   },
   "outputs": [],
   "source": [
    "toy_2"
   ]
  },
  {
   "cell_type": "markdown",
   "metadata": {
    "hidden": true
   },
   "source": [
    "- **Addition, Subtraction & More**\n",
    "\n",
    "Although can use the standard pythonic way, Pandas provides functions to do the exact same job. <br/>\n",
    "Note: the columns are chosen since both consist of integers."
   ]
  },
  {
   "cell_type": "code",
   "execution_count": null,
   "metadata": {
    "hidden": true
   },
   "outputs": [],
   "source": [
    "#pythonic way \n",
    "toy_1['col4'] + toy_2['col1']"
   ]
  },
  {
   "cell_type": "code",
   "execution_count": null,
   "metadata": {
    "hidden": true
   },
   "outputs": [],
   "source": [
    "#pandas fucntion \n",
    "toy_1['col4'].add(toy_2['col1'])"
   ]
  },
  {
   "cell_type": "markdown",
   "metadata": {
    "hidden": true
   },
   "source": [
    "**_Task_** \n",
    "<br/>Try the arithmetic functions `subtract()`, `multiply()`, `divide()`, `floordiv()`, `mod()`, `pow()`"
   ]
  },
  {
   "cell_type": "code",
   "execution_count": null,
   "metadata": {
    "hidden": true
   },
   "outputs": [],
   "source": [
    "# write code here\n"
   ]
  },
  {
   "cell_type": "markdown",
   "metadata": {
    "hidden": true
   },
   "source": [
    "**_Task_**\n",
    "<br/>Try the equivalent pythonic way of the above functions (`-`, `*`, `/`, `//`, `%`, `**`)"
   ]
  },
  {
   "cell_type": "code",
   "execution_count": null,
   "metadata": {
    "hidden": true
   },
   "outputs": [],
   "source": [
    "# write code here\n"
   ]
  },
  {
   "cell_type": "markdown",
   "metadata": {
    "hidden": true
   },
   "source": [
    "**Additional Functions**"
   ]
  },
  {
   "cell_type": "code",
   "execution_count": null,
   "metadata": {
    "hidden": true
   },
   "outputs": [],
   "source": [
    "#addition of elements across all rows (deafult axis = 0)\n",
    "toy_1.sum()"
   ]
  },
  {
   "cell_type": "code",
   "execution_count": null,
   "metadata": {
    "hidden": true
   },
   "outputs": [],
   "source": [
    "#addition of element across all columns\n",
    "toy_1.sum(axis=1)"
   ]
  },
  {
   "cell_type": "code",
   "execution_count": null,
   "metadata": {
    "hidden": true,
    "scrolled": false
   },
   "outputs": [],
   "source": [
    "# count of number of elements present in columns\n",
    "cordis_projects_df.count()"
   ]
  },
  {
   "cell_type": "code",
   "execution_count": null,
   "metadata": {
    "hidden": true
   },
   "outputs": [],
   "source": [
    "# remember, you can find the result for a single column\n",
    "cordis_projects_df['projectUrl'].count()"
   ]
  },
  {
   "cell_type": "markdown",
   "metadata": {
    "hidden": true
   },
   "source": [
    "**Statistics**"
   ]
  },
  {
   "cell_type": "code",
   "execution_count": null,
   "metadata": {
    "hidden": true,
    "scrolled": true
   },
   "outputs": [],
   "source": [
    "# only on numerical columns\n",
    "cordis_projects_df.describe()"
   ]
  },
  {
   "cell_type": "markdown",
   "metadata": {
    "hidden": true
   },
   "source": [
    "**CAUTION!** <br/>\n",
    "Use these functions with caution. Some fields are includ data such as IDs or serial numbers but are taken into account when drawing up analysis. It's up to the user to carefully decipher what makes sense. "
   ]
  },
  {
   "cell_type": "code",
   "execution_count": null,
   "metadata": {
    "hidden": true
   },
   "outputs": [],
   "source": [
    "#or can separately get this results\n",
    "df.mean()"
   ]
  },
  {
   "cell_type": "markdown",
   "metadata": {
    "hidden": true
   },
   "source": [
    "**_Task_**\n",
    "<br/>Now try other methods such as `min()`, `max()`, `median()`, `var()`, `std()` and  `quantile()`."
   ]
  },
  {
   "cell_type": "code",
   "execution_count": null,
   "metadata": {
    "hidden": true
   },
   "outputs": [],
   "source": [
    "# write code here\n"
   ]
  },
  {
   "cell_type": "markdown",
   "metadata": {
    "heading_collapsed": true
   },
   "source": [
    "# Filtering & Subsets"
   ]
  },
  {
   "cell_type": "markdown",
   "metadata": {
    "hidden": true
   },
   "source": [
    "There are multiple ways to create subsets of an existing dataframes. We can either use the `iloc` & `loc` conventions or directly using a boolean condition as an index."
   ]
  },
  {
   "cell_type": "code",
   "execution_count": null,
   "metadata": {
    "hidden": true,
    "scrolled": false
   },
   "outputs": [],
   "source": [
    "# getting the subset of where the condition is true \n",
    "cordis_projects_df[cordis_projects_df['coordinatorCountry'] == 'UK'].head()"
   ]
  },
  {
   "cell_type": "code",
   "execution_count": null,
   "metadata": {
    "hidden": true
   },
   "outputs": [],
   "source": [
    "#instead of this, can use .loc \n",
    "\n",
    "cordis_projects_df.loc[cordis_projects_df['coordinatorCountry'] == 'UK',:].head()"
   ]
  },
  {
   "cell_type": "markdown",
   "metadata": {
    "hidden": true
   },
   "source": [
    "_Difference between `loc` and `iloc`_\n",
    "<br/>Both functions can be used to create subsets. However, there are difference between the two. \n",
    "<br/>\n",
    "`loc`- Goes up to index n based on the label of the index\n",
    "<br/>\n",
    "`iloc` Goes up to n index based on position of the indexes."
   ]
  },
  {
   "cell_type": "code",
   "execution_count": null,
   "metadata": {
    "hidden": true
   },
   "outputs": [],
   "source": [
    "#up to top 4 rows (shows rows 0,1,2,3)\n",
    "cordis_projects_df.iloc[:4]"
   ]
  },
  {
   "cell_type": "code",
   "execution_count": null,
   "metadata": {
    "hidden": true
   },
   "outputs": [],
   "source": [
    "#up to index '4' (shows rows 0,1,2,3,4)\n",
    "cordis_projects_df.loc[:4]"
   ]
  },
  {
   "cell_type": "code",
   "execution_count": null,
   "metadata": {
    "hidden": true
   },
   "outputs": [],
   "source": [
    "#4th and 7th in position\n",
    "cordis_projects_df.iloc[[4,7]]"
   ]
  },
  {
   "cell_type": "markdown",
   "metadata": {
    "heading_collapsed": true
   },
   "source": [
    "# Data Wrangling"
   ]
  },
  {
   "cell_type": "markdown",
   "metadata": {
    "heading_collapsed": true,
    "hidden": true
   },
   "source": [
    "## Cleaning"
   ]
  },
  {
   "cell_type": "markdown",
   "metadata": {
    "hidden": true
   },
   "source": [
    "**Dropping Data** \n",
    "<br/> "
   ]
  },
  {
   "cell_type": "code",
   "execution_count": null,
   "metadata": {
    "hidden": true,
    "scrolled": true
   },
   "outputs": [],
   "source": [
    "# drop columns (a list of column names or single!)\n",
    "toy_1.drop(['col1'], axis=1)"
   ]
  },
  {
   "cell_type": "code",
   "execution_count": null,
   "metadata": {
    "hidden": true
   },
   "outputs": [],
   "source": [
    "# drop rows \n",
    "toy_1.drop([1,2], axis=0) #inplace=True,"
   ]
  },
  {
   "cell_type": "markdown",
   "metadata": {
    "hidden": true
   },
   "source": [
    "Can also drop rows by setting a field as the index column and droppping the \"UK\" indices."
   ]
  },
  {
   "cell_type": "code",
   "execution_count": null,
   "metadata": {
    "hidden": true
   },
   "outputs": [],
   "source": [
    "cord_2 = cordis_projects_df.set_index('coordinatorCountry')\n",
    "cord_2.drop(\"UK\", axis =0)"
   ]
  },
  {
   "cell_type": "markdown",
   "metadata": {
    "hidden": true
   },
   "source": [
    "**Note**: when wrangling data, we can use the `inplace= True` argument in a function to avoid having to manually replace the dataframe variable. \n",
    "<br/>\n",
    "<br/> For example, `toy_1.drop(['col1'], axis=1, inplace= True)` instead of `toy_1 = toy_1.drop(['col1'], axis=1)` "
   ]
  },
  {
   "cell_type": "markdown",
   "metadata": {
    "hidden": true
   },
   "source": [
    "**Handling Missing Data**"
   ]
  },
  {
   "cell_type": "code",
   "execution_count": null,
   "metadata": {
    "hidden": true
   },
   "outputs": [],
   "source": [
    "# returns a boolean dataframe\n",
    "cordis_projects_df.isnull()"
   ]
  },
  {
   "cell_type": "code",
   "execution_count": null,
   "metadata": {
    "hidden": true
   },
   "outputs": [],
   "source": [
    "# returns a subset of the dataframe where the boolean expression is true\n",
    "cordis_projects_df[cordis_projects_df['participants'].isnull() == True]"
   ]
  },
  {
   "cell_type": "markdown",
   "metadata": {
    "hidden": true
   },
   "source": [
    "Here, we will use another toy example. This is to show what will happen when we have columns or rows full of missing data."
   ]
  },
  {
   "cell_type": "code",
   "execution_count": null,
   "metadata": {
    "hidden": true,
    "scrolled": true
   },
   "outputs": [],
   "source": [
    "toy_3 = pd.DataFrame(\n",
    "        {\n",
    "            'col_1': [np.nan, np.nan, np.nan, np.nan],\n",
    "            'col_2': [2, 5, 6, 5],\n",
    "            'col_3': [3, 6, np.nan, 6],\n",
    "            'col_4': [3, 6, np.nan, 6],\n",
    "        }\n",
    ")\n",
    "toy_3"
   ]
  },
  {
   "cell_type": "markdown",
   "metadata": {
    "hidden": true
   },
   "source": [
    "One way to drop rows/columns with missing data missing data is to use `dropna`. The `how = 'any'` parameter in the function sets the function to remove any rows/columns that include any missing values."
   ]
  },
  {
   "cell_type": "code",
   "execution_count": null,
   "metadata": {
    "hidden": true
   },
   "outputs": [],
   "source": [
    "# here axis =0 by default\n",
    "toy_3.dropna(how='any')"
   ]
  },
  {
   "cell_type": "code",
   "execution_count": null,
   "metadata": {
    "hidden": true
   },
   "outputs": [],
   "source": [
    "# drop columns with missing values\n",
    "toy_3.dropna(axis = 1, how='any')"
   ]
  },
  {
   "cell_type": "markdown",
   "metadata": {
    "hidden": true
   },
   "source": [
    "**_Task_**\n",
    "<br/>There is another `how` parameter option. See what happens when `how` equals `all` (apply `axis= 0 and 1` here too)."
   ]
  },
  {
   "cell_type": "code",
   "execution_count": null,
   "metadata": {
    "hidden": true
   },
   "outputs": [],
   "source": [
    "# write code here\n"
   ]
  },
  {
   "cell_type": "markdown",
   "metadata": {
    "hidden": true
   },
   "source": [
    "**Duplicates & Drop Duplicates**"
   ]
  },
  {
   "cell_type": "code",
   "execution_count": null,
   "metadata": {
    "hidden": true,
    "scrolled": true
   },
   "outputs": [],
   "source": [
    "toy_3.duplicated()"
   ]
  },
  {
   "cell_type": "code",
   "execution_count": null,
   "metadata": {
    "hidden": true,
    "scrolled": true
   },
   "outputs": [],
   "source": [
    "toy_3.drop_duplicates()"
   ]
  },
  {
   "cell_type": "code",
   "execution_count": null,
   "metadata": {
    "hidden": true
   },
   "outputs": [],
   "source": [
    "\n",
    "toy_3.T.duplicated()"
   ]
  },
  {
   "cell_type": "markdown",
   "metadata": {
    "hidden": true
   },
   "source": [
    "To drop duplicate columns, the duplicate functions do not have the `axis` parameter. Instead, __transposing__ the dataframe will help solve this. This will be touched on later."
   ]
  },
  {
   "cell_type": "markdown",
   "metadata": {
    "hidden": true
   },
   "source": [
    "**Replace**\n",
    "\n",
    "<br/> `replace` is a useful function when dealing with data that may have used a placeholder value to represent missing values or to replace missing values with a value. Can also be used to replace strings."
   ]
  },
  {
   "cell_type": "code",
   "execution_count": null,
   "metadata": {
    "hidden": true
   },
   "outputs": [],
   "source": [
    "toy_3.replace(np.nan, 0.0)#, inplace=True) #inplace makes permanent changes without having to replace the df vare"
   ]
  },
  {
   "cell_type": "markdown",
   "metadata": {
    "hidden": true
   },
   "source": [
    "**Rename & Resets**"
   ]
  },
  {
   "cell_type": "markdown",
   "metadata": {
    "hidden": true
   },
   "source": [
    "In cases of dropping rows, this will not automatically reset the indexes. This is where `reset_index` comes in handy. "
   ]
  },
  {
   "cell_type": "code",
   "execution_count": null,
   "metadata": {
    "hidden": true
   },
   "outputs": [],
   "source": [
    "toy_1.drop(1)"
   ]
  },
  {
   "cell_type": "code",
   "execution_count": null,
   "metadata": {
    "hidden": true,
    "scrolled": true
   },
   "outputs": [],
   "source": [
    "toy_1.drop(1).reset_index() "
   ]
  },
  {
   "cell_type": "code",
   "execution_count": null,
   "metadata": {
    "hidden": true,
    "scrolled": true
   },
   "outputs": [],
   "source": [
    "# the drop parameter in reset_index deletes the original indexes\n",
    "toy_1.drop(1).reset_index(drop=True) "
   ]
  },
  {
   "cell_type": "markdown",
   "metadata": {
    "hidden": true
   },
   "source": [
    "**Sort**"
   ]
  },
  {
   "cell_type": "code",
   "execution_count": null,
   "metadata": {
    "hidden": true
   },
   "outputs": [],
   "source": [
    "toy_1.sort_values('col4')"
   ]
  },
  {
   "cell_type": "markdown",
   "metadata": {
    "heading_collapsed": true,
    "hidden": true
   },
   "source": [
    "## Transformation"
   ]
  },
  {
   "cell_type": "code",
   "execution_count": null,
   "metadata": {
    "hidden": true
   },
   "outputs": [],
   "source": [
    "# add new columns\n",
    "#group data & apply a function & mergeb\n",
    "#refer back to adat types and how we change datatype of column"
   ]
  },
  {
   "cell_type": "markdown",
   "metadata": {
    "hidden": true
   },
   "source": [
    "**Transpose**\n",
    "<br/> To invert the the dimensions of the dataframe. That is, the rows become columns and vice versa."
   ]
  },
  {
   "cell_type": "code",
   "execution_count": null,
   "metadata": {
    "hidden": true
   },
   "outputs": [],
   "source": [
    "#transpose data\n",
    "\n",
    "toy_3.T"
   ]
  },
  {
   "cell_type": "markdown",
   "metadata": {
    "hidden": true
   },
   "source": [
    "**_Task_**\n",
    "<br/>Referring back to the duplicates section. Infer whether columns (rows when transposed) are duplicates and drop these columns."
   ]
  },
  {
   "cell_type": "markdown",
   "metadata": {
    "hidden": true
   },
   "source": [
    "**Mapping**\n",
    "\n",
    "<br/>`map` is a function which helps in the case where we want to replace multiple values at the same time. In most cases, a dictionary is used."
   ]
  },
  {
   "cell_type": "code",
   "execution_count": null,
   "metadata": {
    "hidden": true
   },
   "outputs": [],
   "source": [
    "# returning back to this df\n",
    "uk_fr_df = cordis_projects_df.loc[(cordis_projects_df['coordinatorCountry'] == 'UK') | (cordis_projects_df['coordinatorCountry'] == 'FR')]"
   ]
  },
  {
   "cell_type": "code",
   "execution_count": null,
   "metadata": {
    "hidden": true
   },
   "outputs": [],
   "source": [
    "uk_fr_df.head()"
   ]
  },
  {
   "cell_type": "code",
   "execution_count": null,
   "metadata": {
    "hidden": true
   },
   "outputs": [],
   "source": [
    "replace_dict = {\n",
    "    'UK' : 'England, Scotland, Wales and NI',\n",
    "    'FR' : 'France'\n",
    "}"
   ]
  },
  {
   "cell_type": "code",
   "execution_count": null,
   "metadata": {
    "hidden": true
   },
   "outputs": [],
   "source": [
    "uk_fr_df['coordinatorCountry'].map(replace_dict).head()"
   ]
  },
  {
   "cell_type": "markdown",
   "metadata": {
    "hidden": true
   },
   "source": [
    "**GroupBy**\n",
    "\n",
    "<br/>The `groupby` function allows for one to perform calculations and analysis on split or \"grouped\" data. "
   ]
  },
  {
   "cell_type": "code",
   "execution_count": null,
   "metadata": {
    "hidden": true,
    "scrolled": true
   },
   "outputs": [],
   "source": [
    "# returns a generator\n",
    "cordis_projects_df.groupby(by=['status'])"
   ]
  },
  {
   "cell_type": "markdown",
   "metadata": {
    "hidden": true
   },
   "source": [
    "Here, we can investigate statistical results of each numerical column based on the groups defined by applying the methods form earlier."
   ]
  },
  {
   "cell_type": "code",
   "execution_count": null,
   "metadata": {
    "hidden": true
   },
   "outputs": [],
   "source": [
    "cordis_projects_df.groupby(by=['status']).mean()"
   ]
  },
  {
   "cell_type": "code",
   "execution_count": null,
   "metadata": {
    "hidden": true
   },
   "outputs": [],
   "source": [
    "cordis_projects_df.groupby(by=['status']).sum()"
   ]
  },
  {
   "cell_type": "markdown",
   "metadata": {
    "heading_collapsed": true
   },
   "source": [
    "# Combining Data\n",
    "<br/>Combining data is important in cases where one may have multiple datasets. This is useful when enriching data."
   ]
  },
  {
   "cell_type": "markdown",
   "metadata": {
    "hidden": true
   },
   "source": [
    "**Merge**\n",
    "\n",
    "<br/>In Pandas, there are various ways to merge: `left`, `right`, `inner`, `outer`. Here, we have to specify "
   ]
  },
  {
   "cell_type": "code",
   "execution_count": null,
   "metadata": {
    "hidden": true
   },
   "outputs": [],
   "source": [
    "# merge - `left` specifies the first is the main dataframe and the other is mergeing with it \n",
    "# note, the columns must be the same in order for a smooth merge\n",
    "#note the col chosen of the chosen df of is constant and everything is depent on that (Whether it includes the lement in it's respective row)\n",
    "pd.merge(\n",
    "    toy_1,\n",
    "    toy_2,\n",
    "    how='left', \n",
    "    on= 'col2'\n",
    ")"
   ]
  },
  {
   "cell_type": "markdown",
   "metadata": {
    "hidden": true
   },
   "source": [
    "**_Task_**\n",
    "<br/>Now see what happens when the `how` parameter equals `right`, `inner` and `outer`."
   ]
  },
  {
   "cell_type": "code",
   "execution_count": null,
   "metadata": {
    "hidden": true
   },
   "outputs": [],
   "source": [
    "# write code here"
   ]
  },
  {
   "cell_type": "markdown",
   "metadata": {
    "hidden": true
   },
   "source": [
    "**Concatenate**\n",
    "<br/>Concatenating is another why of combining datasets which simply stacks two or more dataframes besides (across rows) or on-top of each other(across columns)."
   ]
  },
  {
   "cell_type": "code",
   "execution_count": null,
   "metadata": {
    "hidden": true
   },
   "outputs": [],
   "source": [
    "pd.concat([df_1,df_2]) "
   ]
  },
  {
   "cell_type": "markdown",
   "metadata": {
    "hidden": true
   },
   "source": [
    "**_Task_**\n",
    "<br/>Now see what happens when `axis` is set to `1` in the function."
   ]
  },
  {
   "cell_type": "code",
   "execution_count": null,
   "metadata": {
    "hidden": true
   },
   "outputs": [],
   "source": [
    "# write code here"
   ]
  },
  {
   "cell_type": "markdown",
   "metadata": {
    "heading_collapsed": true
   },
   "source": [
    "# Working with...\n",
    "\n",
    "Here, we will look at different non-numeric data type and how we can work with them in pandas."
   ]
  },
  {
   "cell_type": "markdown",
   "metadata": {
    "heading_collapsed": true,
    "hidden": true
   },
   "source": [
    "## DateTime\n",
    "<br />\n",
    "Luckily, the datetime fields in the Cordis dataset include datetime objects. In a lot of cases, datetime information are stored as strings. Thankfully, pandas can deal with this. These strings are transformed to datetime objects."
   ]
  },
  {
   "cell_type": "code",
   "execution_count": null,
   "metadata": {
    "hidden": true
   },
   "outputs": [],
   "source": [
    "toy_date_series = pd.Series(\n",
    "        ['19-08-01', '16-05-18', '25-04-17']\n",
    ")"
   ]
  },
  {
   "cell_type": "code",
   "execution_count": null,
   "metadata": {
    "hidden": true
   },
   "outputs": [],
   "source": [
    "toy_date_series_transformed = pd.to_datetime(toy_date_series)"
   ]
  },
  {
   "cell_type": "code",
   "execution_count": null,
   "metadata": {
    "hidden": true
   },
   "outputs": [],
   "source": [
    "# for example, the first row \n",
    "print(toy_date_series_transformed[0].year)\n",
    "print(toy_date_series_transformed[0].month)\n",
    "print(toy_date_series_transformed[0].day)"
   ]
  },
  {
   "cell_type": "markdown",
   "metadata": {
    "heading_collapsed": true,
    "hidden": true
   },
   "source": [
    "## Strings\n",
    "<br/>When working with data, you will most likely come across strings. Pandas offers the `str()` function to deal with such. This function discards of `NaN` values. "
   ]
  },
  {
   "cell_type": "code",
   "execution_count": null,
   "metadata": {
    "hidden": true
   },
   "outputs": [],
   "source": [
    "# apply lower case to all tokens\n",
    "cordis_projects_df['title'].str.lower()"
   ]
  },
  {
   "cell_type": "code",
   "execution_count": null,
   "metadata": {
    "hidden": true
   },
   "outputs": [],
   "source": [
    "# apply upper case to all tokens\n",
    "cordis_projects_df['title'].str.upper()"
   ]
  },
  {
   "cell_type": "code",
   "execution_count": null,
   "metadata": {
    "hidden": true
   },
   "outputs": [],
   "source": [
    "cordis_projects_df['title'].str.len().head()                "
   ]
  },
  {
   "cell_type": "markdown",
   "metadata": {
    "hidden": true
   },
   "source": [
    "**_Task_**\n",
    "<br/>See what happens when using the `split()` function"
   ]
  },
  {
   "cell_type": "code",
   "execution_count": null,
   "metadata": {
    "hidden": true
   },
   "outputs": [],
   "source": [
    "# write code here\n"
   ]
  },
  {
   "cell_type": "markdown",
   "metadata": {},
   "source": [
    "# Plotting"
   ]
  },
  {
   "cell_type": "markdown",
   "metadata": {},
   "source": [
    "## Pandas Plotting\n",
    "https://pandas.pydata.org/pandas-docs/stable/user_guide/visualization.html"
   ]
  },
  {
   "cell_type": "code",
   "execution_count": null,
   "metadata": {
    "scrolled": true
   },
   "outputs": [],
   "source": [
    "cordis_projects_df.plot(x ='startYear', y = 'totalCost', kind='scatter')\n",
    "plt.xlabel('Year')\n",
    "plt.ylabel('Cost')\n",
    "plt.suptitle('Total Cost per Year')\n",
    "plt.show()"
   ]
  },
  {
   "cell_type": "code",
   "execution_count": null,
   "metadata": {},
   "outputs": [],
   "source": [
    "#using the groupby df\n",
    "cordis_projects_df.groupby(by=['status']).mean().plot(kind='bar')\n",
    "plt.grid(alpha=0.2)\n",
    "plt.show()"
   ]
  },
  {
   "cell_type": "code",
   "execution_count": null,
   "metadata": {},
   "outputs": [],
   "source": [
    "cordis_projects_df.groupby(by=['status']).mean().unstack(0).plot(kind='bar')\n",
    "plt.show()"
   ]
  },
  {
   "cell_type": "code",
   "execution_count": null,
   "metadata": {
    "scrolled": false
   },
   "outputs": [],
   "source": [
    "# can stack - quite hard to see the size of each column result, plus doesn't make sense in this case\n",
    "cordis_projects_df.groupby(by=['status']).mean().plot(kind='bar', stacked=True)\n",
    "plt.grid(alpha=0.2)"
   ]
  },
  {
   "cell_type": "markdown",
   "metadata": {},
   "source": [
    "## Plotting using MatplotLib\n",
    "\n",
    "https://matplotlib.org/3.1.1/contents.html"
   ]
  },
  {
   "cell_type": "code",
   "execution_count": null,
   "metadata": {
    "scrolled": true
   },
   "outputs": [],
   "source": [
    "plt.scatter(cordis_projects_df['startYear'], cordis_projects_df['totalCost'])"
   ]
  },
  {
   "cell_type": "code",
   "execution_count": null,
   "metadata": {
    "scrolled": true
   },
   "outputs": [],
   "source": [
    "plt.bar(cordis_projects_df.groupby(by=['status']).mean()['ecMaxContribution'].index, cordis_projects_df.groupby(by=['status']).mean()['ecMaxContribution'].values)"
   ]
  },
  {
   "cell_type": "markdown",
   "metadata": {},
   "source": [
    "# Export & Save\n",
    "\n",
    "<br/> During or after  analysis or wrangling, it's import to save the dataframe being worked on. There are many ways to save but the most common format to save is `.csv`. "
   ]
  },
  {
   "cell_type": "code",
   "execution_count": null,
   "metadata": {},
   "outputs": [],
   "source": [
    "df.to_csv('directory/to/file_name.csv')"
   ]
  },
  {
   "cell_type": "code",
   "execution_count": null,
   "metadata": {},
   "outputs": [],
   "source": [
    "df.to_csv('/directory/to/file_name.csv', header=False, index=False) #doesnt save column names or indexes in the output"
   ]
  },
  {
   "cell_type": "markdown",
   "metadata": {},
   "source": [
    "# Available Datasets"
   ]
  }
 ],
 "metadata": {
  "kernelspec": {
   "display_name": "Python 3",
   "language": "python",
   "name": "python3"
  },
  "language_info": {
   "codemirror_mode": {
    "name": "ipython",
    "version": 3
   },
   "file_extension": ".py",
   "mimetype": "text/x-python",
   "name": "python",
   "nbconvert_exporter": "python",
   "pygments_lexer": "ipython3",
   "version": "3.6.9"
  },
  "toc": {
   "base_numbering": 1,
   "nav_menu": {},
   "number_sections": true,
   "sideBar": true,
   "skip_h1_title": false,
   "title_cell": "Table of Contents",
   "title_sidebar": "Contents",
   "toc_cell": false,
   "toc_position": {},
   "toc_section_display": true,
   "toc_window_display": false
  }
 },
 "nbformat": 4,
 "nbformat_minor": 2
}
