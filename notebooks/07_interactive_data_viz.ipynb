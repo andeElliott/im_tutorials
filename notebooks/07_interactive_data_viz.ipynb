{
 "cells": [
  {
   "cell_type": "markdown",
   "metadata": {},
   "source": [
    "# Interactive Innovation Mapping with Python\n",
    "\n",
    "Bring some life to your innovation mapping notebook analysis with interactive data viz! 🕹\n",
    "\n",
    "---\n",
    "\n",
    "This tutorial covers a few examples of interactive data visualisation with Python that can be used to create rich analysis notebooks or as inline prototypes for web visualisations.\n",
    "\n",
    "In this tutorial, we are going to be based on Bokeh and will make use of HoloViews, GeoViews and Datashader. There are many options for interactive data visualisation with Python however, including Altair, Plotly, Dash, and even Matplotlib, so try them out too!"
   ]
  },
  {
   "cell_type": "markdown",
   "metadata": {},
   "source": [
    "## Preamble"
   ]
  },
  {
   "cell_type": "code",
   "execution_count": null,
   "metadata": {},
   "outputs": [],
   "source": [
    "%load_ext autoreload\n",
    "%autoreload 2\n",
    "# install im_tutorial package\n",
    "# !pip install git+https://github.com/nestauk/im_tutorials.git"
   ]
  },
  {
   "cell_type": "code",
   "execution_count": null,
   "metadata": {},
   "outputs": [],
   "source": [
    "# useful Python tools\n",
    "import itertools\n",
    "import collections\n",
    "\n",
    "# matplotlib for static plots\n",
    "import matplotlib.pyplot as plt\n",
    "# networkx for networks\n",
    "import networkx as nx\n",
    "# numpy for mathematical functions\n",
    "import numpy as np\n",
    "# pandas for handling tabular data\n",
    "import pandas as pd\n",
    "# seaborn for pretty statistical plots\n",
    "import seaborn as sns\n",
    "\n",
    "pd.set_option('max_columns', 99)\n",
    "\n",
    "# basic bokeh imports for an interactive scatter plot or line chart\n",
    "from bokeh.io import show, output_notebook\n",
    "from bokeh.plotting import figure\n",
    "from bokeh.models import ColumnDataSource, Circle, Line\n",
    "\n",
    "# NB: If using Google Colab, this function must be run at \n",
    "# the end of any cell that you want to display a bokeh plot.\n",
    "# If using Jupyter, then this line need only appear once at\n",
    "# the start of the notebook.\n",
    "output_notebook()"
   ]
  },
  {
   "cell_type": "markdown",
   "metadata": {},
   "source": [
    "## Import Data"
   ]
  },
  {
   "cell_type": "code",
   "execution_count": null,
   "metadata": {},
   "outputs": [],
   "source": [
    "# The im_tutorials datasets module can be used to easily load datasets.\n",
    "from im_tutorials.data.gtr import gtr_table, gtr_link_table, gtr_table_list "
   ]
  },
  {
   "cell_type": "code",
   "execution_count": null,
   "metadata": {},
   "outputs": [],
   "source": [
    "gtr_table_list()"
   ]
  },
  {
   "cell_type": "code",
   "execution_count": null,
   "metadata": {},
   "outputs": [],
   "source": [
    "gtr_projects_df = gtr_table('projects')\n",
    "gtr_funds_df = gtr_table('funds')\n",
    "gtr_funds_link_table = gtr_link_table('funds')"
   ]
  },
  {
   "cell_type": "code",
   "execution_count": null,
   "metadata": {},
   "outputs": [],
   "source": [
    "gtr_orgs_df = gtr_table('organisations')\n",
    "gtr_org_locs_df = gtr_table('organisations_locations')"
   ]
  },
  {
   "cell_type": "markdown",
   "metadata": {},
   "source": [
    "- Join funding table to link table to get project ids. Groupby project to get start and end date, sum of funding.\n",
    "- Group leads and collaborators and create network\n",
    "- Join with project descriptions and make collaboration network with SDGs"
   ]
  },
  {
   "cell_type": "code",
   "execution_count": null,
   "metadata": {},
   "outputs": [],
   "source": [
    "from pandas import Grouper"
   ]
  },
  {
   "cell_type": "code",
   "execution_count": null,
   "metadata": {},
   "outputs": [],
   "source": [
    "gtr_funds_df = gtr_funds_df.merge(gtr_funds_link_table, left_on='id', right_on='id')"
   ]
  },
  {
   "cell_type": "code",
   "execution_count": null,
   "metadata": {},
   "outputs": [],
   "source": [
    "gtr_funds_df.shape"
   ]
  },
  {
   "cell_type": "code",
   "execution_count": null,
   "metadata": {},
   "outputs": [],
   "source": [
    "gtr_funds_df.head()"
   ]
  },
  {
   "cell_type": "code",
   "execution_count": null,
   "metadata": {},
   "outputs": [],
   "source": [
    "gtr_funds_df = gtr_funds_df.drop_duplicates(['project_id', 'amount'])"
   ]
  },
  {
   "cell_type": "code",
   "execution_count": null,
   "metadata": {},
   "outputs": [],
   "source": [
    "print('Earliest start date:', gtr_funds_df['start'].min())\n",
    "print('Earliest end date:', gtr_funds_df['end'].min())\n",
    "print('\\n')\n",
    "print('Latest start date:', gtr_funds_df['start'].max())\n",
    "print('Latest end date:', gtr_funds_df['end'].max())"
   ]
  },
  {
   "cell_type": "code",
   "execution_count": null,
   "metadata": {},
   "outputs": [],
   "source": [
    "gtr_funds_df['start'].dt.year.value_counts()[:15]"
   ]
  },
  {
   "cell_type": "code",
   "execution_count": null,
   "metadata": {},
   "outputs": [],
   "source": [
    "from im_tutorials.data.sdg import sdg_web_articles"
   ]
  },
  {
   "cell_type": "code",
   "execution_count": null,
   "metadata": {},
   "outputs": [],
   "source": [
    "gtr_funds_df['end'].dt.year.value_counts()"
   ]
  },
  {
   "cell_type": "code",
   "execution_count": null,
   "metadata": {},
   "outputs": [],
   "source": [
    "gtr_projects_df.set_index('id').loc[gtr_funds_df[gtr_funds_df['end'].dt.year == 2121]['project_id']]"
   ]
  },
  {
   "cell_type": "code",
   "execution_count": null,
   "metadata": {},
   "outputs": [],
   "source": [
    "gtr_funds_df[gtr_funds_df['end'].dt.year == 2100]"
   ]
  },
  {
   "cell_type": "code",
   "execution_count": null,
   "metadata": {},
   "outputs": [],
   "source": [
    "gtr_projects_df.set_index('id').loc[gtr_funds_df[gtr_funds_df['end'].dt.year == 2100]['project_id']]"
   ]
  },
  {
   "cell_type": "code",
   "execution_count": null,
   "metadata": {},
   "outputs": [],
   "source": [
    "gtr_funds_df = gtr_funds_df[(gtr_funds_df['start'].dt.year > 2005) & (gtr_funds_df['start'].dt.year < 2019)]"
   ]
  },
  {
   "cell_type": "code",
   "execution_count": null,
   "metadata": {},
   "outputs": [],
   "source": [
    "gtr_funds_df['end'].max()"
   ]
  },
  {
   "cell_type": "code",
   "execution_count": null,
   "metadata": {},
   "outputs": [],
   "source": [
    "duration = gtr_funds_df['end'] - gtr_funds_df['start']"
   ]
  },
  {
   "cell_type": "code",
   "execution_count": null,
   "metadata": {},
   "outputs": [],
   "source": [
    "plt.hist(duration.dt.days / 365.25, bins=100);"
   ]
  },
  {
   "cell_type": "code",
   "execution_count": null,
   "metadata": {},
   "outputs": [],
   "source": [
    "gtr_projects_funds_df = gtr_projects_df.merge(\n",
    "    gtr_funds_df, left_on='id', right_on='project_id', how='left')"
   ]
  },
  {
   "cell_type": "code",
   "execution_count": null,
   "metadata": {},
   "outputs": [],
   "source": [
    "gtr_project_funds_df = gtr_projects_funds_df.drop_duplicates(subset=['project_id'])"
   ]
  },
  {
   "cell_type": "code",
   "execution_count": null,
   "metadata": {},
   "outputs": [],
   "source": [
    "gtr_project_funds_df['start_year'] = gtr_project_funds_df['start_y'].dt.year"
   ]
  },
  {
   "cell_type": "code",
   "execution_count": null,
   "metadata": {},
   "outputs": [],
   "source": [
    "hv.Scatter(gtr_project_funds_df, 'start_year', 'amount')"
   ]
  },
  {
   "cell_type": "code",
   "execution_count": null,
   "metadata": {},
   "outputs": [],
   "source": []
  },
  {
   "cell_type": "code",
   "execution_count": null,
   "metadata": {},
   "outputs": [],
   "source": [
    "grouper = Grouper(key='start_y', freq='YS')\n",
    "amount_year_sum = gtr_project_funds_df.groupby([grouper, 'leadFunder'])['amount'].sum()\n",
    "amount_year_sum = amount_year_sum.loc[\n",
    "    pd.to_datetime('2006-01-01'):pd.to_datetime('2018-01-01')].unstack()"
   ]
  },
  {
   "cell_type": "code",
   "execution_count": null,
   "metadata": {},
   "outputs": [],
   "source": [
    "amount_year_sum_rolling = amount_year_sum.rolling(3).mean()"
   ]
  },
  {
   "cell_type": "code",
   "execution_count": null,
   "metadata": {},
   "outputs": [],
   "source": [
    "fig, ax = plt.subplots(figsize=(10, 6))\n",
    "ax.plot(amount_year_sum_rolling, marker='o')\n",
    "ax.legend(amount_year_sum_rolling.columns);"
   ]
  },
  {
   "cell_type": "code",
   "execution_count": null,
   "metadata": {},
   "outputs": [],
   "source": [
    "def sine_curve(phase, freq):\n",
    "    xvals = [0.1* i for i in range(100)]\n",
    "    return hv.Curve((xvals, [np.sin(phase+freq*x) for x in xvals]))\n",
    "\n",
    "curve_dict = {f:sine_curve(0,f) for f in frequencies}"
   ]
  },
  {
   "cell_type": "code",
   "execution_count": null,
   "metadata": {},
   "outputs": [],
   "source": []
  },
  {
   "cell_type": "code",
   "execution_count": null,
   "metadata": {},
   "outputs": [],
   "source": [
    "def make_multi_line_plot():\n",
    "    \n",
    "\n",
    "hv.NdOverlay(\n",
    "    {c: hv.Path((amount_year_sum.index.values, amount_year_sum[c])) for c in amount_year_sum.columns}).opts(\n",
    "    'Histogram', width=1000, alpha=0.8, muted_alpha=0.1)"
   ]
  },
  {
   "cell_type": "code",
   "execution_count": null,
   "metadata": {},
   "outputs": [],
   "source": [
    "ndoverlay = hv.NdOverlay(curve_dict, kdims='frequency')"
   ]
  },
  {
   "cell_type": "code",
   "execution_count": null,
   "metadata": {},
   "outputs": [],
   "source": [
    "from bokeh.palettes import Category10_9\n",
    "from bokeh.models import PrintfTickFormatter, HoverTool"
   ]
  },
  {
   "cell_type": "code",
   "execution_count": null,
   "metadata": {},
   "outputs": [],
   "source": [
    "HoverTool??"
   ]
  },
  {
   "cell_type": "code",
   "execution_count": null,
   "metadata": {},
   "outputs": [],
   "source": [
    "hover = HoverTool(tooltips=[('Amount', '£@y{( 0.00 a)}'),\n",
    "                           ('Year', '@x{%F}'),\n",
    "                           ('Funder', '$name')],\n",
    "                 line_policy='nearest',\n",
    "                 formatters={'x': 'datetime'}\n",
    "                 )\n",
    "\n",
    "p = figure(width=750, height=400, x_axis_type='datetime',\n",
    "          title='Total Awards by Funder over Time')\n",
    "\n",
    "for i, c in enumerate(amount_year_sum.columns):\n",
    "    color = Category10_9[i]\n",
    "    p.line(x=amount_year_sum_rolling.index.values, y=amount_year_sum_rolling[c], \n",
    "           legend=c, color=color, line_width=2, alpha=0.7, name=c,\n",
    "           muted_alpha=0.1, muted_color=color)\n",
    "    p.circle(x=amount_year_sum_rolling.index.values, y=amount_year_sum_rolling[c], \n",
    "             legend=c, color=color, name=c,\n",
    "             muted_alpha=0.1, muted_color=color)\n",
    "\n",
    "p.xaxis.axis_label = 'Year'\n",
    "p.yaxis.axis_label = 'Total Funding'    \n",
    "p.yaxis[0].formatter = PrintfTickFormatter(format=\"£%.1e\")\n",
    "p.legend.click_policy = \"mute\"\n",
    "p.legend.location = 'top_left'\n",
    "p.legend.label_text_font_size = '8pt'\n",
    "\n",
    "p.add_tools(hover)\n",
    "    \n",
    "show(p)"
   ]
  },
  {
   "cell_type": "code",
   "execution_count": null,
   "metadata": {},
   "outputs": [],
   "source": [
    "ds = hv.Dataset(amount_year_sum)"
   ]
  },
  {
   "cell_type": "code",
   "execution_count": null,
   "metadata": {},
   "outputs": [],
   "source": [
    "amount_year_sum = amount_year_sum.reset_index()"
   ]
  },
  {
   "cell_type": "code",
   "execution_count": null,
   "metadata": {},
   "outputs": [],
   "source": [
    "scatter = hv.Curve(amount_year_sum, 'start_y', 'EPSRC')"
   ]
  },
  {
   "cell_type": "code",
   "execution_count": null,
   "metadata": {},
   "outputs": [],
   "source": [
    "np.arange(NLINES)[np.newaxis, :]"
   ]
  },
  {
   "cell_type": "code",
   "execution_count": null,
   "metadata": {},
   "outputs": [],
   "source": [
    "hv.NdOverlay(\n",
    "    {c: hv.Path((amount_year_sum.index.values, amount_year_sum[c])) for c in amount_year_sum.columns}).opts(\n",
    "    'Histogram', width=1000, alpha=0.8, muted_alpha=0.1)"
   ]
  },
  {
   "cell_type": "code",
   "execution_count": null,
   "metadata": {},
   "outputs": [],
   "source": [
    "hv.Path(aamount_year_sum.columns, amount_year_sum)"
   ]
  },
  {
   "cell_type": "code",
   "execution_count": null,
   "metadata": {},
   "outputs": [],
   "source": [
    "(np.arange(N), np.random.rand(N, NLINES) + np.arange(NLINES)[np.newaxis, :])"
   ]
  },
  {
   "cell_type": "code",
   "execution_count": null,
   "metadata": {},
   "outputs": [],
   "source": [
    "hv.Path"
   ]
  },
  {
   "cell_type": "code",
   "execution_count": null,
   "metadata": {},
   "outputs": [],
   "source": [
    "hv.help(hv.Path)"
   ]
  },
  {
   "cell_type": "code",
   "execution_count": null,
   "metadata": {},
   "outputs": [],
   "source": [
    "fig, ax = plt.subplots()\n",
    "ax.hist(np.log10(gtr_funds_df[gtr_funds_df['amount'] > 0]\n",
    "                 .groupby('project_id')['amount'].sum()), bins=100);\n",
    "# ax.set_xscale('log')"
   ]
  },
  {
   "cell_type": "markdown",
   "metadata": {},
   "source": [
    "### Datashader Map"
   ]
  },
  {
   "cell_type": "code",
   "execution_count": null,
   "metadata": {},
   "outputs": [],
   "source": [
    "import datashader as ds, datashader.transfer_functions as tf, numpy as np\n",
    "from datashader import spatial\n",
    "from functools import partial\n",
    "from datashader.utils import export_image\n",
    "from datashader.colors import colormap_select, Greys9\n",
    "from IPython.core.display import HTML, display"
   ]
  },
  {
   "cell_type": "code",
   "execution_count": null,
   "metadata": {},
   "outputs": [],
   "source": [
    "from colorcet import fire\n",
    "from datashader.utils import lnglat_to_meters as webm"
   ]
  },
  {
   "cell_type": "code",
   "execution_count": null,
   "metadata": {},
   "outputs": [],
   "source": [
    "gtr_org_locs_df['easting'], gtr_org_locs_df['northing'] = webm(gtr_org_locs_df['longitude'], gtr_org_locs_df['latitude'])"
   ]
  },
  {
   "cell_type": "code",
   "execution_count": null,
   "metadata": {},
   "outputs": [],
   "source": [
    "import holoviews as hv\n",
    "from holoviews.element import tiles\n",
    "from holoviews.operation.datashader import datashade\n",
    "hv.extension('bokeh', logo=False)"
   ]
  },
  {
   "cell_type": "code",
   "execution_count": null,
   "metadata": {},
   "outputs": [],
   "source": [
    "from holoviews.streams import RangeXY"
   ]
  },
  {
   "cell_type": "code",
   "execution_count": null,
   "metadata": {},
   "outputs": [],
   "source": [
    "from colorcet import kbc"
   ]
  },
  {
   "cell_type": "code",
   "execution_count": null,
   "metadata": {},
   "outputs": [],
   "source": [
    "cmap = kbc"
   ]
  },
  {
   "cell_type": "code",
   "execution_count": null,
   "metadata": {},
   "outputs": [],
   "source": [
    "import geoviews as gv\n",
    "import cartopy.crs as crs"
   ]
  },
  {
   "cell_type": "code",
   "execution_count": null,
   "metadata": {},
   "outputs": [],
   "source": [
    "url = 'https://server.arcgisonline.com/ArcGIS/rest/services/World_Imagery/MapServer/tile/{Z}/{Y}/{X}.jpg'\n",
    "\n",
    "map_tiles = gv.WMTS(url, crs=crs.GOOGLE_MERCATOR)"
   ]
  },
  {
   "cell_type": "code",
   "execution_count": null,
   "metadata": {},
   "outputs": [],
   "source": [
    "from holoviews.operation.datashader import datashade, dynspread\n"
   ]
  },
  {
   "cell_type": "code",
   "execution_count": null,
   "metadata": {},
   "outputs": [],
   "source": [
    "width=600\n",
    "height=600\n",
    "\n",
    "opts = dict(width=width, height=height, x_sampling=1, y_sampling=1, cmap=cmap, dynamic=False)\n",
    "tile_opts  = dict(width=width, height=height, xaxis=None, yaxis=None, bgcolor='white', show_grid=False)\n",
    "\n",
    "\n",
    "def make_view(x_range, y_range, **kwargs):\n",
    "    tiles = map_tiles.options(alpha=0.5, **tile_opts)\n",
    "    points = hv.Points(gtr_org_locs_df, ['easting', 'northing'])\n",
    "    d = dynspread(datashade(points, x_range=x_range, y_range=y_range, **opts), shape='circle', threshold=.2)\n",
    "    return d * tiles"
   ]
  },
  {
   "cell_type": "code",
   "execution_count": null,
   "metadata": {},
   "outputs": [],
   "source": [
    "dmap = hv.DynamicMap(make_view, streams=[RangeXY()])\n",
    "plot = hv.renderer('bokeh').instance(mode='server').get_plot(dmap)\n",
    "dmap"
   ]
  },
  {
   "cell_type": "code",
   "execution_count": null,
   "metadata": {},
   "outputs": [],
   "source": []
  },
  {
   "cell_type": "code",
   "execution_count": null,
   "metadata": {},
   "outputs": [],
   "source": [
    "df_gtr = df_gtr[(df_gtr['rel'] == 'LEAD_ORG') |\n",
    "               (df_gtr['rel'] == 'COLLAB_ORG') | \n",
    "               (df_gtr['rel'] == 'PARTICIPANT_ORG')]"
   ]
  },
  {
   "cell_type": "code",
   "execution_count": null,
   "metadata": {},
   "outputs": [],
   "source": [
    "df_gtr.head()"
   ]
  },
  {
   "cell_type": "code",
   "execution_count": null,
   "metadata": {},
   "outputs": [],
   "source": [
    "np.sum(df_gtr['id'].value_counts() > 50)"
   ]
  },
  {
   "cell_type": "code",
   "execution_count": null,
   "metadata": {},
   "outputs": [],
   "source": [
    "df_gtr['rel'].value_counts()"
   ]
  },
  {
   "cell_type": "code",
   "execution_count": null,
   "metadata": {},
   "outputs": [],
   "source": [
    "gtr_df = gtr_df[~pd.isnull(gtr_df['research_topics'])]"
   ]
  },
  {
   "cell_type": "code",
   "execution_count": null,
   "metadata": {},
   "outputs": [],
   "source": [
    "from sklearn.preprocessing import MultiLabelBinarizer\n",
    "from itertools import chain\n",
    "\n",
    "from sklearn.decomposition import TruncatedSVD\n",
    "from sklearn.manifold import TSNE\n",
    "\n",
    "from annoy import AnnoyIndex"
   ]
  },
  {
   "cell_type": "code",
   "execution_count": null,
   "metadata": {},
   "outputs": [],
   "source": [
    "topics = sorted(set(chain(*gtr_df['research_topics'])))\n",
    "mlb = MultiLabelBinarizer(classes=topics)\n",
    "df_topics = pd.DataFrame(mlb.fit_transform(gtr_df['research_topics']), columns=topics)\n",
    "df_topics = df_topics.T"
   ]
  },
  {
   "cell_type": "code",
   "execution_count": null,
   "metadata": {},
   "outputs": [],
   "source": [
    "svd = TruncatedSVD(n_components=30)\n",
    "tsne = TSNE(n_components=2)\n",
    "\n",
    "svd_vecs = svd.fit_transform(df_topics)\n",
    "tsne_vecs = tsne.fit_transform(svd_vecs)"
   ]
  },
  {
   "cell_type": "code",
   "execution_count": null,
   "metadata": {},
   "outputs": [],
   "source": [
    "from gensim.sklearn_api.phrases import PhrasesTransformer"
   ]
  },
  {
   "cell_type": "code",
   "execution_count": null,
   "metadata": {},
   "outputs": [],
   "source": [
    "t = AnnoyIndex(30, 'angular')  # Length of item vector that will be indexed\n",
    "for i in range(df_topics.shape[0]):\n",
    "    t.add_item(i, svd_vecs[i])\n",
    "    \n",
    "t.build(500) # 10 trees"
   ]
  },
  {
   "cell_type": "code",
   "execution_count": null,
   "metadata": {},
   "outputs": [],
   "source": [
    "min_dist = 0.9\n",
    "\n",
    "dists = {}\n",
    "edges = []\n",
    "for i in range(df_topics.shape[0]):\n",
    "    closest = t.get_nns_by_item(i, 5)\n",
    "    source = df_topics.index[closest[0]]\n",
    "    closest = t.get_nns_by_item(i, 5)[1:]\n",
    "    for n in closest:\n",
    "        dist = t.get_distance(i, n)\n",
    "        if dist <= min_dist:\n",
    "            ns = df_topics.index[n]\n",
    "            edge = tuple(sorted([source, ns]))\n",
    "            edges.append(edge)\n",
    "            dists[edge] = dist\n"
   ]
  },
  {
   "cell_type": "code",
   "execution_count": null,
   "metadata": {},
   "outputs": [],
   "source": [
    "from collections import Counter\n",
    "import networkx as nx"
   ]
  },
  {
   "cell_type": "code",
   "execution_count": null,
   "metadata": {},
   "outputs": [],
   "source": [
    "edge_list = []\n",
    "for k, v in Counter(edges).items():\n",
    "    edge_list.append([k[0], k[1], {'weight': dists[k]}])\n",
    "    \n",
    "g = nx.Graph()\n",
    "g.add_edges_from(edge_list)\n",
    "\n",
    "nx.draw(g, node_size=25, weight='weight')"
   ]
  },
  {
   "cell_type": "code",
   "execution_count": null,
   "metadata": {},
   "outputs": [],
   "source": [
    "plt.scatter(tsne_vecs[:, 0], tsne_vecs[:, 1])"
   ]
  },
  {
   "cell_type": "code",
   "execution_count": null,
   "metadata": {},
   "outputs": [],
   "source": []
  },
  {
   "cell_type": "code",
   "execution_count": null,
   "metadata": {},
   "outputs": [],
   "source": [
    "funders_time_df = gtr_df.groupby(['start_year', 'funder_name'])['project_id'].count().unstack().loc[2006:2016]\n",
    "cds = ColumnDataSource.from_df(funders_time_df)"
   ]
  },
  {
   "cell_type": "code",
   "execution_count": null,
   "metadata": {},
   "outputs": [],
   "source": [
    "funders_time_df.shape"
   ]
  },
  {
   "cell_type": "code",
   "execution_count": null,
   "metadata": {},
   "outputs": [],
   "source": [
    "from bokeh.palettes import Category20_11\n",
    "from bokeh.models import HoverTool"
   ]
  },
  {
   "cell_type": "code",
   "execution_count": null,
   "metadata": {},
   "outputs": [],
   "source": [
    "cmap = Category20_11"
   ]
  },
  {
   "cell_type": "code",
   "execution_count": null,
   "metadata": {},
   "outputs": [],
   "source": [
    "x = cmap.pop()"
   ]
  },
  {
   "cell_type": "code",
   "execution_count": null,
   "metadata": {},
   "outputs": [],
   "source": [
    "hover = HoverTool(tooltips=[], mode='vline')\n",
    "\n",
    "p = figure()\n",
    "\n",
    "for i, c in enumerate(funders_time_df.columns):\n",
    "    p.line(source=cds, x='start_year', y=c, line_width=2, alpha=0.9, color=Category20_11[i],\n",
    "          name='x')\n",
    "    hover.tooltips.append((f'{c}', f'@{c}'))\n",
    "p.add_tools(hover)\n",
    "    \n",
    "show(p)"
   ]
  },
  {
   "cell_type": "code",
   "execution_count": null,
   "metadata": {},
   "outputs": [],
   "source": [
    "p = figure"
   ]
  },
  {
   "cell_type": "code",
   "execution_count": null,
   "metadata": {},
   "outputs": [],
   "source": []
  }
 ],
 "metadata": {
  "language_info": {
   "name": "python",
   "pygments_lexer": "ipython3"
  }
 },
 "nbformat": 4,
 "nbformat_minor": 4
}
