{
 "cells": [
  {
   "cell_type": "code",
   "execution_count": null,
   "metadata": {},
   "outputs": [],
   "source": [
    "import graph_tool as gt\n",
    "from graph_tool.draw import graph_draw\n",
    "\n",
    "from itertools import chain"
   ]
  },
  {
   "cell_type": "code",
   "execution_count": null,
   "metadata": {},
   "outputs": [],
   "source": [
    "nodes = {\n",
    "    'Redefining Progress': 'central',\n",
    "    'Localising Planetary Health': 'inner',\n",
    "    'Vulnerable Populations': 'inner',\n",
    "    'Stewardship': 'inner'\n",
    "}"
   ]
  },
  {
   "cell_type": "code",
   "execution_count": null,
   "metadata": {},
   "outputs": [],
   "source": [
    "g = gt.Graph()\n",
    "\n",
    "g.add_vertex(len(nodes.keys()))\n",
    "g.vp['type'] = g.new_vertex_property('string')\n",
    "g.vp['name'] = g.new_vertex_property('string')\n",
    "\n",
    "for v, (node_name, node_type) in enumerate(nodes.items()):\n",
    "    g.vp['name'][v] = node_name\n",
    "    g.vp['type'][v] = node_type"
   ]
  },
  {
   "cell_type": "code",
   "execution_count": null,
   "metadata": {},
   "outputs": [],
   "source": [
    "graph_draw(g, vertex_text=g.vp['name'])"
   ]
  },
  {
   "cell_type": "code",
   "execution_count": null,
   "metadata": {},
   "outputs": [],
   "source": []
  }
 ],
 "metadata": {
  "language_info": {
   "name": "python",
   "pygments_lexer": "ipython3"
  }
 },
 "nbformat": 4,
 "nbformat_minor": 2
}
